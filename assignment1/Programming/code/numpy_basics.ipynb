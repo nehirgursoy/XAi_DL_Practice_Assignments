{
 "cells": [
  {
   "cell_type": "markdown",
   "metadata": {
    "pycharm": {
     "name": "#%% md\n"
    }
   },
   "source": [
    "# Numpy Basics \\[24 points\\]"
   ]
  },
  {
   "cell_type": "markdown",
   "metadata": {
    "collapsed": false,
    "jupyter": {
     "outputs_hidden": false
    },
    "pycharm": {
     "name": "#%% md\n"
    }
   },
   "source": [
    "<b><span style=\"color:#00CED1\">Association:</span></b>\n",
    "<span style=\"color:#00CED1\">Otto-Friedrich University of Bamberg</span>\n",
    "<span style=\"color:#00CED1\">Chair of Explainable Machine Learning (xAI)</span>\n",
    "<span style=\"color:#00CED1\">Deep Learning Assignments</span>\n",
    "\n",
    "<b><span style=\"color:#00CED1\">Description:</span></b>\n",
    "<span style=\"color:#00CED1\">This notebook introduces the basic functions and processes of the free numpy package.</span>\n",
    "<span style=\"color:#00CED1\">Students will learn how to use those functions and are able to test their implementations directly via provided unittests.</span>\n",
    "\n",
    "<span style=\"color:#00CED1\"><b>Author:</b> Sebastian Doerrich</span>\n",
    "<span style=\"color:#00CED1\"><b>Copyright:</b> Copyright (c) 2022, Chair of Explainable Machine Learning (xAI), Otto-Friedrich University of Bamberg</span>\n",
    "<span style=\"color:#00CED1\"><b>Credits:</b> Christian Ledig, Sebastian Doerrich</span>\n",
    "<span style=\"color:#00CED1\"><b>License:</b> CC BY-SA</span>\n",
    "<span style=\"color:#00CED1\"><b>Version:</b> 1.0</span>\n",
    "<span style=\"color:#00CED1\"><b>Python:</b> Python 3</span>\n",
    "<span style=\"color:#00CED1\"><b>Maintainer:</b> Sebastian Doerrich</span>\n",
    "<span style=\"color:#00CED1\"><b>Email:</b> sebastian.doerrich@uni-bamberg.de</span>\n",
    "<span style=\"color:#00CED1\"><b>Status:</b> Production</span>"
   ]
  },
  {
   "cell_type": "markdown",
   "metadata": {
    "collapsed": false,
    "jupyter": {
     "outputs_hidden": false
    },
    "pycharm": {
     "name": "#%% md\n"
    }
   },
   "source": [
    "## Context\n",
    "Welcome to your first assignment.\n",
    "This first part of the exercise gives you a brief introduction to the numpy package provided by Python.\n",
    "\n",
    "## Instructions\n",
    "- You will be using Python 3.\n",
    "- After coding your function, run the cell right below it to check if your result is correct.\n",
    "\n",
    "## Important Notes for Your Submission\n",
    "Before submitting your assignment, please make sure you are not doing the following:\n",
    "\n",
    "1. You have not added any _extra_ `print` statement(s) in the assignment.\n",
    "2. You have not added any _extra_ code cell(s) in the assignment.\n",
    "3. You have not changed any of the function parameters.\n",
    "4. You are not using any global variables inside your graded exercises. Unless specifically instructed to do so, please refrain from it and use the local variables instead.\n",
    "5. You are not changing the assignment code where it is not required, like creating _extra_ variables.\n",
    "\n",
    "If you do any of the mentioned, our test scripts will fail and as a result you will receive **0 points** for the respective task.\n",
    "\n",
    "## Table of Contents\n",
    "- [0 - Import the Necessary Libraries](#0)\n",
    "- [1 - Basic Numpy Functions \\[25 points\\]](#1)\n",
    "    - [1.1 - General Array Properties \\[1 point\\]](#1-1)\n",
    "    - [1.2 - Creating Arrays \\[2 points\\]](#1-2)\n",
    "    - [1.3 - Array Handling \\[4 points\\]](#1-3)\n",
    "    - [1.4 - Calculating with Arrays \\[5 points\\]](#1-4)\n",
    "    - [1.5 - Statistics with Arrays \\[1 point\\]](#1-5)\n",
    "    - [1.6 - Array Slicing 1D \\[5 points\\]](#1-6)\n",
    "    - [1.7 - Array Slicing 2D \\[7 points\\]](#1-7)\n",
    "- [2 - End of Exercise](#2)"
   ]
  },
  {
   "cell_type": "markdown",
   "metadata": {
    "collapsed": false,
    "jupyter": {
     "outputs_hidden": false
    },
    "pycharm": {
     "name": "#%% md\n"
    }
   },
   "source": [
    "<a name='0'></a>\n",
    "## 0 - Import the Necessary Libraries ##"
   ]
  },
  {
   "cell_type": "code",
   "execution_count": 1,
   "metadata": {
    "collapsed": false,
    "jupyter": {
     "outputs_hidden": false
    },
    "pycharm": {
     "is_executing": true,
     "name": "#%%\n"
    }
   },
   "outputs": [],
   "source": [
    "# Import packages\n",
    "import numpy as np"
   ]
  },
  {
   "cell_type": "markdown",
   "metadata": {
    "collapsed": false,
    "jupyter": {
     "outputs_hidden": false
    },
    "pycharm": {
     "name": "#%% md\n"
    }
   },
   "source": []
  },
  {
   "cell_type": "markdown",
   "metadata": {
    "collapsed": false,
    "jupyter": {
     "outputs_hidden": false
    },
    "pycharm": {
     "name": "#%% md\n"
    }
   },
   "source": [
    "<a id='1'></a>\n",
    "## 1 - Basic Numpy Functions \\[24 points\\] ##\n",
    "\n",
    "[Numpy](https://numpy.org/) is the main, fundamental package for scientific computing in Python. It is well-optimized, fast, easy to use and provides lots of useful mathematical functions as well as linear algebra routines. Thanks to its fast and  versatile vectorization, indexing and broadcasting concepts it poses the standard for array computing in Python. In this exercise you will get to know some of the most important functions and learn how to use these which in the end will help you succeed in future assignments."
   ]
  },
  {
   "cell_type": "markdown",
   "metadata": {
    "pycharm": {
     "name": "#%% md\n"
    }
   },
   "source": [
    "<a name='1-1'></a>\n",
    "### 1.1 - General Array Properties \\[1 point\\] ###\n",
    "\n",
    "In this exercise you will learn how to extract the dimensions of a given numpy-array.\n",
    "\n",
    "<b><span style=\"color:teal\">TODO:</span> <b>\n",
    "<dl>\n",
    "<dd><span style=\"color:teal\">1. Extract the shape of a given array and return it as a tuple.</span> </dd>\n",
    "<dd><span style=\"color:teal\">2. Extract the product of the array dimensions and return it as a scalar.</dd>\n",
    "</dl>"
   ]
  },
  {
   "cell_type": "code",
   "execution_count": 2,
   "metadata": {
    "collapsed": false,
    "jupyter": {
     "outputs_hidden": false
    },
    "pycharm": {
     "name": "#%%\n"
    }
   },
   "outputs": [],
   "source": [
    "def extract_array_dimensions_01(a:np.ndarray):\n",
    "    \"\"\"\n",
    "    Extract the shape of an n-dimensional array.\n",
    "\n",
    "    :param a: Given n-dimensional array (np.ndarray).\n",
    "    :return:\n",
    "        shape: Shape of the array.\n",
    "    \"\"\"\n",
    "\n",
    "    shape = None\n",
    "\n",
    "    #############################################################################\n",
    "    #                            START OF YOUR CODE                             #\n",
    "    # TODO:                                                                     #\n",
    "    #    1) Extract the shape of a given array and return it as a tuple         #\n",
    "    #############################################################################\n",
    "    shape=a.shape\n",
    "\n",
    "    #############################################################################\n",
    "    #                              END OF YOUR CODE                             #\n",
    "    #############################################################################\n",
    "\n",
    "    return shape"
   ]
  },
  {
   "cell_type": "code",
   "execution_count": 3,
   "metadata": {
    "collapsed": false,
    "jupyter": {
     "outputs_hidden": false
    },
    "pycharm": {
     "name": "#%%\n"
    }
   },
   "outputs": [],
   "source": [
    "def extract_array_dimensions_02(a:np.ndarray):\n",
    "    \"\"\"\n",
    "    Extract the product of the dimensions of an array.\n",
    "\n",
    "    :param a: Given n-dimensional array (np.ndarray).\n",
    "    :return:\n",
    "        size: Product of the array dimensions.\n",
    "    \"\"\"\n",
    "\n",
    "    size = None\n",
    "\n",
    "    #############################################################################\n",
    "    #                            START OF YOUR CODE                             #\n",
    "    # TODO:                                                                     #\n",
    "    #    1) Extract the product of the array dimensions and return it as a      #\n",
    "    #       scalar                                                              #\n",
    "    #############################################################################\n",
    "    for dim in a.shape:\n",
    "      if size is None:\n",
    "          size = dim\n",
    "      else:\n",
    "          size *= dim\n",
    "\n",
    "    #############################################################################\n",
    "    #                              END OF YOUR CODE                             #\n",
    "    #############################################################################\n",
    "\n",
    "    return size\n",
    "    "
   ]
  },
  {
   "cell_type": "code",
   "execution_count": 4,
   "metadata": {
    "collapsed": false,
    "jupyter": {
     "outputs_hidden": false
    },
    "pycharm": {
     "name": "#%%\n"
    }
   },
   "outputs": [
    {
     "name": "stderr",
     "output_type": "stream",
     "text": [
      "..\n",
      "----------------------------------------------------------------------\n",
      "Ran 2 tests in 0.000s\n",
      "\n",
      "OK\n"
     ]
    }
   ],
   "source": [
    "# Test your code\n",
    "\n",
    "!python ./tests/test_numpy_basics.py --test_case TestArrayProperties"
   ]
  },
  {
   "cell_type": "markdown",
   "metadata": {
    "collapsed": false,
    "jupyter": {
     "outputs_hidden": false
    }
   },
   "source": []
  },
  {
   "cell_type": "markdown",
   "metadata": {
    "collapsed": false,
    "jupyter": {
     "outputs_hidden": false
    },
    "pycharm": {
     "name": "#%% md\n"
    }
   },
   "source": [
    "<a name='1-2'></a>\n",
    "### 1.2 - Creating Arrays \\[2 points\\] ###\n",
    "\n",
    "In this exercise you will learn how to create numpy arrays.\n",
    "\n",
    "<b><span style=\"color:teal\">TODO:</span> <b>\n",
    "<dl>\n",
    "<dd><span style=\"color:teal\">1. Create an array with a specified shape filled only with zeros.</span> </dd>\n",
    "<dd><span style=\"color:teal\">2. Create an array with a specified shape filled only with ones.</dd>\n",
    "<dd><span style=\"color:teal\">3. Create an array with the shape of the input array filled only with zeros.</dd>\n",
    "<dd><span style=\"color:teal\">4. Create an array with values between a specified range and specified step size.</dd>\n",
    "<dd><span style=\"color:teal\">5. Create an array by creating a specified amount of elements between two specified values.</dd>\n",
    "</dl>"
   ]
  },
  {
   "cell_type": "code",
   "execution_count": 5,
   "metadata": {
    "collapsed": false,
    "jupyter": {
     "outputs_hidden": false
    }
   },
   "outputs": [],
   "source": [
    "def create_numpy_arrays_01(zeros_shape:tuple):\n",
    "    \"\"\"\n",
    "    Create arrays with a specified shape filled with specified values.\n",
    "\n",
    "    :param zeros_shape: Shape of the array to be filled only with zeros (tuple).\n",
    "\n",
    "    :return:\n",
    "        zeros_ar: Array of shape 'zeros_shape' that is filled only with zeros.\n",
    "    \"\"\"\n",
    "\n",
    "    zeros_ar = None\n",
    "\n",
    "    #############################################################################\n",
    "    #                            START OF YOUR CODE                             #\n",
    "    # TODO:                                                                     #\n",
    "    #    1) Create an array with a specified shape filled only with zeros       #\n",
    "    #############################################################################\n",
    "    zeros_ar = np.zeros(zeros_shape)\n",
    "\n",
    "    #############################################################################\n",
    "    #                              END OF YOUR CODE                             #\n",
    "    #############################################################################\n",
    "\n",
    "    return zeros_ar"
   ]
  },
  {
   "cell_type": "code",
   "execution_count": 6,
   "metadata": {
    "collapsed": false,
    "jupyter": {
     "outputs_hidden": false
    }
   },
   "outputs": [],
   "source": [
    "def create_numpy_arrays_02(ones_shape:tuple):\n",
    "    \"\"\"\n",
    "    Create arrays with a specified shape filled with specified values.\n",
    "\n",
    "    :param ones_shape: Shape of the array to be filled only with ones (tuple).\n",
    "\n",
    "    :return:\n",
    "        ones_ar: Array of shape 'ones_shape' that is filled only with zeros.\n",
    "    \"\"\"\n",
    "\n",
    "    ones_ar = None\n",
    "\n",
    "    #############################################################################\n",
    "    #                            START OF YOUR CODE                             #\n",
    "    # TODO:                                                                     #\n",
    "    #    1) Create an array with a specified shape filled only with ones        #\n",
    "    #############################################################################\n",
    "    ones_ar = np.ones(ones_shape)\n",
    "\n",
    "    #############################################################################\n",
    "    #                              END OF YOUR CODE                             #\n",
    "    #############################################################################\n",
    "\n",
    "    return ones_ar"
   ]
  },
  {
   "cell_type": "code",
   "execution_count": 7,
   "metadata": {
    "collapsed": false,
    "jupyter": {
     "outputs_hidden": false
    }
   },
   "outputs": [],
   "source": [
    "def create_numpy_arrays_03(replace_with_zeros:np.ndarray):\n",
    "    \"\"\"\n",
    "    Create arrays with a specified shape filled with specified values.\n",
    "\n",
    "    :param replace_with_zeros: Array which entries shall be replaced with zeros (np.ndarray).\n",
    "\n",
    "    :return:\n",
    "        zeroed_ar: Array 'replace_with_zeros' but it is filled only with zeros.\n",
    "    \"\"\"\n",
    "\n",
    "    zeroed_ar = None\n",
    "\n",
    "    #############################################################################\n",
    "    #                            START OF YOUR CODE                             #\n",
    "    # TODO:                                                                     #\n",
    "    #    1) Create an array with the shape of the input array filled only with  #\n",
    "    #       zeros                                                               #\n",
    "    #############################################################################\n",
    "    zeroed_ar = np.zeros_like(replace_with_zeros)\n",
    "\n",
    "    #############################################################################\n",
    "    #                              END OF YOUR CODE                             #\n",
    "    #############################################################################\n",
    "\n",
    "    return zeroed_ar"
   ]
  },
  {
   "cell_type": "code",
   "execution_count": 8,
   "metadata": {
    "collapsed": false,
    "jupyter": {
     "outputs_hidden": false
    }
   },
   "outputs": [],
   "source": [
    "def create_numpy_arrays_04(ranged_values:list):\n",
    "    \"\"\"\n",
    "    Create arrays with a specified shape filled with specified values.\n",
    "\n",
    "    :param ranged_values: List containing start, stop and step size of the range an array shall be created for ([start:int, stop:int, step_size:int]).\n",
    "    \n",
    "    :return:\n",
    "        range_ar: Array containing the values from 'ranged_values[0]=start', 'ranged_values[1]=end' with step size 'ranged_values[2]=step_size'.\n",
    "    \"\"\"\n",
    "\n",
    "    range_ar = None\n",
    "\n",
    "    #############################################################################\n",
    "    #                            START OF YOUR CODE                             #\n",
    "    # TODO:                                                                     #\n",
    "    #    1) Create an array with values between a specified range and specified #\n",
    "    #       step size                                                           #\n",
    "    #############################################################################\n",
    "    start, stop, step_size = ranged_values\n",
    "    range_ar = np.arange(start, stop, step_size)\n",
    "\n",
    "    #############################################################################\n",
    "    #                              END OF YOUR CODE                             #\n",
    "    #############################################################################\n",
    "\n",
    "    return range_ar"
   ]
  },
  {
   "cell_type": "code",
   "execution_count": 9,
   "metadata": {
    "collapsed": false,
    "jupyter": {
     "outputs_hidden": false
    }
   },
   "outputs": [],
   "source": [
    "def create_numpy_arrays_05(element_array:list):\n",
    "    \"\"\"\n",
    "    Create arrays with a specified shape filled with specified values.\n",
    "\n",
    "    :param element_array: List containing start, stop and the number of values an array shall be created for ([start:float, stop:float, number_values:int]).\n",
    "    \n",
    "    :return:\n",
    "        element_ar: Array containing the amount of values 'element_array[2]=number_values' between the values from 'element_array[0]=start' and 'element_array[1]=end'.\n",
    "    \"\"\"\n",
    "\n",
    "    element_ar = None\n",
    "\n",
    "    #############################################################################\n",
    "    #                            START OF YOUR CODE                             #\n",
    "    # TODO:                                                                     #\n",
    "    #    1) Create an array by creating a specified amount of elements between  #\n",
    "    #       two specified values                                                #\n",
    "    #############################################################################\n",
    "    start, stop, number_values = element_array\n",
    "    element_ar = np.linspace(start, stop, number_values)\n",
    "\n",
    "    #############################################################################\n",
    "    #                              END OF YOUR CODE                             #\n",
    "    #############################################################################\n",
    "\n",
    "    return element_ar"
   ]
  },
  {
   "cell_type": "code",
   "execution_count": 10,
   "metadata": {
    "collapsed": false,
    "jupyter": {
     "outputs_hidden": false
    },
    "pycharm": {
     "name": "#%%\n"
    }
   },
   "outputs": [
    {
     "name": "stderr",
     "output_type": "stream",
     "text": [
      ".....\n",
      "----------------------------------------------------------------------\n",
      "Ran 5 tests in 0.001s\n",
      "\n",
      "OK\n"
     ]
    }
   ],
   "source": [
    "# Test your code\n",
    "\n",
    "!python ./tests/test_numpy_basics.py --test_case TestArrayCreation"
   ]
  },
  {
   "cell_type": "markdown",
   "metadata": {
    "collapsed": false,
    "jupyter": {
     "outputs_hidden": false
    }
   },
   "source": []
  },
  {
   "cell_type": "markdown",
   "metadata": {
    "collapsed": false,
    "jupyter": {
     "outputs_hidden": false
    },
    "pycharm": {
     "name": "#%% md\n"
    }
   },
   "source": [
    "<a name='1-3'></a>\n",
    "### 1.3 - Array Handling \\[4 points\\] ###\n",
    "\n",
    "In this exercise you will learn how to handle and combine numpy arrays.\n",
    "\n",
    "<b><span style=\"color:teal\">TODO:</span> <b>\n",
    "<dl>\n",
    "<dd><span style=\"color:teal\">1. Reshape a given array to a specified shape.</span> </dd>\n",
    "<dd><span style=\"color:teal\">2. Stack multiple arrays vertically (row-wise).</dd>\n",
    "<dd><span style=\"color:teal\">3. Stack multiple arrays horizontally (column-wise).</dd>\n",
    "<dd><span style=\"color:teal\">4. Concatenate two arrays along a specified axis.</dd>\n",
    "<dd><span style=\"color:teal\">5. Create an array by repeating a given array a specified amount of times (row-wise and/or column-wise).</dd>\n",
    "<dd><span style=\"color:teal\">6. Transpose a given array.</dd>\n",
    "</dl>"
   ]
  },
  {
   "cell_type": "code",
   "execution_count": 11,
   "metadata": {
    "collapsed": false,
    "jupyter": {
     "outputs_hidden": false
    }
   },
   "outputs": [],
   "source": [
    "def handle_numpy_arrays_01(reshape:list):\n",
    "    \"\"\"\n",
    "    Handle and combine given arrays.\n",
    "\n",
    "    :param reshape: List containing the array to be reshaped as well as the new shape that array shall be reshaped to ([array_to_be_reshaped, new_shape]).\n",
    "\n",
    "    :return:\n",
    "        reshaped: Reshaped version of the given array.\n",
    "    \"\"\"\n",
    "\n",
    "    reshaped = None\n",
    "\n",
    "    #############################################################################\n",
    "    #                            START OF YOUR CODE                             #\n",
    "    # TODO:                                                                     #\n",
    "    #    1) Reshape the given array to the specified shape                      #\n",
    "    #############################################################################\n",
    "    array_tobe_reshaped, new_shape = reshape\n",
    "    reshaped= array_tobe_reshaped.reshape(new_shape)\n",
    "\n",
    "    #############################################################################\n",
    "    #                              END OF YOUR CODE                             #\n",
    "    #############################################################################\n",
    "\n",
    "    return reshaped"
   ]
  },
  {
   "cell_type": "code",
   "execution_count": 12,
   "metadata": {
    "collapsed": false,
    "jupyter": {
     "outputs_hidden": false
    }
   },
   "outputs": [],
   "source": [
    "def handle_numpy_arrays_02(vertical_stack:list):\n",
    "    \"\"\"\n",
    "    Handle and combine given arrays.\n",
    "\n",
    "    :param vertical_stack: List containing the arrays to be stacked vertically (row-wise) ([array1, array2, array3, ...]).\n",
    "\n",
    "    :return:\n",
    "        v_stack: Vertical stack of given arrays.\n",
    "    \"\"\"\n",
    "\n",
    "    v_stack = None\n",
    "\n",
    "    #############################################################################\n",
    "    #                            START OF YOUR CODE                             #\n",
    "    # TODO:                                                                     #\n",
    "    #    1) Stack the given arrays vertically                                   #\n",
    "    #############################################################################\n",
    "    v_stack = np.vstack(vertical_stack)\n",
    "\n",
    "    #############################################################################\n",
    "    #                              END OF YOUR CODE                             #\n",
    "    #############################################################################\n",
    "\n",
    "    return v_stack"
   ]
  },
  {
   "cell_type": "code",
   "execution_count": 13,
   "metadata": {
    "collapsed": false,
    "jupyter": {
     "outputs_hidden": false
    }
   },
   "outputs": [],
   "source": [
    "def handle_numpy_arrays_03(horizontal_stack:list):\n",
    "    \"\"\"\n",
    "    Handle and combine given arrays.\n",
    "\n",
    "    :param horizontal_stack: List containing the arrays to be stacked horizontally (column-wise) ([array1, array2, array3, ...]).\n",
    "\n",
    "    :return:\n",
    "        h_stack: Horizontal stack of given arrays.\n",
    "    \"\"\"\n",
    "\n",
    "    h_stack = None\n",
    "\n",
    "    #############################################################################\n",
    "    #                            START OF YOUR CODE                             #\n",
    "    # TODO:                                                                     #\n",
    "    #    1) Stack the given arrays horizontally                                 #\n",
    "    #############################################################################\n",
    "    h_stack = np.hstack(horizontal_stack)\n",
    "\n",
    "    #############################################################################\n",
    "    #                              END OF YOUR CODE                             #\n",
    "    #############################################################################\n",
    "\n",
    "    return h_stack"
   ]
  },
  {
   "cell_type": "code",
   "execution_count": 14,
   "metadata": {
    "collapsed": false,
    "jupyter": {
     "outputs_hidden": false
    }
   },
   "outputs": [],
   "source": [
    "def handle_numpy_arrays_04(concatenating:list):\n",
    "    \"\"\"\n",
    "    Handle and combine given arrays.\n",
    "\n",
    "    :param concatenating: List containing two arrays to be concatenated together as well as the index of the concatenation axis ([array1, array2, axis_index]).\n",
    "\n",
    "    :return:\n",
    "        concatenated: Concatenation of the two given arrays along the specified axis.\n",
    "    \"\"\"\n",
    "\n",
    "    concatenated = None\n",
    "\n",
    "    #############################################################################\n",
    "    #                            START OF YOUR CODE                             #\n",
    "    # TODO:                                                                     #\n",
    "    #    1) Concatenate the two arrays along the specified axis                 #\n",
    "    #############################################################################\n",
    "    array1, array2, axis_index = concatenating\n",
    "    concatenated = np.concatenate((array1, array2), axis=axis_index)\n",
    "\n",
    "    #############################################################################\n",
    "    #                              END OF YOUR CODE                             #\n",
    "    #############################################################################\n",
    "\n",
    "    return concatenated"
   ]
  },
  {
   "cell_type": "code",
   "execution_count": 15,
   "metadata": {
    "collapsed": false,
    "jupyter": {
     "outputs_hidden": false
    }
   },
   "outputs": [],
   "source": [
    "def handle_numpy_arrays_05(repeating:list):\n",
    "    \"\"\"\n",
    "    Handle and combine given arrays.\n",
    "\n",
    "    :param repeating: List containing the array as well as the number of times the array shall be repeated (row-wise and/or column-wise) ([array, repetition_times:tuple]).\n",
    "\n",
    "    :return:\n",
    "        repeated: Specified amount of times (row-wise and/or column-wise) repeated array.\n",
    "    \"\"\"\n",
    "\n",
    "    repeated = None\n",
    "\n",
    "    #############################################################################\n",
    "    #                            START OF YOUR CODE                             #\n",
    "    # TODO:                                                                     #\n",
    "    #    1) Create an array by repeating it the specified amount of times       #\n",
    "    #       (row-wise and/or column-wise)                                       #\n",
    "    #############################################################################\n",
    "    array, repetition_times = repeating\n",
    "    repeated = np.tile(array, repetition_times)\n",
    "\n",
    "    #############################################################################\n",
    "    #                              END OF YOUR CODE                             #\n",
    "    #############################################################################\n",
    "\n",
    "    return repeated"
   ]
  },
  {
   "cell_type": "code",
   "execution_count": 16,
   "metadata": {
    "collapsed": false,
    "jupyter": {
     "outputs_hidden": false
    }
   },
   "outputs": [],
   "source": [
    "def handle_numpy_arrays_06(transposing:np.ndarray):\n",
    "    \"\"\"\n",
    "    Handle and combine given arrays.\n",
    "\n",
    "    :param transposing: Numpy ndarray which shall be transposed (np.ndarray).\n",
    "    \n",
    "    :return:\n",
    "        transposed: Transposed version of given array.\n",
    "    \"\"\"\n",
    "\n",
    "    transposed = None\n",
    "\n",
    "    #############################################################################\n",
    "    #                            START OF YOUR CODE                             #\n",
    "    # TODO:                                                                     #\n",
    "    #    1) Transpose the given array                                           #\n",
    "    #############################################################################\n",
    "    if isinstance(transposing, np.ndarray):\n",
    "       transposed = np.transpose(transposing)\n",
    "    else:\n",
    "       print(\"Error: The input is not valid.\")\n",
    "    #############################################################################\n",
    "    #                              END OF YOUR CODE                             #\n",
    "    #############################################################################\n",
    "\n",
    "    return transposed"
   ]
  },
  {
   "cell_type": "code",
   "execution_count": 17,
   "metadata": {
    "collapsed": false,
    "jupyter": {
     "outputs_hidden": false
    },
    "pycharm": {
     "name": "#%%\n"
    }
   },
   "outputs": [
    {
     "name": "stderr",
     "output_type": "stream",
     "text": [
      "......\n",
      "----------------------------------------------------------------------\n",
      "Ran 6 tests in 0.002s\n",
      "\n",
      "OK\n"
     ]
    }
   ],
   "source": [
    "# Test your code\n",
    "\n",
    "!python ./tests/test_numpy_basics.py --test_case TestArrayHandling"
   ]
  },
  {
   "cell_type": "markdown",
   "metadata": {
    "collapsed": false,
    "jupyter": {
     "outputs_hidden": false
    }
   },
   "source": []
  },
  {
   "cell_type": "markdown",
   "metadata": {
    "collapsed": false,
    "jupyter": {
     "outputs_hidden": false
    },
    "pycharm": {
     "name": "#%% md\n"
    }
   },
   "source": [
    "<a name='1-4'></a>\n",
    "### 1.4 - Calculating with Arrays \\[5 points\\] ###\n",
    "\n",
    "In this exercise you will learn how to use numpy arrays for calculations.\n",
    "\n",
    "<b><span style=\"color:teal\">TODO:</span> <b>\n",
    "<dl>\n",
    "<dd><span style=\"color:teal\">1. Calculate the sum of two arrays element-wise.</span> </dd>\n",
    "<dd><span style=\"color:teal\">2. Calculate the dot product of two arrays.</span> </dd>\n",
    "<dd><span style=\"color:teal\">3. Calculate the multiplication of two arrays element-wise.</dd>\n",
    "<dd><span style=\"color:teal\">4. Calculate the sum of the elements of an array over a given axis.</dd>\n",
    "<dd><span style=\"color:teal\">5. Calculate the gradient of an N-dimensional array.</dd>\n",
    "<dd><span style=\"color:teal\">6. Calculate the cross-product of two arrays (vectors).</dd>\n",
    "<dd><span style=\"color:teal\">7. Calculate the square root of an array element-wise.</dd>\n",
    "<dd><span style=\"color:teal\">8. Calculate 1D-remainder of array for which only values smaller than a given threshold are kept (Hint: apply masking!).</dd>\n",
    "</dl>"
   ]
  },
  {
   "cell_type": "code",
   "execution_count": 18,
   "metadata": {
    "collapsed": false,
    "jupyter": {
     "outputs_hidden": false
    }
   },
   "outputs": [],
   "source": [
    "def calculations_with_numpy_arrays_01(add_ar:list):\n",
    "    \"\"\"\n",
    "    Execute calculations on arrays.\n",
    "\n",
    "    :param add_ar: List containing the arrays which shall be added together element-wise ([array1, array2]).\n",
    "    \n",
    "    :return:\n",
    "        added: Element-wise sum of the given arrays (array).\n",
    "    \"\"\"\n",
    "\n",
    "    added = None\n",
    "\n",
    "    #############################################################################\n",
    "    #                            START OF YOUR CODE                             #\n",
    "    # TODO:                                                                     #\n",
    "    #    1) Calculate the sum of two arrays element-wise                        #\n",
    "    #############################################################################\n",
    "    added = np.add(add_ar[0], add_ar[1])\n",
    "\n",
    "    #############################################################################\n",
    "    #                              END OF YOUR CODE                             #\n",
    "    #############################################################################\n",
    "\n",
    "    return added"
   ]
  },
  {
   "cell_type": "code",
   "execution_count": 19,
   "metadata": {
    "collapsed": false,
    "jupyter": {
     "outputs_hidden": false
    }
   },
   "outputs": [],
   "source": [
    "def calculations_with_numpy_arrays_02(dot_product_ar:list,):\n",
    "    \"\"\"\n",
    "    Execute calculations on arrays.\n",
    "\n",
    "    :param dot_product_ar: List containing the arrays for which the dot product shall be calculated ([array1, array2]).\n",
    "    \n",
    "    :return:\n",
    "        dot_product: Dot product of the given arrays (scalar).\n",
    "    \"\"\"\n",
    "\n",
    "    dot_product = None\n",
    "\n",
    "    #############################################################################\n",
    "    #                            START OF YOUR CODE                             #\n",
    "    # TODO:                                                                     #\n",
    "    #    1) Calculate the dot product of two arrays                             #\n",
    "    #############################################################################\n",
    "    if len(dot_product_ar) == 2:\n",
    "        dot_product = np.dot(dot_product_ar[0], dot_product_ar[1])\n",
    "\n",
    "    #############################################################################\n",
    "    #                              END OF YOUR CODE                             #\n",
    "    #############################################################################\n",
    "\n",
    "    return dot_product"
   ]
  },
  {
   "cell_type": "code",
   "execution_count": 20,
   "metadata": {
    "collapsed": false,
    "jupyter": {
     "outputs_hidden": false
    }
   },
   "outputs": [],
   "source": [
    "def calculations_with_numpy_arrays_03(multiply_ar:list):\n",
    "    \"\"\"\n",
    "    Execute calculations on arrays.\n",
    "\n",
    "    :param multiply_ar: List containing the arrays which shall be multiplied together element-wise ([array1, array2]).\n",
    "    \n",
    "    :return:\n",
    "        multiplication: Element-wise product of the given arrays (array).\n",
    "    \"\"\"\n",
    "\n",
    "    multiplied = None\n",
    "\n",
    "    #############################################################################\n",
    "    #                            START OF YOUR CODE                             #\n",
    "    # TODO:                                                                     #\n",
    "    #    1) Calculate the multiplication of two arrays element-wise             #\n",
    "    #############################################################################\n",
    "    multiplied = np.multiply(multiply_ar[0], multiply_ar[1])\n",
    "\n",
    "    #############################################################################\n",
    "    #                              END OF YOUR CODE                             #\n",
    "    #############################################################################\n",
    "\n",
    "    return multiplied"
   ]
  },
  {
   "cell_type": "code",
   "execution_count": 21,
   "metadata": {
    "collapsed": false,
    "jupyter": {
     "outputs_hidden": false
    }
   },
   "outputs": [],
   "source": [
    "def calculations_with_numpy_arrays_04(sum_ar:list):\n",
    "    \"\"\"\n",
    "    Execute calculations on arrays.\n",
    "\n",
    "    :param sum_ar: List containing the array as well as the index of the axis the sum shall be calculated for ([array, axis_index:int]).\n",
    "    \n",
    "    :return:\n",
    "        sum: Sum of the given array along the given axis (array).\n",
    "    \"\"\"\n",
    "\n",
    "    summed = None\n",
    "\n",
    "    #############################################################################\n",
    "    #                            START OF YOUR CODE                             #\n",
    "    # TODO:                                                                     #\n",
    "    #    1) Calculate the sum of the elements of an array over a given axis     #\n",
    "    #############################################################################\n",
    "    summed = np.sum(sum_ar[0],axis=sum_ar[1])\n",
    "\n",
    "    #############################################################################\n",
    "    #                              END OF YOUR CODE                             #\n",
    "    #############################################################################\n",
    "\n",
    "    return summed"
   ]
  },
  {
   "cell_type": "code",
   "execution_count": 22,
   "metadata": {
    "collapsed": false,
    "jupyter": {
     "outputs_hidden": false
    }
   },
   "outputs": [],
   "source": [
    "def calculations_with_numpy_arrays_05(grad_ar:np.ndarray):\n",
    "    \"\"\"\n",
    "    Execute calculations on arrays.\n",
    "\n",
    "    :param grad_ar: Array for which the gradient shall be calculated (array).\n",
    "\n",
    "    :return:\n",
    "        gradient: Gradient of the given array (array).\n",
    "    \"\"\"\n",
    "\n",
    "    gradient = None\n",
    "\n",
    "    #############################################################################\n",
    "    #                            START OF YOUR CODE                             #\n",
    "    # TODO:                                                                     #\n",
    "    #    1) Calculate the gradient of an N-dimensional array                    #\n",
    "    #############################################################################\n",
    "    if isinstance(grad_ar, np.ndarray):\n",
    "        gradient = np.gradient(grad_ar)\n",
    "    else:\n",
    "        print(\"Error: Input is not a valid array.\")\n",
    "\n",
    "    #############################################################################\n",
    "    #                              END OF YOUR CODE                             #\n",
    "    #############################################################################\n",
    "\n",
    "    return gradient"
   ]
  },
  {
   "cell_type": "code",
   "execution_count": 23,
   "metadata": {
    "collapsed": false,
    "jupyter": {
     "outputs_hidden": false
    }
   },
   "outputs": [],
   "source": [
    "def calculations_with_numpy_arrays_06(cross_product_ar:list):\n",
    "    \"\"\"\n",
    "    Execute calculations on arrays.\n",
    "\n",
    "    :param cross_product_ar: List containing the arrays for which the dot product shall be calculated ([array1, array2]).\n",
    "\n",
    "    :return:\n",
    "        cross_product: Cross-product of the given arrays (array).\n",
    "    \"\"\"\n",
    "\n",
    "    cross_product = None\n",
    "\n",
    "    #############################################################################\n",
    "    #                            START OF YOUR CODE                             #\n",
    "    # TODO:                                                                     #\n",
    "    #    1) Calculate the cross-product of two arrays (vectors)                 #\n",
    "    #############################################################################\n",
    "    if len(cross_product_ar) == 2 and all(isinstance(arr, np.ndarray) for arr in cross_product_ar):\n",
    "        cross_product = np.cross(cross_product_ar[0], cross_product_ar[1])\n",
    "    else:\n",
    "        print(\"Error: Input must be a list with two arrays.\")\n",
    "\n",
    "    #############################################################################\n",
    "    #                              END OF YOUR CODE                             #\n",
    "    #############################################################################\n",
    "\n",
    "    return cross_product"
   ]
  },
  {
   "cell_type": "code",
   "execution_count": 24,
   "metadata": {
    "collapsed": false,
    "jupyter": {
     "outputs_hidden": false
    }
   },
   "outputs": [],
   "source": [
    "def calculations_with_numpy_arrays_07(square_root_ar:np.ndarray):\n",
    "    \"\"\"\n",
    "    Execute calculations on arrays.\n",
    "\n",
    "    :param square_root_ar: Array for which the element-wise square root shall be calculated (array).\n",
    "\n",
    "    :return:\n",
    "        square_root: Element-wise square-root of the given array (array).\n",
    "    \"\"\"\n",
    "\n",
    "    square_root = None\n",
    "\n",
    "    #############################################################################\n",
    "    #                            START OF YOUR CODE                             #\n",
    "    # TODO:                                                                     #\n",
    "    #    1) Calculate the square root of an array element-wise                  #\n",
    "    #############################################################################\n",
    "    square_root =np.sqrt(square_root_ar)\n",
    "\n",
    "    #############################################################################\n",
    "    #                              END OF YOUR CODE                             #\n",
    "    #############################################################################\n",
    "\n",
    "    return square_root"
   ]
  },
  {
   "cell_type": "code",
   "execution_count": 25,
   "metadata": {
    "collapsed": false,
    "jupyter": {
     "outputs_hidden": false
    }
   },
   "outputs": [],
   "source": [
    "def calculations_with_numpy_arrays_08(masking:list):\n",
    "    \"\"\"\n",
    "    Execute calculations on arrays.\n",
    "\n",
    "    :param masking: List containing the array as well as the threshold for which all array elements smaller than it shall be kept and all others shall be omitted ([array, scalar]).\n",
    "                    Hint: \"array < scalar\" returns a boolean mask of where all array values are smaller than the scalar\n",
    "    :return:\n",
    "        masked: 1-D remainder-array based on given threshold (array).\n",
    "    \"\"\"\n",
    "\n",
    "    masked = None\n",
    "\n",
    "    #############################################################################\n",
    "    #                            START OF YOUR CODE                             #\n",
    "    # TODO:                                                                     #\n",
    "    #    1) Calculate 1D-remainder of array for which only values smaller than  #\n",
    "    #       a given threshold are kept (Hint: apply masking!)                   #\n",
    "    #############################################################################\n",
    "    array, threshold = masking\n",
    "    mask = array < threshold\n",
    "    masked = array[mask]\n",
    "\n",
    "    #############################################################################\n",
    "    #                              END OF YOUR CODE                             #\n",
    "    #############################################################################\n",
    "\n",
    "    return masked"
   ]
  },
  {
   "cell_type": "code",
   "execution_count": 26,
   "metadata": {
    "collapsed": false,
    "jupyter": {
     "outputs_hidden": false
    },
    "pycharm": {
     "name": "#%%\n"
    }
   },
   "outputs": [
    {
     "name": "stderr",
     "output_type": "stream",
     "text": [
      "........\n",
      "----------------------------------------------------------------------\n",
      "Ran 8 tests in 0.001s\n",
      "\n",
      "OK\n"
     ]
    }
   ],
   "source": [
    "# Test your code\n",
    "\n",
    "!python ./tests/test_numpy_basics.py --test_case TestArrayCalculations"
   ]
  },
  {
   "cell_type": "markdown",
   "metadata": {
    "collapsed": false,
    "jupyter": {
     "outputs_hidden": false
    }
   },
   "source": []
  },
  {
   "cell_type": "markdown",
   "metadata": {
    "collapsed": false,
    "jupyter": {
     "outputs_hidden": false
    },
    "pycharm": {
     "name": "#%% md\n"
    }
   },
   "source": [
    "<a name='1-5'></a>\n",
    "### 1.5 - Statistics with Arrays \\[1 point\\] ###\n",
    "\n",
    "In this exercise you will learn how to calculate statistics on numpy arrays.\n",
    "\n",
    "<b><span style=\"color:teal\">TODO:</span> <b>\n",
    "<dl>\n",
    "<dd><span style=\"color:teal\">1. Extract the minimum value of an array along a given axis.</span> </dd>\n",
    "<dd><span style=\"color:teal\">2. Extract the maximum value of an array along a given axis.</span> </dd>\n",
    "<dd><span style=\"color:teal\">3. Extract the index of the minimum value of an array along a given axis.</dd>\n",
    "<dd><span style=\"color:teal\">4. Extract the index of the maximum value of an array along a given axis.</dd>\n",
    "<dd><span style=\"color:teal\">5. Calculate the mean of an array along a specified axis.</dd>\n",
    "<dd><span style=\"color:teal\">6. Calculate the standard deviation of an array along a specified axis.</dd>\n",
    "</dl>"
   ]
  },
  {
   "cell_type": "code",
   "execution_count": 27,
   "metadata": {
    "collapsed": false,
    "jupyter": {
     "outputs_hidden": false
    }
   },
   "outputs": [],
   "source": [
    "def statistics_with_numpy_arrays_01(array:np.ndarray, axis:int):\n",
    "    \"\"\"\n",
    "    Calculate statistics on numpy arrays.\n",
    "\n",
    "    :param array: Array for which the statistics shall be calculated (array).\n",
    "    :param axis: Specifying the axis along which the statistics shall be computed (int).\n",
    "                 If axis=None, the statistics shall be computed on the flattened version of the given array.\n",
    "    :return:\n",
    "        min_val: Minimum value of given array along the given axis (scalar).\n",
    "    \"\"\"\n",
    "\n",
    "    min_val = None\n",
    "\n",
    "    #############################################################################\n",
    "    #                            START OF YOUR CODE                             #\n",
    "    # TODO:                                                                     #\n",
    "    #    1) Extract the minimum value of an array                               #\n",
    "    #############################################################################\n",
    "    min_val = np.min(array, axis=axis)\n",
    "\n",
    "    #############################################################################\n",
    "    #                              END OF YOUR CODE                             #\n",
    "    #############################################################################\n",
    "\n",
    "    return min_val"
   ]
  },
  {
   "cell_type": "code",
   "execution_count": 28,
   "metadata": {
    "collapsed": false,
    "jupyter": {
     "outputs_hidden": false
    }
   },
   "outputs": [],
   "source": [
    "def statistics_with_numpy_arrays_02(array:np.ndarray, axis:int):\n",
    "    \"\"\"\n",
    "    Calculate statistics on numpy arrays.\n",
    "\n",
    "    :param array: Array for which the statistics shall be calculated (array).\n",
    "    :param axis: Specifying the axis along which the statistics shall be computed (int).\n",
    "                 If axis=None, the statistics shall be computed on the flattened version of the given array.\n",
    "    :return:\n",
    "        max_val: Maximum value of given array along the given axis (scalar).\n",
    "    \"\"\"\n",
    "\n",
    "    max_val = None\n",
    "\n",
    "    #############################################################################\n",
    "    #                            START OF YOUR CODE                             #\n",
    "    # TODO:                                                                     #\n",
    "    #    1) Extract the maximum value of an array                               #\n",
    "    #############################################################################\n",
    "    max_val = np.max(array, axis=axis)\n",
    "\n",
    "    #############################################################################\n",
    "    #                              END OF YOUR CODE                             #\n",
    "    #############################################################################\n",
    "\n",
    "    return max_val"
   ]
  },
  {
   "cell_type": "code",
   "execution_count": 29,
   "metadata": {
    "collapsed": false,
    "jupyter": {
     "outputs_hidden": false
    }
   },
   "outputs": [],
   "source": [
    "def statistics_with_numpy_arrays_03(array:np.ndarray, axis:int):\n",
    "    \"\"\"\n",
    "    Calculate statistics on numpy arrays.\n",
    "\n",
    "    :param array: Array for which the statistics shall be calculated (array).\n",
    "    :param axis: Specifying the axis along which the statistics shall be computed (int).\n",
    "                 If axis=None, the statistics shall be computed on the flattened version of the given array.\n",
    "    :return:\n",
    "        min_idx: Index of minimum value of given array along the given axis (scalar).\n",
    "    \"\"\"\n",
    "\n",
    "    min_idx = None\n",
    "\n",
    "    #############################################################################\n",
    "    #                            START OF YOUR CODE                             #\n",
    "    # TODO:                                                                     #\n",
    "    #    1) Extract the index of the minimum value of an array                  #\n",
    "    #############################################################################\n",
    "    min_idx = np.argmin(array, axis=axis)\n",
    "\n",
    "    #############################################################################\n",
    "    #                              END OF YOUR CODE                             #\n",
    "    #############################################################################\n",
    "\n",
    "    return min_idx"
   ]
  },
  {
   "cell_type": "code",
   "execution_count": 30,
   "metadata": {
    "collapsed": false,
    "jupyter": {
     "outputs_hidden": false
    }
   },
   "outputs": [],
   "source": [
    "def statistics_with_numpy_arrays_04(array:np.ndarray, axis:int):\n",
    "    \"\"\"\n",
    "    Calculate statistics on numpy arrays.\n",
    "\n",
    "    :param array: Array for which the statistics shall be calculated (array).\n",
    "    :param axis: Specifying the axis along which the statistics shall be computed (int).\n",
    "                 If axis=None, the statistics shall be computed on the flattened version of the given array.\n",
    "    :return:\n",
    "        max_idx: Index of maximum value of given array along the given axis (scalar).\n",
    "    \"\"\"\n",
    "\n",
    "    max_idx = None\n",
    "\n",
    "    #############################################################################\n",
    "    #                            START OF YOUR CODE                             #\n",
    "    # TODO:                                                                     #\n",
    "    #    1) Extract the index of the maximum value of an array                  #\n",
    "    #############################################################################\n",
    "    max_idx = np.argmax(array, axis=axis)\n",
    "\n",
    "    #############################################################################\n",
    "    #                              END OF YOUR CODE                             #\n",
    "    #############################################################################\n",
    "\n",
    "    return max_idx"
   ]
  },
  {
   "cell_type": "code",
   "execution_count": 31,
   "metadata": {
    "collapsed": false,
    "jupyter": {
     "outputs_hidden": false
    }
   },
   "outputs": [],
   "source": [
    "def statistics_with_numpy_arrays_05(array:np.ndarray, axis:int):\n",
    "    \"\"\"\n",
    "    Calculate statistics on numpy arrays.\n",
    "\n",
    "    :param array: Array for which the statistics shall be calculated (array).\n",
    "    :param axis: Specifying the axis along which the statistics shall be computed (int).\n",
    "                 If axis=None, the statistics shall be computed on the flattened version of the given array.\n",
    "    :return:\n",
    "        mean: Mean of given array along the given axis (scalar or array).\n",
    "    \"\"\"\n",
    "\n",
    "    mean = None\n",
    "\n",
    "    #############################################################################\n",
    "    #                            START OF YOUR CODE                             #\n",
    "    # TODO:                                                                     #\n",
    "    #    1) Calculate the mean of an array along a specified axis               #\n",
    "    #############################################################################\n",
    "    mean = np.mean(array, axis=axis)\n",
    "\n",
    "    #############################################################################\n",
    "    #                              END OF YOUR CODE                             #\n",
    "    #############################################################################\n",
    "\n",
    "    return mean"
   ]
  },
  {
   "cell_type": "code",
   "execution_count": 32,
   "metadata": {
    "collapsed": false,
    "jupyter": {
     "outputs_hidden": false
    }
   },
   "outputs": [],
   "source": [
    "def statistics_with_numpy_arrays_06(array:np.ndarray, axis:int):\n",
    "    \"\"\"\n",
    "    Calculate statistics on numpy arrays.\n",
    "\n",
    "    :param array: Array for which the statistics shall be calculated (array).\n",
    "    :param axis: Specifying the axis along which the statistics shall be computed (int).\n",
    "                 If axis=None, the statistics shall be computed on the flattened version of the given array.\n",
    "    :return:\n",
    "        std: Standard deviation of given array along given axis (scalar or array).\n",
    "    \"\"\"\n",
    "\n",
    "    std = None\n",
    "\n",
    "    #############################################################################\n",
    "    #                            START OF YOUR CODE                             #\n",
    "    # TODO:                                                                     #\n",
    "    #    1) Calculate the standard deviation of an array along a specified axis #\n",
    "    #############################################################################\n",
    "    std = np.std(array, axis=axis)\n",
    "\n",
    "    #############################################################################\n",
    "    #                              END OF YOUR CODE                             #\n",
    "    #############################################################################\n",
    "\n",
    "    return std"
   ]
  },
  {
   "cell_type": "code",
   "execution_count": 33,
   "metadata": {
    "collapsed": false,
    "jupyter": {
     "outputs_hidden": false
    },
    "pycharm": {
     "name": "#%%\n"
    }
   },
   "outputs": [
    {
     "name": "stderr",
     "output_type": "stream",
     "text": [
      "......\n",
      "----------------------------------------------------------------------\n",
      "Ran 6 tests in 0.001s\n",
      "\n",
      "OK\n"
     ]
    }
   ],
   "source": [
    "# Test your code\n",
    "\n",
    "!python ./tests/test_numpy_basics.py --test_case TestArrayStatistics"
   ]
  },
  {
   "cell_type": "markdown",
   "metadata": {
    "collapsed": false,
    "jupyter": {
     "outputs_hidden": false
    }
   },
   "source": []
  },
  {
   "cell_type": "markdown",
   "metadata": {
    "collapsed": false,
    "jupyter": {
     "outputs_hidden": false
    },
    "pycharm": {
     "name": "#%% md\n"
    }
   },
   "source": [
    "<a name='1-6'></a>\n",
    "### 1.6 - Array Slicing \\[5 points\\] ###\n",
    "\n",
    "In this exercise you will learn how to apply smart indexing and slicing to extract specific values from arrays.\n",
    "For this task, we will consider 1D-numpy arrays like the following one first:\n",
    "\n",
    "<div>\n",
    "    <img src=\"../img/numpy_basics/array_indexing00.png\" width=\"700\"/>\n",
    "</div>\n",
    "\n",
    "This shall only represent an example. Your code will be tested on different arrays, too.\n",
    "\n",
    "<b><span style=\"color:teal\">TODO:</span> <b>\n",
    "<dl>\n",
    "<dd><span style=\"color:teal\">1. Extract the first element of the given array.</span> </dd>\n",
    "<dd><div><img src=\"../img/numpy_basics/array_indexing01.png\" width=\"700\"/></div></dd>\n",
    "\n",
    "<dd><span style=\"color:teal\">2. Extract the last element of the given array.</span> </dd>\n",
    "<dd><div><img src=\"../img/numpy_basics/array_indexing02.png\" width=\"700\"/></div></dd>\n",
    "\n",
    "<dd><span style=\"color:teal\">3. Extract the first half of elements of the given array (if the length is odd, this shall contain the smaller fraction).</span> </dd>\n",
    "<dd><div><img src=\"../img/numpy_basics/array_indexing03.png\" width=\"700\"/></div></dd>\n",
    "\n",
    "<dd><span style=\"color:teal\">4. Extract the second half of elements of the given array (if the length is odd, this shall contain the larger fraction).</span> </dd>\n",
    "<dd><div><img src=\"../img/numpy_basics/array_indexing04.png\" width=\"700\"/></div></dd>\n",
    "\n",
    "<dd><span style=\"color:teal\">5. Extract the following pattern of elements:</span> </dd>\n",
    "<dd><div><img src=\"../img/numpy_basics/array_indexing05.png\" width=\"700\"/></div></dd>\n",
    "\n",
    "<dd><span style=\"color:teal\">6. Extract the following pattern of elements:</span> </dd>\n",
    "<dd><div><img src=\"../img/numpy_basics/array_indexing06.png\" width=\"700\"/></div></dd>\n",
    "\n",
    "<dd><span style=\"color:teal\">7. Extract the following pattern of elements:</span> </dd>\n",
    "<dd><div><img src=\"../img/numpy_basics/array_indexing07.png\" width=\"700\"/></div></dd>"
   ]
  },
  {
   "cell_type": "code",
   "execution_count": 95,
   "metadata": {
    "collapsed": false,
    "jupyter": {
     "outputs_hidden": false
    }
   },
   "outputs": [],
   "source": [
    "def slicing_of_numpy_arrays_1d_01(array:np.ndarray):\n",
    "    \"\"\"\n",
    "    Slice 1D numpy arrays.\n",
    "\n",
    "    :param array: Array which shall be sliced (np.array).\n",
    "    \n",
    "    :return:\n",
    "        first_element: First element of given array (scalar).\n",
    "    \"\"\"\n",
    "\n",
    "    first_element = None\n",
    "    \n",
    "    #############################################################################\n",
    "    #                            START OF YOUR CODE                             #\n",
    "    # TODO:                                                                     #\n",
    "    #    1) Extract the first element of an array                               #\n",
    "    #############################################################################\n",
    "    first_element = array[0]\n",
    "\n",
    "    #############################################################################\n",
    "    #                              END OF YOUR CODE                             #\n",
    "    #############################################################################\n",
    "   \n",
    "    return first_element"
   ]
  },
  {
   "cell_type": "code",
   "execution_count": 96,
   "metadata": {
    "collapsed": false,
    "jupyter": {
     "outputs_hidden": false
    }
   },
   "outputs": [],
   "source": [
    "def slicing_of_numpy_arrays_1d_02(array:np.ndarray):\n",
    "    \"\"\"\n",
    "    Slice 1D numpy arrays.\n",
    "\n",
    "    :param array: Array which shall be sliced (np.array).\n",
    "    \n",
    "    :return:\n",
    "        last_element: Last element of given array (scalar).\n",
    "    \"\"\"\n",
    "\n",
    "    last_element = None\n",
    "\n",
    "    #############################################################################\n",
    "    #                            START OF YOUR CODE                             #\n",
    "    # TODO:                                                                     #\n",
    "    #    1) Extract the last element of an array                                #\n",
    "    #############################################################################\n",
    "    last_element = array[-1]\n",
    "\n",
    "    #############################################################################\n",
    "    #                              END OF YOUR CODE                             #\n",
    "    #############################################################################\n",
    "\n",
    "    return last_element"
   ]
  },
  {
   "cell_type": "code",
   "execution_count": 97,
   "metadata": {
    "collapsed": false,
    "jupyter": {
     "outputs_hidden": false
    }
   },
   "outputs": [],
   "source": [
    "def slicing_of_numpy_arrays_1d_03(array:np.ndarray):\n",
    "    \"\"\"\n",
    "    Slice 1D numpy arrays.\n",
    "\n",
    "    :param array: Array which shall be sliced (np.array).\n",
    "    \n",
    "    :return:\n",
    "        first_half: First half of given array (np.ndarray).\n",
    "    \"\"\"\n",
    "\n",
    "    first_half = None\n",
    "\n",
    "    #############################################################################\n",
    "    #                            START OF YOUR CODE                             #\n",
    "    # TODO:                                                                     #\n",
    "    #    1) Extract the first half of an array                                  #\n",
    "    #############################################################################\n",
    "    midpoint = len(array) // 2\n",
    "    first_half = array[:midpoint]\n",
    "\n",
    "    #############################################################################\n",
    "    #                              END OF YOUR CODE                             #\n",
    "    #############################################################################\n",
    "\n",
    "    return first_half"
   ]
  },
  {
   "cell_type": "code",
   "execution_count": 98,
   "metadata": {
    "collapsed": false,
    "jupyter": {
     "outputs_hidden": false
    }
   },
   "outputs": [],
   "source": [
    "def slicing_of_numpy_arrays_1d_04(array:np.ndarray):\n",
    "    \"\"\"\n",
    "    Slice 1D numpy arrays.\n",
    "\n",
    "    :param array: Array which shall be sliced (np.array).\n",
    "    \n",
    "    :return:\n",
    "        second_half: Second half of given array (np.ndarray).\n",
    "    \"\"\"\n",
    "\n",
    "    second_half = None\n",
    "\n",
    "    #############################################################################\n",
    "    #                            START OF YOUR CODE                             #\n",
    "    # TODO:                                                                     #\n",
    "    #    1) Extract the second half of an array                                 #\n",
    "    #############################################################################\n",
    "    lenght = len(array)\n",
    "    \n",
    "    if lenght % 2 == 0:\n",
    "        midpoint = lenght // 2\n",
    "    else:\n",
    "        midpoint = (lenght - 1) // 2\n",
    "        \n",
    "    second_half = array[midpoint:]\n",
    "\n",
    "    #############################################################################\n",
    "    #                              END OF YOUR CODE                             #\n",
    "    #############################################################################\n",
    "\n",
    "    return second_half"
   ]
  },
  {
   "cell_type": "code",
   "execution_count": 99,
   "metadata": {
    "collapsed": false,
    "jupyter": {
     "outputs_hidden": false
    }
   },
   "outputs": [],
   "source": [
    "def slicing_of_numpy_arrays_1d_05(array:np.ndarray):\n",
    "    \"\"\"\n",
    "    Slice 1D numpy arrays.\n",
    "\n",
    "    :param array: Array which shall be sliced (np.array).\n",
    "    \n",
    "    :return:\n",
    "        all_odd_elements: Every element at an odd position (different to Python index!) (np.ndarray).\n",
    "    \"\"\"\n",
    "\n",
    "    all_odd_elements = None\n",
    "\n",
    "    #############################################################################\n",
    "    #                            START OF YOUR CODE                             #\n",
    "    # TODO:                                                                     #\n",
    "    #    1) Extract all elements at an odd position within an array             #\n",
    "    #       (different to Python index!)                                        #\n",
    "    #############################################################################\n",
    "    all_odd_elements = array[0::2]\n",
    "\n",
    "    #############################################################################\n",
    "    #                              END OF YOUR CODE                             #\n",
    "    #############################################################################\n",
    "\n",
    "    return all_odd_elements"
   ]
  },
  {
   "cell_type": "code",
   "execution_count": 100,
   "metadata": {
    "collapsed": false,
    "jupyter": {
     "outputs_hidden": false
    }
   },
   "outputs": [],
   "source": [
    "def slicing_of_numpy_arrays_1d_06(array:np.ndarray):\n",
    "    \"\"\"\n",
    "    Slice 1D numpy arrays.\n",
    "\n",
    "    :param array: Array which shall be sliced (np.array).\n",
    "    \n",
    "    :return:\n",
    "        all_even_elements: Every element at an even position (different to Python index!) (np.ndarray).\n",
    "        leave_two_blanks: Keep one element, remove two elements, keep one element, remove two, ... (np.ndarray).\n",
    "    \"\"\"\n",
    "\n",
    "    all_even_elements = None\n",
    "\n",
    "    #############################################################################\n",
    "    #                            START OF YOUR CODE                             #\n",
    "    # TODO:                                                                     #\n",
    "    #    1) Extract all elements at an even position within an array            #\n",
    "    #       (different to Python index!)                                        #\n",
    "    #############################################################################\n",
    "    all_even_elements = array[1::2]\n",
    "\n",
    "    #############################################################################\n",
    "    #                              END OF YOUR CODE                             #\n",
    "    #############################################################################\n",
    "\n",
    "    return all_even_elements"
   ]
  },
  {
   "cell_type": "code",
   "execution_count": 101,
   "metadata": {
    "collapsed": false,
    "jupyter": {
     "outputs_hidden": false
    }
   },
   "outputs": [],
   "source": [
    "def slicing_of_numpy_arrays_1d_07(array:np.ndarray):\n",
    "    \"\"\"\n",
    "    Slice 1D numpy arrays.\n",
    "\n",
    "    :param array: Array which shall be sliced (np.array).\n",
    "    \n",
    "    :return:\n",
    "        leave_two_blanks: Keep one element, remove two elements, keep one element, remove two, ... (np.ndarray).\n",
    "    \"\"\"\n",
    "\n",
    "    leave_two_blanks = None\n",
    "\n",
    "    #############################################################################\n",
    "    #                            START OF YOUR CODE                             #\n",
    "    # TODO:                                                                     #\n",
    "    #    1) Keep one element, remove two elements, keep one element, remove two #\n",
    "    #       ...                                                                 #\n",
    "    #############################################################################\n",
    "    leave_two_blanks = array[np.arange(len(array))% 3 == 0]\n",
    "    \n",
    "    #############################################################################\n",
    "    #                              END OF YOUR CODE                             #\n",
    "    #############################################################################\n",
    "\n",
    "    return leave_two_blanks\n",
    "    "
   ]
  },
  {
   "cell_type": "code",
   "execution_count": 102,
   "metadata": {
    "collapsed": false,
    "jupyter": {
     "outputs_hidden": false
    },
    "pycharm": {
     "name": "#%%\n"
    }
   },
   "outputs": [
    {
     "name": "stderr",
     "output_type": "stream",
     "text": [
      "EEFEFEE\n",
      "======================================================================\n",
      "ERROR: test_elements_at_even_positions (__main__.TestArraySlicing1D)\n",
      "Test extracting all elements at an even position within an array.\n",
      "----------------------------------------------------------------------\n",
      "Traceback (most recent call last):\n",
      "  File \"C:\\Users\\Dell\\OneDrive\\Desktop\\xAI-DL\\assignment1\\assignment1\\Programming\\code\\tests\\test_numpy_basics.py\", line 851, in test_elements_at_even_positions\n",
      "    student_version1 = numpy_basics.slicing_of_numpy_arrays_1d_06(self.array1)\n",
      "  File \"numpy_basics.ipynb\", line 20, in slicing_of_numpy_arrays_1d_06\n",
      "    },\n",
      "TypeError: 'NoneType' object is not subscriptable\n",
      "\n",
      "======================================================================\n",
      "ERROR: test_elements_at_odd_positions (__main__.TestArraySlicing1D)\n",
      "Test extracting all elements at an odd position within an array.\n",
      "----------------------------------------------------------------------\n",
      "Traceback (most recent call last):\n",
      "  File \"C:\\Users\\Dell\\OneDrive\\Desktop\\xAI-DL\\assignment1\\assignment1\\Programming\\code\\tests\\test_numpy_basics.py\", line 831, in test_elements_at_odd_positions\n",
      "    student_version1 = numpy_basics.slicing_of_numpy_arrays_1d_05(self.array1)\n",
      "  File \"numpy_basics.ipynb\", line 19, in slicing_of_numpy_arrays_1d_05\n",
      "    \"outputs_hidden\": false\n",
      "TypeError: 'NoneType' object is not subscriptable\n",
      "\n",
      "======================================================================\n",
      "ERROR: test_first_half (__main__.TestArraySlicing1D)\n",
      "Test extracting the first half of an array.\n",
      "----------------------------------------------------------------------\n",
      "Traceback (most recent call last):\n",
      "  File \"C:\\Users\\Dell\\OneDrive\\Desktop\\xAI-DL\\assignment1\\assignment1\\Programming\\code\\tests\\test_numpy_basics.py\", line 796, in test_first_half\n",
      "    self.assertEqual(student_version1, self.array1)\n",
      "  File \"C:\\Users\\Dell\\anaconda3\\envs\\xai-dl-a1\\lib\\unittest\\case.py\", line 837, in assertEqual\n",
      "    assertion_func(first, second, msg=msg)\n",
      "  File \"C:\\Users\\Dell\\anaconda3\\envs\\xai-dl-a1\\lib\\unittest\\case.py\", line 827, in _baseAssertEqual\n",
      "    if not first == second:\n",
      "ValueError: The truth value of an array with more than one element is ambiguous. Use a.any() or a.all()\n",
      "\n",
      "======================================================================\n",
      "ERROR: test_second_half (__main__.TestArraySlicing1D)\n",
      "Test extracting the second half of an array.\n",
      "----------------------------------------------------------------------\n",
      "Traceback (most recent call last):\n",
      "  File \"C:\\Users\\Dell\\OneDrive\\Desktop\\xAI-DL\\assignment1\\assignment1\\Programming\\code\\tests\\test_numpy_basics.py\", line 816, in test_second_half\n",
      "    self.assertEqual(student_version1, self.array1)\n",
      "  File \"C:\\Users\\Dell\\anaconda3\\envs\\xai-dl-a1\\lib\\unittest\\case.py\", line 837, in assertEqual\n",
      "    assertion_func(first, second, msg=msg)\n",
      "  File \"C:\\Users\\Dell\\anaconda3\\envs\\xai-dl-a1\\lib\\unittest\\case.py\", line 827, in _baseAssertEqual\n",
      "    if not first == second:\n",
      "ValueError: The truth value of an array with more than one element is ambiguous. Use a.any() or a.all()\n",
      "\n",
      "======================================================================\n",
      "ERROR: test_special_pattern (__main__.TestArraySlicing1D)\n",
      "Test extracting all elements as presented in task 7.\n",
      "----------------------------------------------------------------------\n",
      "Traceback (most recent call last):\n",
      "  File \"C:\\Users\\Dell\\OneDrive\\Desktop\\xAI-DL\\assignment1\\assignment1\\Programming\\code\\tests\\test_numpy_basics.py\", line 876, in test_special_pattern\n",
      "    self.assertEqual(student_version1, self.array1)\n",
      "  File \"C:\\Users\\Dell\\anaconda3\\envs\\xai-dl-a1\\lib\\unittest\\case.py\", line 837, in assertEqual\n",
      "    assertion_func(first, second, msg=msg)\n",
      "  File \"C:\\Users\\Dell\\anaconda3\\envs\\xai-dl-a1\\lib\\unittest\\case.py\", line 827, in _baseAssertEqual\n",
      "    if not first == second:\n",
      "ValueError: The truth value of an array with more than one element is ambiguous. Use a.any() or a.all()\n",
      "\n",
      "======================================================================\n",
      "FAIL: test_first_element (__main__.TestArraySlicing1D)\n",
      "Test extracting the first element of an array.\n",
      "----------------------------------------------------------------------\n",
      "Traceback (most recent call last):\n",
      "  File \"C:\\Users\\Dell\\OneDrive\\Desktop\\xAI-DL\\assignment1\\assignment1\\Programming\\code\\tests\\test_numpy_basics.py\", line 760, in test_first_element\n",
      "    self.assertEqual(student_version1, self.array1)\n",
      "AssertionError: np.int64(1) != None\n",
      "\n",
      "======================================================================\n",
      "FAIL: test_last_element (__main__.TestArraySlicing1D)\n",
      "Test extracting the last element of an array.\n",
      "----------------------------------------------------------------------\n",
      "Traceback (most recent call last):\n",
      "  File \"C:\\Users\\Dell\\OneDrive\\Desktop\\xAI-DL\\assignment1\\assignment1\\Programming\\code\\tests\\test_numpy_basics.py\", line 778, in test_last_element\n",
      "    self.assertEqual(student_version1, self.array1)\n",
      "AssertionError: np.int64(-5) != None\n",
      "\n",
      "----------------------------------------------------------------------\n",
      "Ran 7 tests in 0.003s\n",
      "\n",
      "FAILED (failures=2, errors=5)\n"
     ]
    }
   ],
   "source": [
    "# Test your code\n",
    "\n",
    "!python ./tests/test_numpy_basics.py --test_case TestArraySlicing1D"
   ]
  },
  {
   "cell_type": "markdown",
   "metadata": {
    "collapsed": false,
    "jupyter": {
     "outputs_hidden": false
    }
   },
   "source": []
  },
  {
   "cell_type": "markdown",
   "metadata": {
    "collapsed": false,
    "jupyter": {
     "outputs_hidden": false
    },
    "pycharm": {
     "name": "#%% md\n"
    }
   },
   "source": [
    "<a name='1-7'></a>\n",
    "### 1.7 - Array Slicing 2D \\[6 points\\] ###\n",
    "\n",
    "For the remainder of this section we will consider 2D-numpy arrays like the following:\n",
    "\n",
    "<div>\n",
    "    <img src=\"../img/numpy_basics/array_indexing_2D_00.png\" width=\"300\"/>\n",
    "</div>\n",
    "\n",
    "This shall only represent an example. Your code will be tested on different arrays, too.\n",
    "\n",
    "<b><span style=\"color:teal\">TODO:</span> <b>\n",
    "<dl>\n",
    "<dd><span style=\"color:teal\">1. Extract the first element of the given array.</span> </dd>\n",
    "<dd><div><img src=\"../img/numpy_basics/array_indexing_2D_01.png\" width=\"300\"/></div></dd>\n",
    "\n",
    "<dd><span style=\"color:teal\">2. Extract the last element of the given array.</span> </dd>\n",
    "<dd><div><img src=\"../img/numpy_basics/array_indexing_2D_02.png\" width=\"300\"/></div></dd>\n",
    "\n",
    "<dd><span style=\"color:teal\">3. Extract the row-wise first half of elements of the given array (if the length is odd, this shall contain the smaller fraction).</span> </dd>\n",
    "<dd><div><img src=\"../img/numpy_basics/array_indexing_2D_03.png\" width=\"300\"/></div></dd>\n",
    "\n",
    "<dd><span style=\"color:teal\">4. Extract the row-wsie second half of elements of the given array (if the length is odd, this shall contain the larger fraction).</span> </dd>\n",
    "<dd><div><img src=\"../img/numpy_basics/array_indexing_2D_04.png\" width=\"300\"/></div></dd>\n",
    "\n",
    "<dd><span style=\"color:teal\">5. Extract the column-wise first half of elements of the given array (if the length is odd, this shall contain the smaller fraction).</span> </dd>\n",
    "<dd><div><img src=\"../img/numpy_basics/array_indexing_2D_05.png\" width=\"300\"/></div></dd>\n",
    "\n",
    "<dd><span style=\"color:teal\">6. Extract the column-wise second half of elements of the given array (if the length is odd, this shall contain the smaller fraction).</span> </dd>\n",
    "<dd><div><img src=\"../img/numpy_basics/array_indexing_2D_06.png\" width=\"300\"/></div></dd>\n",
    "\n",
    "<dd><span style=\"color:teal\">7. Extract every element at an odd column in row-wise order of the given array.</span> </dd>\n",
    "<dd><div><img src=\"../img/numpy_basics/array_indexing_2D_07.png\" width=\"300\"/></div></dd>\n",
    "\n",
    "<dd><span style=\"color:teal\">8. Extract every element at an even column in row-wise order of the given array.</span> </dd>\n",
    "<dd><div><img src=\"../img/numpy_basics/array_indexing_2D_08.png\" width=\"300\"/></div></dd>\n",
    "\n",
    "<dd><span style=\"color:teal\">9. Extract the diagonal elements of the given array (only symmetric 2D arrays will be considered).</span> </dd>\n",
    "<dd><div><img src=\"../img/numpy_basics/array_indexing_2D_09.png\" width=\"300\"/></div></dd>\n",
    "\n",
    "<dd><span style=\"color:teal\">10. Extract the reverse diagonal elements in row-wise order of the given array (only symmetric 2D arrays will be considered).</span> </dd>\n",
    "<dd><div><img src=\"../img/numpy_basics/array_indexing_2D_10.png\" width=\"300\"/></div></dd>"
   ]
  },
  {
   "cell_type": "code",
   "execution_count": 56,
   "metadata": {
    "collapsed": false,
    "jupyter": {
     "outputs_hidden": false
    }
   },
   "outputs": [],
   "source": [
    "def slicing_of_numpy_arrays_2d_01(array:np.ndarray):\n",
    "    \"\"\"\n",
    "    Slice 2D numpy arrays.\n",
    "\n",
    "    :param array: Array which shall be sliced (np.array).\n",
    "    \n",
    "    :return:\n",
    "        first_element: First element of given array (scalar).\n",
    "    \"\"\"\n",
    "\n",
    "    first_element = None\n",
    "\n",
    "    #############################################################################\n",
    "    #                            START OF YOUR CODE                             #\n",
    "    # TODO:                                                                     #\n",
    "    #    1) Extract the first element of an array  \n",
    "    #############################################################################\n",
    "    first_element = array[0,0]\n",
    "\n",
    "    #############################################################################\n",
    "    #                              END OF YOUR CODE                             #\n",
    "    #############################################################################\n",
    "\n",
    "    return first_element"
   ]
  },
  {
   "cell_type": "code",
   "execution_count": 57,
   "metadata": {
    "collapsed": false,
    "jupyter": {
     "outputs_hidden": false
    }
   },
   "outputs": [],
   "source": [
    "def slicing_of_numpy_arrays_2d_02(array:np.ndarray):\n",
    "    \"\"\"\n",
    "    Slice 2D numpy arrays.\n",
    "\n",
    "    :param array: Array which shall be sliced (np.array).\n",
    "    \n",
    "    :return:\n",
    "        last_element: Last element of given array (scalar).\n",
    "    \"\"\"\n",
    "\n",
    "    last_element = None\n",
    "\n",
    "    #############################################################################\n",
    "    #                            START OF YOUR CODE                             #\n",
    "    # TODO:                                                                     #\n",
    "    #    1) Extract the last element of an array                                #\n",
    "    #############################################################################\n",
    "    last_element = array[-1, -1]\n",
    "\n",
    "    #############################################################################\n",
    "    #                              END OF YOUR CODE                             #\n",
    "    #############################################################################\n",
    "\n",
    "    return last_element"
   ]
  },
  {
   "cell_type": "code",
   "execution_count": 58,
   "metadata": {
    "collapsed": false,
    "jupyter": {
     "outputs_hidden": false
    }
   },
   "outputs": [],
   "source": [
    "def slicing_of_numpy_arrays_2d_03(array:np.ndarray):\n",
    "    \"\"\"\n",
    "    Slice 2D numpy arrays.\n",
    "\n",
    "    :param array: Array which shall be sliced (np.array).\n",
    "    \n",
    "    :return:\n",
    "        first_half_row_wise: Row-wise first half of given array (np.ndarray).\n",
    "    \"\"\"\n",
    "\n",
    "    first_half_row_wise = None\n",
    "\n",
    "    #############################################################################\n",
    "    #                            START OF YOUR CODE                             #\n",
    "    # TODO:                                                                     #\n",
    "    #    1) Extract the row-wise first half of elements of an array             #\n",
    "    #############################################################################\n",
    "    first_half_row_wise = array[:(len(array) // 2), :]\n",
    "\n",
    "    #############################################################################\n",
    "    #                              END OF YOUR CODE                             #\n",
    "    #############################################################################\n",
    "\n",
    "    return first_half_row_wise"
   ]
  },
  {
   "cell_type": "code",
   "execution_count": 59,
   "metadata": {
    "collapsed": false,
    "jupyter": {
     "outputs_hidden": false
    }
   },
   "outputs": [],
   "source": [
    "def slicing_of_numpy_arrays_2d_04(array:np.ndarray):\n",
    "    \"\"\"\n",
    "    Slice 2D numpy arrays.\n",
    "\n",
    "    :param array: Array which shall be sliced (np.array).\n",
    "    \n",
    "    :return:\n",
    "        second_half_row_wise: Row-wise second half of given array (np.ndarray).\n",
    "    \"\"\"\n",
    "\n",
    "    second_half_row_wise = None\n",
    "\n",
    "    #############################################################################\n",
    "    #                            START OF YOUR CODE                             #\n",
    "    # TODO:                                                                     #\n",
    "    #    1) Extract the row-wise second half of elements of an array            #\n",
    "    #############################################################################\n",
    "    second_half_row_wise = array[len(array) // 2:, :]\n",
    "\n",
    "    #############################################################################\n",
    "    #                              END OF YOUR CODE                             #\n",
    "    #############################################################################\n",
    "\n",
    "    return second_half_row_wise"
   ]
  },
  {
   "cell_type": "code",
   "execution_count": 60,
   "metadata": {
    "collapsed": false,
    "jupyter": {
     "outputs_hidden": false
    }
   },
   "outputs": [],
   "source": [
    "def slicing_of_numpy_arrays_2d_05(array:np.ndarray):\n",
    "    \"\"\"\n",
    "    Slice 2D numpy arrays.\n",
    "\n",
    "    :param array: Array which shall be sliced (np.array).\n",
    "    \n",
    "    :return:\n",
    "        first_half_column_wise: Column-wise first half of given array (np.ndarray).\n",
    "    \"\"\"\n",
    "\n",
    "    first_half_column_wise = None\n",
    "\n",
    "    #############################################################################\n",
    "    #                            START OF YOUR CODE                             #\n",
    "    # TODO:                                                                     #\n",
    "    #    1) Extract the column-wise first half of elements of an array          #\n",
    "    #############################################################################\n",
    "    first_half_column_wise = array[:, :len(array[0]) // 2]\n",
    "\n",
    "    #############################################################################\n",
    "    #                              END OF YOUR CODE                             #\n",
    "    #############################################################################\n",
    "\n",
    "    return first_half_column_wise"
   ]
  },
  {
   "cell_type": "code",
   "execution_count": 61,
   "metadata": {
    "collapsed": false,
    "jupyter": {
     "outputs_hidden": false
    }
   },
   "outputs": [],
   "source": [
    "def slicing_of_numpy_arrays_2d_06(array:np.ndarray):\n",
    "    \"\"\"\n",
    "    Slice 2D numpy arrays.\n",
    "\n",
    "    :param array: Array which shall be sliced (np.array).\n",
    "    \n",
    "    :return:\n",
    "        second_half_column_wise: Colum-wise second half of given array (np.ndarray).\n",
    "    \"\"\"\n",
    "\n",
    "    second_half_column_wise = None\n",
    "\n",
    "    #############################################################################\n",
    "    #                            START OF YOUR CODE                             #\n",
    "    # TODO:                                                                     #\n",
    "    #    1) Extract the column-wise second half of elements of an array         #\n",
    "    #############################################################################\n",
    "    second_half_column_wise = array[:, len(array[0]) // 2:]\n",
    "\n",
    "    #############################################################################\n",
    "    #                              END OF YOUR CODE                             #\n",
    "    #############################################################################\n",
    "\n",
    "    return second_half_column_wise"
   ]
  },
  {
   "cell_type": "code",
   "execution_count": 62,
   "metadata": {
    "collapsed": false,
    "jupyter": {
     "outputs_hidden": false
    }
   },
   "outputs": [],
   "source": [
    "def slicing_of_numpy_arrays_2d_07(array:np.ndarray):\n",
    "    \"\"\"\n",
    "    Slice 2D numpy arrays.\n",
    "\n",
    "    :param array: Array which shall be sliced (np.array).\n",
    "    \n",
    "    :return:\n",
    "        all_elements_at_odd_columns: Every element at an odd column position in row-wise order of the given array (different to Python index!) (np.ndarray).\n",
    "    \"\"\"\n",
    "\n",
    "    all_elements_at_odd_columns = None\n",
    "\n",
    "    #############################################################################\n",
    "    #                            START OF YOUR CODE                             #\n",
    "    # TODO:                                                                     #\n",
    "    #    1) Extract every element at an odd column in row-wise order of an      #\n",
    "    #       array                                                               #\n",
    "    #############################################################################\n",
    "    all_elements_at_odd_columns = array[: , 0::2]\n",
    "\n",
    "    #############################################################################\n",
    "    #                              END OF YOUR CODE                             #\n",
    "    #############################################################################\n",
    "\n",
    "    return all_elements_at_odd_columns"
   ]
  },
  {
   "cell_type": "code",
   "execution_count": 63,
   "metadata": {
    "collapsed": false,
    "jupyter": {
     "outputs_hidden": false
    }
   },
   "outputs": [],
   "source": [
    "def slicing_of_numpy_arrays_2d_08(array:np.ndarray):\n",
    "    \"\"\"\n",
    "    Slice 2D numpy arrays.\n",
    "\n",
    "    :param array: Array which shall be sliced (np.array).\n",
    "    \n",
    "    :return:\n",
    "        all_elements_at_even_columns: Every element at an even column position in row-wise order of the given array (different to Python index!) (np.ndarray).\n",
    "    \"\"\"\n",
    "\n",
    "    all_elements_at_even_columns = None\n",
    "\n",
    "    #############################################################################\n",
    "    #                            START OF YOUR CODE                             #\n",
    "    # TODO:                                                                     #\n",
    "    #    1) Extract every element at an even column in row-wise order of an     #\n",
    "    #       array                                                               #\n",
    "    #############################################################################\n",
    "    all_elements_at_even_columns = array[:, 1::2]\n",
    "\n",
    "    #############################################################################\n",
    "    #                              END OF YOUR CODE                             #\n",
    "    #############################################################################\n",
    "\n",
    "    return all_elements_at_even_columns"
   ]
  },
  {
   "cell_type": "code",
   "execution_count": 64,
   "metadata": {
    "collapsed": false,
    "jupyter": {
     "outputs_hidden": false
    }
   },
   "outputs": [],
   "source": [
    "def slicing_of_numpy_arrays_2d_09(array:np.ndarray):\n",
    "    \"\"\"\n",
    "    Slice 2D numpy arrays.\n",
    "\n",
    "    :param array: Array which shall be sliced (np.array).\n",
    "    \n",
    "    :return:\n",
    "        elements_on_diagonal: Every element on the diagonal of the symmetrical given array (np.ndarray).\n",
    "    \"\"\"\n",
    "\n",
    "    elements_on_diagonal = None\n",
    "\n",
    "    #############################################################################\n",
    "    #                            START OF YOUR CODE                             #\n",
    "    # TODO:                                                                     #\n",
    "    #    1) Extract the diagonal elements of a symmetrical array                #\n",
    "    #############################################################################\n",
    "    n = array.shape[0]\n",
    "    \n",
    "    elements_on_diagonal = np.array([array[i, i] for i in range(n)])\n",
    " \n",
    "    #############################################################################\n",
    "    #                              END OF YOUR CODE                             #\n",
    "    #############################################################################\n",
    "\n",
    "    return elements_on_diagonal"
   ]
  },
  {
   "cell_type": "code",
   "execution_count": 65,
   "metadata": {
    "collapsed": false,
    "jupyter": {
     "outputs_hidden": false
    }
   },
   "outputs": [],
   "source": [
    "def slicing_of_numpy_arrays_2d_10(array:np.ndarray):\n",
    "    \"\"\"\n",
    "    Slice 2D numpy arrays.\n",
    "\n",
    "    :param array: Array which shall be sliced (np.array).\n",
    "    \n",
    "    :return:\n",
    "        elements_on_reverse_diagonal: Every element on the reverse diagonal of the symmetrical given array (np.ndarray).\n",
    "    \"\"\"\n",
    "\n",
    "    elements_on_reverse_diagonal = None\n",
    "\n",
    "    #############################################################################\n",
    "    #                            START OF YOUR CODE                             #\n",
    "    # TODO:                                                                     #\n",
    "    #    1) Extract the reverse diagonal elements of a symmetrical array        #\n",
    "    #############################################################################\n",
    "    n = array.shape[0]\n",
    "\n",
    "    elements_on_reverse_diagonal = np.array([array[i, n - 1 - i] for i in range(n)])\n",
    "\n",
    "    #############################################################################\n",
    "    #                              END OF YOUR CODE                             #\n",
    "    #############################################################################\n",
    "\n",
    "    return elements_on_reverse_diagonal"
   ]
  },
  {
   "cell_type": "code",
   "execution_count": 66,
   "metadata": {
    "collapsed": false,
    "jupyter": {
     "outputs_hidden": false
    },
    "pycharm": {
     "name": "#%%\n"
    }
   },
   "outputs": [
    {
     "name": "stderr",
     "output_type": "stream",
     "text": [
      "EEEEEEEEEE\n",
      "======================================================================\n",
      "ERROR: test_diagonal (__main__.TestArraySlicing2D)\n",
      "Test extracting every element on the diagonal of an array.\n",
      "----------------------------------------------------------------------\n",
      "Traceback (most recent call last):\n",
      "  File \"C:\\Users\\Dell\\OneDrive\\Desktop\\xAI-DL\\assignment1\\assignment1\\Programming\\code\\tests\\test_numpy_basics.py\", line 1073, in test_diagonal\n",
      "    student_version1 = numpy_basics.slicing_of_numpy_arrays_2d_09(self.array1)\n",
      "  File \"numpy_basics.ipynb\", line 18, in slicing_of_numpy_arrays_2d_09\n",
      "    \"jupyter\": {\n",
      "AttributeError: 'NoneType' object has no attribute 'shape'\n",
      "\n",
      "======================================================================\n",
      "ERROR: test_diagonal_reverse (__main__.TestArraySlicing2D)\n",
      "Test extracting every element on the reverse diagonal of an array.\n",
      "----------------------------------------------------------------------\n",
      "Traceback (most recent call last):\n",
      "  File \"C:\\Users\\Dell\\OneDrive\\Desktop\\xAI-DL\\assignment1\\assignment1\\Programming\\code\\tests\\test_numpy_basics.py\", line 1093, in test_diagonal_reverse\n",
      "    student_version1 = numpy_basics.slicing_of_numpy_arrays_2d_10(self.array1)\n",
      "  File \"numpy_basics.ipynb\", line 18, in slicing_of_numpy_arrays_2d_10\n",
      "    \"jupyter\": {\n",
      "AttributeError: 'NoneType' object has no attribute 'shape'\n",
      "\n",
      "======================================================================\n",
      "ERROR: test_even_columns (__main__.TestArraySlicing2D)\n",
      "Test extracting every element at an even column in row-wise order of an array.\n",
      "----------------------------------------------------------------------\n",
      "Traceback (most recent call last):\n",
      "  File \"C:\\Users\\Dell\\OneDrive\\Desktop\\xAI-DL\\assignment1\\assignment1\\Programming\\code\\tests\\test_numpy_basics.py\", line 1053, in test_even_columns\n",
      "    student_version1 = numpy_basics.slicing_of_numpy_arrays_2d_08(self.array1)\n",
      "  File \"numpy_basics.ipynb\", line 19, in slicing_of_numpy_arrays_2d_08\n",
      "    \"outputs_hidden\": false\n",
      "TypeError: 'NoneType' object is not subscriptable\n",
      "\n",
      "======================================================================\n",
      "ERROR: test_first_element (__main__.TestArraySlicing2D)\n",
      "Test extracting the first element of an array.\n",
      "----------------------------------------------------------------------\n",
      "Traceback (most recent call last):\n",
      "  File \"C:\\Users\\Dell\\OneDrive\\Desktop\\xAI-DL\\assignment1\\assignment1\\Programming\\code\\tests\\test_numpy_basics.py\", line 905, in test_first_element\n",
      "    student_version1 = numpy_basics.slicing_of_numpy_arrays_2d_01(self.array1)\n",
      "  File \"numpy_basics.ipynb\", line 18, in slicing_of_numpy_arrays_2d_01\n",
      "    \"jupyter\": {\n",
      "TypeError: 'NoneType' object is not subscriptable\n",
      "\n",
      "======================================================================\n",
      "ERROR: test_first_half_column_wise (__main__.TestArraySlicing2D)\n",
      "Test extracting the column-wise first half of elements of an array.\n",
      "----------------------------------------------------------------------\n",
      "Traceback (most recent call last):\n",
      "  File \"C:\\Users\\Dell\\OneDrive\\Desktop\\xAI-DL\\assignment1\\assignment1\\Programming\\code\\tests\\test_numpy_basics.py\", line 990, in test_first_half_column_wise\n",
      "    student_version1 = numpy_basics.slicing_of_numpy_arrays_2d_05(self.array1)\n",
      "  File \"numpy_basics.ipynb\", line 18, in slicing_of_numpy_arrays_2d_05\n",
      "    \"jupyter\": {\n",
      "TypeError: 'NoneType' object is not subscriptable\n",
      "\n",
      "======================================================================\n",
      "ERROR: test_first_half_row_wise (__main__.TestArraySlicing2D)\n",
      "Test extracting the row-wise first half of elements of an array.\n",
      "----------------------------------------------------------------------\n",
      "Traceback (most recent call last):\n",
      "  File \"C:\\Users\\Dell\\OneDrive\\Desktop\\xAI-DL\\assignment1\\assignment1\\Programming\\code\\tests\\test_numpy_basics.py\", line 944, in test_first_half_row_wise\n",
      "    student_version1 = numpy_basics.slicing_of_numpy_arrays_2d_03(self.array1)\n",
      "  File \"numpy_basics.ipynb\", line 18, in slicing_of_numpy_arrays_2d_03\n",
      "    \"jupyter\": {\n",
      "TypeError: object of type 'NoneType' has no len()\n",
      "\n",
      "======================================================================\n",
      "ERROR: test_last_element (__main__.TestArraySlicing2D)\n",
      "Test extracting the last element of an array.\n",
      "----------------------------------------------------------------------\n",
      "Traceback (most recent call last):\n",
      "  File \"C:\\Users\\Dell\\OneDrive\\Desktop\\xAI-DL\\assignment1\\assignment1\\Programming\\code\\tests\\test_numpy_basics.py\", line 923, in test_last_element\n",
      "    student_version1 = numpy_basics.slicing_of_numpy_arrays_2d_02(self.array1)\n",
      "  File \"numpy_basics.ipynb\", line 18, in slicing_of_numpy_arrays_2d_02\n",
      "    \"jupyter\": {\n",
      "TypeError: 'NoneType' object is not subscriptable\n",
      "\n",
      "======================================================================\n",
      "ERROR: test_odd_columns (__main__.TestArraySlicing2D)\n",
      "Test extracting every element at an odd column in row-wise order of an array.\n",
      "----------------------------------------------------------------------\n",
      "Traceback (most recent call last):\n",
      "  File \"C:\\Users\\Dell\\OneDrive\\Desktop\\xAI-DL\\assignment1\\assignment1\\Programming\\code\\tests\\test_numpy_basics.py\", line 1033, in test_odd_columns\n",
      "    student_version1 = numpy_basics.slicing_of_numpy_arrays_2d_07(self.array1)\n",
      "  File \"numpy_basics.ipynb\", line 19, in slicing_of_numpy_arrays_2d_07\n",
      "    \"outputs_hidden\": false\n",
      "TypeError: 'NoneType' object is not subscriptable\n",
      "\n",
      "======================================================================\n",
      "ERROR: test_second_half_column_wise (__main__.TestArraySlicing2D)\n",
      "Test extracting the column-wise second half of elements of an array.\n",
      "----------------------------------------------------------------------\n",
      "Traceback (most recent call last):\n",
      "  File \"C:\\Users\\Dell\\OneDrive\\Desktop\\xAI-DL\\assignment1\\assignment1\\Programming\\code\\tests\\test_numpy_basics.py\", line 1013, in test_second_half_column_wise\n",
      "    student_version1 = numpy_basics.slicing_of_numpy_arrays_2d_06(self.array1)\n",
      "  File \"numpy_basics.ipynb\", line 18, in slicing_of_numpy_arrays_2d_06\n",
      "    \"jupyter\": {\n",
      "TypeError: 'NoneType' object is not subscriptable\n",
      "\n",
      "======================================================================\n",
      "ERROR: test_second_half_row_wise (__main__.TestArraySlicing2D)\n",
      "Test extracting the row-wise second half of elements of an array.\n",
      "----------------------------------------------------------------------\n",
      "Traceback (most recent call last):\n",
      "  File \"C:\\Users\\Dell\\OneDrive\\Desktop\\xAI-DL\\assignment1\\assignment1\\Programming\\code\\tests\\test_numpy_basics.py\", line 967, in test_second_half_row_wise\n",
      "    student_version1 = numpy_basics.slicing_of_numpy_arrays_2d_04(self.array1)\n",
      "  File \"numpy_basics.ipynb\", line 18, in slicing_of_numpy_arrays_2d_04\n",
      "    \"jupyter\": {\n",
      "TypeError: object of type 'NoneType' has no len()\n",
      "\n",
      "----------------------------------------------------------------------\n",
      "Ran 10 tests in 0.002s\n",
      "\n",
      "FAILED (errors=10)\n"
     ]
    }
   ],
   "source": [
    "# Test your code\n",
    "\n",
    "!python ./tests/test_numpy_basics.py --test_case TestArraySlicing2D"
   ]
  },
  {
   "cell_type": "markdown",
   "metadata": {
    "collapsed": false,
    "jupyter": {
     "outputs_hidden": false
    }
   },
   "source": []
  },
  {
   "cell_type": "markdown",
   "metadata": {
    "collapsed": false,
    "jupyter": {
     "outputs_hidden": false
    },
    "pycharm": {
     "name": "#%% md\n"
    }
   },
   "source": [
    "<a id='2'></a>\n",
    "## 2 - End of Exercise ##\n",
    "\n",
    "<div>\n",
    "    <img src=\"../img/memes/meme_youDidIt_01.png\" width=\"700\"/>\n",
    "</div>\n",
    "\n",
    "Created with and licensed under [Adobe Express](https://www.adobe.com/de/express/)"
   ]
  },
  {
   "cell_type": "code",
   "execution_count": null,
   "metadata": {
    "collapsed": false,
    "jupyter": {
     "outputs_hidden": false
    },
    "pycharm": {
     "name": "#%%\n"
    }
   },
   "outputs": [],
   "source": []
  }
 ],
 "metadata": {
  "kernelspec": {
   "display_name": "Python 3 (ipykernel)",
   "language": "python",
   "name": "python3"
  },
  "language_info": {
   "codemirror_mode": {
    "name": "ipython",
    "version": 3
   },
   "file_extension": ".py",
   "mimetype": "text/x-python",
   "name": "python",
   "nbconvert_exporter": "python",
   "pygments_lexer": "ipython3",
   "version": "3.9.20"
  }
 },
 "nbformat": 4,
 "nbformat_minor": 4
}
