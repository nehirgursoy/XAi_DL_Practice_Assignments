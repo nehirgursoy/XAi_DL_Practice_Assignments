{
 "cells": [
  {
   "cell_type": "markdown",
   "metadata": {
    "pycharm": {
     "name": "#%% md\n"
    }
   },
   "source": [
    "# Numpy Applied \\[25 points + 10 points (Bonus)\\]"
   ]
  },
  {
   "cell_type": "markdown",
   "metadata": {
    "pycharm": {
     "name": "#%% md\n"
    }
   },
   "source": [
    "<b><span style=\"color:#00CED1\">Association:</span></b>\n",
    "<span style=\"color:#00CED1\">Otto-Friedrich University of Bamberg</span>\n",
    "<span style=\"color:#00CED1\">Chair of Explainable Machine Learning (xAI)</span>\n",
    "<span style=\"color:#00CED1\">Deep Learning Assignments</span>\n",
    "\n",
    "<b><span style=\"color:#00CED1\">Description:</span></b>\n",
    "<span style=\"color:#00CED1\">This notebook introduces the basic functions and processes of the free numpy package.</span>\n",
    "<span style=\"color:#00CED1\">Students will learn how to use those functions and are able to test their implementations directly via provided unittests.</span>\n",
    "\n",
    "<span style=\"color:#00CED1\"><b>Author:</b> Sebastian Doerrich</span>\n",
    "<span style=\"color:#00CED1\"><b>Copyright:</b> Copyright (c) 2022, Chair of Explainable Machine Learning (xAI), Otto-Friedrich University of Bamberg</span>\n",
    "<span style=\"color:#00CED1\"><b>Credits:</b> Christian Ledig, Sebastian Doerrich</span>\n",
    "<span style=\"color:#00CED1\"><b>License:</b> CC BY-SA</span>\n",
    "<span style=\"color:#00CED1\"><b>Version:</b> 1.0</span>\n",
    "<span style=\"color:#00CED1\"><b>Python:</b> Python 3</span>\n",
    "<span style=\"color:#00CED1\"><b>Maintainer:</b> Sebastian Doerrich</span>\n",
    "<span style=\"color:#00CED1\"><b>Email:</b> sebastian.doerrich@uni-bamberg.de</span>\n",
    "<span style=\"color:#00CED1\"><b>Status:</b> Production</span>"
   ]
  },
  {
   "cell_type": "markdown",
   "metadata": {
    "pycharm": {
     "name": "#%% md\n"
    }
   },
   "source": [
    "## Context\n",
    "Welcome again to your first assignment.\n",
    "This second part of the exercise lets you explore how to use the previously learned Numpy functions in a real-world setting.\n",
    "Furthermore, you will learn how to create and work with class objects.\n",
    "\n",
    "## Instructions\n",
    "- You will be using Python 3.\n",
    "- After coding your function, run the cell right below it to check if your result is correct.\n",
    "\n",
    "## Important Notes for Your Submission\n",
    "Before submitting your assignment, please make sure you are not doing the following:\n",
    "\n",
    "1. You have not added any _extra_ `print` statement(s) in the assignment.\n",
    "2. You have not added any _extra_ code cell(s) in the assignment.\n",
    "3. You have not changed any of the function parameters.\n",
    "4. You are not using any global variables inside your graded exercises. Unless specifically instructed to do so, please refrain from it and use the local variables instead.\n",
    "5. You are not changing the assignment code where it is not required, like creating _extra_ variables.\n",
    "\n",
    "If you do any of the mentioned, our test scripts will fail and as a result you will receive **0 points** for the respective task.\n",
    "\n",
    "## Table of Contents\n",
    "- [0 - Import the Necessary Libraries](#0)\n",
    "- [1 - Checkerboard Pattern \\[7.5 points\\]](#1)\n",
    "    - [1.1 - Initialize the Checkerboard Pattern \\[1 point\\]](#1-1)\n",
    "    - [1.2 - Create the Checkerboard Pattern \\[5.5 points\\]](#1-2)\n",
    "    - [1.3 - Visualize the Checkerboard Pattern \\[1 point\\]](#1-3)\n",
    "- [2 - Shapes \\[17.5 points\\]](#2)\n",
    "    - [2.1 - Create the Rectangle Shape \\[6 points\\]](#2-1)\n",
    "    - [2.2 - Create the Circle Shape \\[7.5 points\\]](#2-2)\n",
    "    - [2.3 - Combine and Plot the Shapes \\[4 points\\]](#2-3)\n",
    "- [3 - Bonus: Color Spectrum \\[10 points\\]](#3)\n",
    "- [4 - End of Exercise](#4)"
   ]
  },
  {
   "cell_type": "markdown",
   "metadata": {
    "pycharm": {
     "name": "#%% md\n"
    }
   },
   "source": [
    "<a name='0'></a>\n",
    "## 0 - Import the Necessary Libraries ##"
   ]
  },
  {
   "cell_type": "code",
   "execution_count": 133,
   "metadata": {
    "pycharm": {
     "name": "#%%\n"
    }
   },
   "outputs": [],
   "source": [
    "# Import packages\n",
    "import numpy as np\n",
    "import matplotlib.pyplot as plt"
   ]
  },
  {
   "cell_type": "markdown",
   "metadata": {
    "collapsed": false,
    "jupyter": {
     "outputs_hidden": false
    }
   },
   "source": []
  },
  {
   "cell_type": "markdown",
   "metadata": {
    "pycharm": {
     "name": "#%% md\n"
    }
   },
   "source": [
    "<a id='1'></a>\n",
    "## 1 - Checkerboard Pattern \\[7.5 points\\] ##\n",
    "\n",
    "In this first exercise you will be implementing a checkerboard pattern in the class <span style=\"color:orange\"><strong>CheckerBoard</strong></span> with an adaptable <span style=\"color:#00BFFF\"><em>size</em></span> and <span style=\"color:#00BFFF\"><em>tile size</em></span>.\n",
    "An example of how the result shall look like can be seen here:\n",
    "<div>\n",
    "    <img src=\"../img/numpy_applied/checkerboard_pattern_01.png\" width=\"300\"/>\n",
    "</div>\n",
    "\n",
    "Please note that if we are talking about images, the coordinate system differs slightly from what you are used to from other (math) classes. In maths if we talk about 2D functions within the Cartesian Coordinate System, the origin of the coordinate system is in the lower left corner with the x-axis ranging from left to right and the y-axis ranging from bottom to top.\n",
    "\n",
    "However, for images the origin of the coordinate system is in the upper left corner instead with the x-axis ranging from left to right and the y-axis ranging from top to bottom. Furthermore, for images a particular pair of (x-coordinate, y-coordinate) describe a single pixel within the image.\n",
    "\n",
    "As a result this means that when you have to deal with x- and y-coordinates of images, you have to treat them differently when dealing with x- and y-coordinates for functions.\n",
    "\n",
    "See figure below for reference.\n",
    "\n",
    "<div>\n",
    "    <img src=\"../img/numpy_applied/coords_comparison.png\" width=\"900\"/>\n",
    "</div>\n",
    "\n",
    "<b><span style=\"color:#B8860B\">Hints:</span> <b>\n",
    "<dl>\n",
    "<dd><span style=\"color:#B8860B\">1. <span style=\"color:fuchsia\"><em>__init__()</em></span> represents the constructor of the class.</span></dd>\n",
    "<dd><span style=\"color:#B8860B\">2. Following functions might be usefull: <span style=\"color:#DC143C\"><em>np.zeros()</em></span>, <span style=\"color:#DC143C\"><em>np.ones()</em></span>, <span style=\"color:#DC143C\"><em>np.tile()</em></span>, <span style=\"color:#DC143C\"><em>np.arange()</em></span>, <span style=\"color:#DC143C\"><em>np.concatenate()</em></span>, <span style=\"color:#DC143C\"><em>np.expand_dims()</em></span>.</span></dd>\n",
    "<dd><span style=\"color:#B8860B\">3. To simplify things we assume that the <span style=\"color:#00BFFF\"><em>size</em></span> is divisible by the <span style=\"color:#00BFFF\"><em>tile size</em></span> without remainder.\n",
    "<dd><span style=\"color:#B8860B\">4. Think about how the relation between <span style=\"color:#00BFFF\"><em>size</em></span> and <span style=\"color:#00BFFF\"><em>tile size</em></span> has to look like to create a valid checkerboard pattern.\n",
    "</dl>\n",
    "\n",
    "<b><span style=\"color:red\">Attention:</span> <b>\n",
    "<dl>\n",
    "<dd><span style=\"color:red\">If you are using the dark mode of your development environment instead of the standard light one, it will most likely happen that the appearance of the colors white and black are completely switched. This means everything written in black is shown in white and vice versa. This affects the appearance of text but might as well affect the appearance of plots you will generate throughout this exercise. This means a figure which should be rendered in the color black will be rendered in the color white and vice versa. However, this accounts only for figures you will create by running parts of the code below. Figures that were provided by us will still appear the way they are, regardless which appearance mode you are using within your development environment. Please keep that in mind if you want to use your development environment's dark mode! </span></dd>\n",
    "</dl>\n"
   ]
  },
  {
   "cell_type": "markdown",
   "metadata": {
    "jp-MarkdownHeadingCollapsed": true,
    "pycharm": {
     "name": "#%% md\n"
    }
   },
   "source": [
    "<a name='1-1'></a>\n",
    "### 1.1 - Initialize the Checkerboard Pattern \\[1 point\\] ###\n",
    "\n",
    "As a first step we will be implementing the constructor: `__init__(self, size:int, tile_size:int)`.\n",
    "\n",
    "<span style=\"color:#00BFFF\"><em>Parameters</em></span>:\n",
    "- <span style=\"color:#00BFFF\"><em>size:</em></span> Defines the width and height of our checkerboard in pixels (int).\n",
    "- <span style=\"color:#00BFFF\"><em>tile_size:</em></span> Defines the width and height of each individual tile in pixels (int).\n",
    "\n",
    "<b><span style=\"color:teal\">TODO:</span> <b>\n",
    "<dl>\n",
    "<dd><span style=\"color:teal\">1. Implement the <span style=\"color:fuchsia\"><em>constructor</em></span>.</span></dd>\n",
    "<dd><span style=\"color:teal\">2. Store each of the given parameter in a class variable of class <span style=\"color:orange\"><strong>CheckerBoard</strong></span>.</span></dd>\n",
    "<dd><span style=\"color:teal\">3. Create an additional class variable with the name <span style=\"color:fuchsia\"><em>pattern</em></span> that will store the final checkerboard pattern.</span></dd>\n",
    "</dl>"
   ]
  },
  {
   "cell_type": "markdown",
   "metadata": {
    "pycharm": {
     "name": "#%% md\n"
    }
   },
   "source": [
    "<a name='1-2'></a>\n",
    "### 1.2 - Create the Checkerboard Pattern \\[5.5 points\\] ###\n",
    "\n",
    "For the next step, we will be implementing the method which constructs the checkerboard pattern as a numpy array: `draw(self)`.\n",
    "\n",
    "<span style=\"color:#00BFFF\"><em>Parameters</em></span>: <span style=\"color:#00BFFF\"><em>---</em></span>\n",
    "\n",
    "<b><span style=\"color:teal\">TODO:</span> <b>\n",
    "<dl>\n",
    "<dd><span style=\"color:teal\">1. Implement the method <span style=\"color:#DC143C\"><em>draw()</em></span> which constructs the checkerboard pattern as a numpy array.</span></dd>\n",
    "<dd><span style=\"color:teal\">2. Black tiles shall have the value 0 and white tiles shall have the value 1.</span></dd>\n",
    "<dd><span style=\"color:teal\">3. Make sure that the tile in the top left is colored black.</span></dd>\n",
    "<dd><span style=\"color:teal\">4. To avoid truncated patterns, make sure your code only allows values for <span style=\"color:fuchsia\"><em>size</em></span> that are evenly dividable by <span style=\"color:fuchsia\"><em>2 * tile_size</em></span>.</span></dd>\n",
    "<dd><span style=\"color:teal\">5. Store the created pattern in the variable <span style=\"color:fuchsia\"><em>pattern</em></span>.</span></dd>\n",
    "</dl>"
   ]
  },
  {
   "cell_type": "markdown",
   "metadata": {
    "pycharm": {
     "name": "#%% md\n"
    }
   },
   "source": [
    "<a name='1-3'></a>\n",
    "### 1.3 - Visualize the Checkerboard Pattern \\[1 point\\] ###\n",
    "\n",
    "For the last step of this specific exercise, we will be implementing the method which will visualize our previously created checkerboard pattern: `show(self)`.\n",
    "\n",
    "<span style=\"color:#00BFFF\"><em>Parameters</em></span>: <span style=\"color:#00BFFF\"><em>---</em></span>\n",
    "\n",
    "<b><span style=\"color:teal\">TODO:</span> <b>\n",
    "<dl>\n",
    "<dd><span style=\"color:teal\">1. Implement the method <span style=\"color:#DC143C\"><em>show()</em></span> which shows the checkerboard pattern as an image.</span></dd>\n",
    "<dd><span style=\"color:teal\">2. Display the checkerboard pattern as a grayscale image by using the <span style=\"color:#6495ED\"><em><a href=\"https://matplotlib.org/stable/api/_as_gen/matplotlib.pyplot.imshow.html\" title=”matplotlib.pyplot.imshow”>imshow()</a></em></span> function of Matplotlib with the respective parameter.</span></dd>\n",
    "</dl>"
   ]
  },
  {
   "cell_type": "code",
   "execution_count": 134,
   "metadata": {
    "pycharm": {
     "name": "#%%\n"
    }
   },
   "outputs": [],
   "source": [
    "class CheckerBoard:\n",
    "    def __init__(self, size:int, tile_size:int):\n",
    "        \"\"\"\n",
    "        Initialize a checkerboard object.\n",
    "\n",
    "        :param size: Width and height of the checkerboard pattern in pixels.\n",
    "        :param tile_size: Width and height of each individual tile in pixels.\n",
    "        \"\"\"\n",
    "\n",
    "        #############################################################################\n",
    "        #                            START OF YOUR CODE                             #\n",
    "        # TODO:                                                                     #\n",
    "        #    1) Implement the constructor                                           #\n",
    "        #    2) Store each of the given parameter in a class variable               #\n",
    "        #    3) Create an additional class variable with the name 'pattern' that    #\n",
    "        #       will store the final checkerboard pattern                           #\n",
    "        #############################################################################\n",
    "        self.size = size\n",
    "        self.tile_size = tile_size\n",
    "\n",
    "        self.pattern = None\n",
    "\n",
    "        #############################################################################\n",
    "        #                              END OF YOUR CODE                             #\n",
    "        #############################################################################\n",
    "\n",
    "    def draw(self):\n",
    "        \"\"\"\n",
    "        Create a checkerboard pattern as a numpy array for which the tile in the top left corner is black.\n",
    "        \"\"\"\n",
    "\n",
    "        #############################################################################\n",
    "        #                            START OF YOUR CODE                             #\n",
    "        # TODO:                                                                     #\n",
    "        #    1) Construct the checkerboard pattern as a numpy array                 #\n",
    "        #    2) Black tiles shall have the value 0 and white tiles the value 1      #\n",
    "        #    3) Make sure that the tile in the top left is colored black            #\n",
    "        #    4) To avoid truncated patterns, make sure your code only allows values #\n",
    "        #       for 'size' that are evenly dividable by 2 * 'tile_size'             #\n",
    "        #    5) Store the checkerboard pattern in the class variable \"pattern\"      #\n",
    "        #############################################################################\n",
    "        if self.size % (2 * self.tile_size) != 0:\n",
    "            raise ValueError(\"Only evenly dividable values are allowed.\")\n",
    "\n",
    "        num_tiles = self.size // self.tile_size\n",
    "\n",
    "        pattern = np.zeros((self.size, self.size), dtype = int)\n",
    "\n",
    "        for i in range(self.size):\n",
    "            for j in range(self.size):\n",
    "                if (i+j )% 2 ==0:\n",
    "                    pattern[i, j] = 0\n",
    "                else:\n",
    "                    pattern[i, j] = 1\n",
    "\n",
    "        self.pattern = pattern\n",
    "\n",
    "        #############################################################################\n",
    "        #                              END OF YOUR CODE                             #\n",
    "        #############################################################################\n",
    "\n",
    "\n",
    "    def show(self):\n",
    "        \"\"\"\n",
    "        Show the checkerboard pattern.\n",
    "        \"\"\"\n",
    "\n",
    "        #############################################################################\n",
    "        #                            START OF YOUR CODE                             #\n",
    "        # TODO:                                                                     #\n",
    "        #    1) Visualize the checkerboard pattern as a grayscale image by using    #\n",
    "        #       the imshow()-function of the matplotlib package with the respective #\n",
    "        #       parameter                                                           #\n",
    "        #############################################################################\n",
    "        plt.imshow(self.pattern, cmap='gray', origin='upper')\n",
    "        plt.axis('off')\n",
    "        plt.show()\n",
    "\n",
    "        #############################################################################\n",
    "        #                              END OF YOUR CODE                             #\n",
    "        #############################################################################"
   ]
  },
  {
   "cell_type": "code",
   "execution_count": 135,
   "metadata": {
    "pycharm": {
     "name": "#%%\n"
    },
    "scrolled": true
   },
   "outputs": [
    {
     "data": {
      "image/png": "[encoded data removed]",
      "text/plain": [
       "<Figure size 640x480 with 1 Axes>"
      ]
     },
     "metadata": {},
     "output_type": "display_data"
    }
   ],
   "source": [
    "# Visualize your results\n",
    "\n",
    "size = 100\n",
    "tile_size = 25\n",
    "\n",
    "checker = CheckerBoard(size, tile_size)\n",
    "checker.draw()\n",
    "checker.show()"
   ]
  },
  {
   "cell_type": "code",
   "execution_count": 136,
   "metadata": {
    "pycharm": {
     "name": "#%%\n"
    }
   },
   "outputs": [
    {
     "name": "stderr",
     "output_type": "stream",
     "text": [
      ".....\n",
      "----------------------------------------------------------------------\n",
      "Ran 5 tests in 0.012s\n",
      "\n",
      "OK\n"
     ]
    }
   ],
   "source": [
    "# Test your code\n",
    "\n",
    "!python ./tests/test_numpy_applied.py --test_case TestCheckerBoard"
   ]
  },
  {
   "cell_type": "markdown",
   "metadata": {
    "collapsed": false,
    "jupyter": {
     "outputs_hidden": false
    }
   },
   "source": [
    "\r\n"
   ]
  },
  {
   "cell_type": "markdown",
   "metadata": {
    "pycharm": {
     "name": "#%% md\n"
    }
   },
   "source": [
    "<a id='2'></a>\n",
    "## 2 - Shapes \\[17.5 points\\] ##\n",
    "\n",
    "In this second exercise you will be implementing a binary pattern consisting of a white circle, and white rectangle in front of a black background.\n",
    "\n",
    "An example of how the result can look like can be seen here:\n",
    "<div>\n",
    "<img src=\"../img/numpy_applied/shapes_pattern_01.png\" width=\"500\"/>\n",
    "</div>\n",
    "\n",
    "<b><span style=\"color:#B8860B\">Hints:</span> <b>\n",
    "<dl>\n",
    "<dd><span style=\"color:#B8860B\">1. For code-generated images and plots the axes' orientations differ from the ones you may know from math classes. Here, we use the pixel coordinate system. Conventionally the coordinate (0, 0) is located in the upper left corner of the image, with the x-axis ranging from left to right (along the columns of the image) and the y-axis ranging from top to bottom (along the rows of the image).</span></dd>\n",
    "<dd><span style=\"color:#B8860B\">2. For the rectangle shape, take into account that the given x1 and y1 coordinates could be smaller than the respective x2 and y2 coordinates.</span></dd>\n",
    "<dd><span style=\"color:#B8860B\">3. For the circular shape, think of a formula describing the circle with respect to pixel coordinates.</span></dd>\n",
    "</dl>\n",
    "\n",
    "<b><span style=\"color:red\">Attention:</span> <b>\n",
    "<dl>\n",
    "<dd><span style=\"color:red\">If you are using the dark mode of your development environment instead of the standard light one, it will most likely happen that the appearance of the colors white and black are completely switched. This means everything written in black is shown in white and vice versa. This affects the appearance of text but might as well affect the appearance of plots you will generate throughout this exercise. This means a figure which should be rendered in the color black will be rendered in the color white and vice versa. However, this accounts only for figures you will create by running parts of the code below. Figures that were provided by us will still appear the way they are, regardless which appearance mode you are using within your development environment. Please keep that in mind if you want to use your development environment's dark mode! </span></dd>\n",
    "</dl>"
   ]
  },
  {
   "cell_type": "markdown",
   "metadata": {
    "pycharm": {
     "name": "#%% md\n"
    }
   },
   "source": [
    "<a name='2-1'></a>\n",
    "### 2.1 - Create the Rectangle Shape \\[6 points\\] ###\n",
    "\n",
    "As a first step we will be implementing the class <span style=\"color:orange\"><strong>Rectangle</strong></span> which creates a white rectangle in front of a black background.\n",
    "\n",
    "An example of how the result can look like can be seen here:\n",
    "<div>\n",
    "<img src=\"../img/numpy_applied/shapes_pattern_02.png\" width=\"300\"/>\n",
    "</div>\n",
    "\n",
    "<span style=\"color:#00BFFF\"><em>Parameters</em></span>:\n",
    "- <span style=\"color:#00BFFF\"><em>size:</em></span> Defines the width and height of our pattern in pixels (int).\n",
    "- <span style=\"color:#00BFFF\"><em>x1y1:</em></span> Defines the x- and y-coordinate in pixels of one corner of the rectangle (tuple).\n",
    "- <span style=\"color:#00BFFF\"><em>x2y2:</em></span> Defines the x- and y-coordinate in pixels of the opposing corner to the x1y1-specified corner of the rectangle (tuple).\n",
    "\n",
    "<b><span style=\"color:teal\">TODO:</span> <b>\n",
    "<dl>\n",
    "<dd><span style=\"color:teal\">1. Implement the <span style=\"color:fuchsia\"><em>constructor</em></span>.</span></dd>\n",
    "<dd><span style=\"color:teal\">2. Implement the method <span style=\"color:#DC143C\"><em>draw()</em></span> which constructs the pattern as a numpy array.</span></dd>\n",
    "<dd><span style=\"color:teal\">3. Implement the method <span style=\"color:#DC143C\"><em>show()</em></span> which plots the pattern.</span></dd>\n",
    "</dl>\n",
    "\n",
    "<b><span style=\"color:#B8860B\">Hints:</span> <b>\n",
    "<dl>\n",
    "<dd><span style=\"color:#B8860B\">- Take into account that the given x1 and y1 coordinates could be smaller than the respective x2 and y2 coordinates.</span></dd>\n",
    "</dl>"
   ]
  },
  {
   "cell_type": "markdown",
   "metadata": {
    "pycharm": {
     "name": "#%% md\n"
    }
   },
   "source": []
  },
  {
   "cell_type": "code",
   "execution_count": 137,
   "metadata": {
    "pycharm": {
     "name": "#%%\n"
    }
   },
   "outputs": [],
   "source": [
    "class Rectangle:\n",
    "    def __init__(self, size:int, x1y1:tuple, x2y2:tuple):\n",
    "        \"\"\"\n",
    "        Create a Rectangle pattern object.\n",
    "\n",
    "        :param size: Width and height of the pattern in pixels.\n",
    "        :param x1y1: Tuple containing the x- and y-coordinate in pixels of one corner of the rectangle (x1, y1).\n",
    "        :param x2y2: Tuple containing the x- and y-coordinate in pixels of the opposing corner to the x1y1-specified corner of the rectangle (x2, y2).\n",
    "        \"\"\"\n",
    "\n",
    "        #############################################################################\n",
    "        #                            START OF YOUR CODE                             #\n",
    "        # TODO:                                                                     #\n",
    "        #    1) Implement the constructor                                           #\n",
    "        #    2) Store each of the given parameter in a class variable               #\n",
    "        #    3) Create an additional class variable with the name 'pattern' that    #\n",
    "        #       will store the final pattern                                        #\n",
    "        #############################################################################\n",
    "        self.size = size\n",
    "        self.x1y1 = x1y1\n",
    "        self.x2y2 = x2y2\n",
    "\n",
    "        self.pattern = np.zeros((size, size), dtype = int)\n",
    "\n",
    "        #############################################################################\n",
    "        #                              END OF YOUR CODE                             #\n",
    "        #############################################################################\n",
    "\n",
    "\n",
    "    def draw(self):\n",
    "        \"\"\"\n",
    "        Implement a binary rectangle with the given corner points in the image.\n",
    "        \"\"\"\n",
    "\n",
    "        #############################################################################\n",
    "        #                            START OF YOUR CODE                             #\n",
    "        # TODO:                                                                     #\n",
    "        #    1) Implement the method draw() which creates a binary image of a       #\n",
    "        #       rectangle as a numpy array                                          #\n",
    "        #    2) Take into account that x1 can be larger than x2 or vice versa       #\n",
    "        #    3) Take into account that y1 can be larger than y2 or vice versa       #\n",
    "        #    4) Store the final pattern in the class variable \"pattern\"             #\n",
    "        #############################################################################\n",
    "        x1, y1 = self.x1y1\n",
    "        x2, y2 = self.x2y2\n",
    "\n",
    "        x1, x2 = sorted((x1,x2))\n",
    "        y1, y2 = sorted((y1,y2))\n",
    "\n",
    "        self.pattern[y1:y2, x1:x2] = 1\n",
    "\n",
    "        #############################################################################\n",
    "        #                              END OF YOUR CODE                             #\n",
    "        #############################################################################\n",
    "\n",
    "    def show(self):\n",
    "        \"\"\"\n",
    "        Show the rectangle pattern.\n",
    "        \"\"\"\n",
    "\n",
    "        #############################################################################\n",
    "        #                            START OF YOUR CODE                             #\n",
    "        # TODO:                                                                     #\n",
    "        #    1) Visualize the final pattern as a grayscale image by using           #\n",
    "        #       the imshow()-function of the matplotlib package with the respective #\n",
    "        #       parameter                                                           #\n",
    "        #############################################################################\n",
    "        plt.imshow(self.pattern, cmap='gray')\n",
    "        plt.axis('off')\n",
    "        plt.show()\n",
    "\n",
    "        #############################################################################\n",
    "        #                              END OF YOUR CODE                             #\n",
    "        #############################################################################"
   ]
  },
  {
   "cell_type": "code",
   "execution_count": 138,
   "metadata": {
    "pycharm": {
     "name": "#%%\n"
    }
   },
   "outputs": [
    {
     "data": {
      "image/png": "[encoded data removed]",
      "text/plain": [
       "<Figure size 640x480 with 1 Axes>"
      ]
     },
     "metadata": {},
     "output_type": "display_data"
    }
   ],
   "source": [
    "# Visualize your results\n",
    "\n",
    "size = 100\n",
    "x1y1 = (40, 70)\n",
    "x2y2 = (60, 95)\n",
    "\n",
    "rectangle = Rectangle(size, x1y1, x2y2)\n",
    "rectangle.draw()\n",
    "rectangle.show()"
   ]
  },
  {
   "cell_type": "code",
   "execution_count": 139,
   "metadata": {
    "pycharm": {
     "name": "#%%\n"
    }
   },
   "outputs": [
    {
     "name": "stderr",
     "output_type": "stream",
     "text": [
      "....\n",
      "----------------------------------------------------------------------\n",
      "Ran 4 tests in 0.008s\n",
      "\n",
      "OK\n"
     ]
    }
   ],
   "source": [
    "# Test your code\n",
    "\n",
    "!python ./tests/test_numpy_applied.py --test_case TestRectangle"
   ]
  },
  {
   "cell_type": "markdown",
   "metadata": {
    "collapsed": false,
    "jupyter": {
     "outputs_hidden": false
    }
   },
   "source": []
  },
  {
   "cell_type": "markdown",
   "metadata": {
    "pycharm": {
     "name": "#%% md\n"
    }
   },
   "source": [
    "<a name='2-2'></a>\n",
    "### 2.2 - Create the Circle Shape \\[7.5 points\\] ###\n",
    "\n",
    "As the second step we will be implementing the class <span style=\"color:orange\"><strong>Circle</strong></span> which creates a white circle in front of a black background.\n",
    "\n",
    "An example of how the result can look like can be seen here:\n",
    "<div>\n",
    "<img src=\"../img/numpy_applied/shapes_pattern_03.png\" width=\"300\"/>\n",
    "</div>\n",
    "\n",
    "<span style=\"color:#00BFFF\"><em>Parameters</em></span>:\n",
    "- <span style=\"color:#00BFFF\"><em>size:</em></span> Defines the width and height of our pattern in pixels (int).\n",
    "- <span style=\"color:#00BFFF\"><em>radius:</em></span> Defines the radius of the circle in pixels (int).\n",
    "- <span style=\"color:#00BFFF\"><em>center:</em></span> Defines the x- and y-coordinate of the circle center in pixels (int).\n",
    "\n",
    "<b><span style=\"color:teal\">TODO:</span> <b>\n",
    "<dl>\n",
    "<dd><span style=\"color:teal\">1. Implement the <span style=\"color:fuchsia\"><em>constructor</em></span>.</span></dd>\n",
    "<dd><span style=\"color:teal\">2. Implement the method <span style=\"color:#DC143C\"><em>draw()</em></span> which constructs the pattern as a numpy array.</span></dd>\n",
    "<dd><span style=\"color:teal\">3. Implement the method <span style=\"color:#DC143C\"><em>show()</em></span> which plots the pattern.</span></dd>\n",
    "</dl>\n",
    "\n",
    "<b><span style=\"color:#B8860B\">Hints:</span> <b>\n",
    "<dl>\n",
    "<dd><span style=\"color:#B8860B\">- Think of a formula describing the circle with respect to pixel coordinates.</span></dd>\n",
    "</dl>"
   ]
  },
  {
   "cell_type": "code",
   "execution_count": 196,
   "metadata": {
    "pycharm": {
     "name": "#%%\n"
    }
   },
   "outputs": [],
   "source": [
    "class Circle:\n",
    "    def __init__(self, size: int, radius: int, center: tuple):\n",
    "        \"\"\"\n",
    "        Create a circle pattern object.\n",
    "\n",
    "        :param size: Width and height of the pattern.\n",
    "        :param radius: Radius of the circle.\n",
    "        :param center: X- and y-coordinate of the circle center in the image.\n",
    "        \"\"\"\n",
    "\n",
    "        #############################################################################\n",
    "        #                            START OF YOUR CODE                             #\n",
    "        # TODO:                                                                     #\n",
    "        #    1) Implement the constructor                                           #\n",
    "        #    2) Store each of the given parameter in a class variable               #\n",
    "        #    3) Create an additional class variable with the name 'pattern' that    #\n",
    "        #       will store the final pattern                                        #\n",
    "        #############################################################################\n",
    "        self.size = size\n",
    "        self.radius = radius\n",
    "        self.center = center\n",
    "\n",
    "        self.pattern = np.zeros((self.size, self.size), dtype=int)\n",
    "\n",
    "        #############################################################################\n",
    "        #                              END OF YOUR CODE                             #\n",
    "        #############################################################################\n",
    "\n",
    "    def draw(self):\n",
    "        \"\"\"\n",
    "        Implement a binary circle with a given radius at a specified position in the image.\n",
    "        \"\"\"\n",
    "\n",
    "        #############################################################################\n",
    "        #                            START OF YOUR CODE                             #\n",
    "        # TODO:                                                                     #\n",
    "        #    1) Implement the method draw() which creates a binary image of a       #\n",
    "        #       circle as a numpy array                                             #\n",
    "        #    2) Store the final pattern in the class variable \"pattern\"             #\n",
    "        #############################################################################\n",
    "        (x1, y1) = self.center\n",
    "\n",
    "        for x in range(self.size):\n",
    "            for y in range(self.size):\n",
    "                if((x-x1)**2)+((y-y1)**2)<=(self.radius **2):\n",
    "                    self.pattern[y,x]=1\n",
    "                \n",
    "        #############################################################################\n",
    "        #                              END OF YOUR CODE                             #\n",
    "        #############################################################################\n",
    "\n",
    "    def show(self):\n",
    "        \"\"\"\n",
    "        Show the final pattern.\n",
    "        \"\"\"\n",
    "\n",
    "        #############################################################################\n",
    "        #                            START OF YOUR CODE                             #\n",
    "        # TODO:                                                                     #\n",
    "        #    1) Visualize the final pattern as a grayscale image by using           #\n",
    "        #       the imshow()-function of the matplotlib package with the respective #\n",
    "        #       parameter                                                           #\n",
    "        #############################################################################\n",
    "        plt.imshow(self.pattern, cmap='gray')\n",
    "        plt.axis('off')\n",
    "        plt.show()\n",
    "\n",
    "        print(\"Max value in the pattern:\", np.max(circle.pattern))\n",
    "        print(\"Min value in the pattern:\", np.min(circle.pattern))\n",
    "        print(\"Sum of pattern values:\", np.sum(circle.pattern))\n",
    "\n",
    "        #############################################################################\n",
    "        #                              END OF YOUR CODE                             #\n",
    "        #############################################################################"
   ]
  },
  {
   "cell_type": "code",
   "execution_count": 197,
   "metadata": {
    "pycharm": {
     "name": "#%%\n"
    }
   },
   "outputs": [
    {
     "data": {
      "image/png": "[encoded data removed]",
      "text/plain": [
       "<Figure size 640x480 with 1 Axes>"
      ]
     },
     "metadata": {},
     "output_type": "display_data"
    },
    {
     "name": "stdout",
     "output_type": "stream",
     "text": [
      "Max value in the pattern: 1\n",
      "Min value in the pattern: 0\n",
      "Sum of pattern values: 7845\n"
     ]
    }
   ],
   "source": [
    "# Visualize your results\n",
    "\n",
    "size = 200\n",
    "radius = 50\n",
    "center = (70, 120)\n",
    "\n",
    "circle = Circle(size, radius, center)\n",
    "circle.draw()\n",
    "circle.show()"
   ]
  },
  {
   "cell_type": "code",
   "execution_count": 198,
   "metadata": {
    "pycharm": {
     "name": "#%%\n"
    },
    "scrolled": true
   },
   "outputs": [
    {
     "name": "stderr",
     "output_type": "stream",
     "text": [
      ".F..\n",
      "======================================================================\n",
      "FAIL: test_pattern1 (__main__.TestCircle)\n",
      "Test whether the students pattern matches the expected one.\n",
      "----------------------------------------------------------------------\n",
      "Traceback (most recent call last):\n",
      "  File \"C:\\Users\\Dell\\OneDrive\\Desktop\\xAI-DL\\assignment1\\assignment1\\Programming\\code\\tests\\test_numpy_applied.py\", line 322, in test_pattern1\n",
      "    self.assertEqual(np.max(student_version), 0, \"Pattern is not correct!\")\n",
      "AssertionError: np.int64(1) != 0 : Pattern is not correct!\n",
      "\n",
      "----------------------------------------------------------------------\n",
      "Ran 4 tests in 0.037s\n",
      "\n",
      "FAILED (failures=1)\n"
     ]
    }
   ],
   "source": [
    "# Test your code\n",
    "\n",
    "!python ./tests/test_numpy_applied.py --test_case TestCircle"
   ]
  },
  {
   "cell_type": "markdown",
   "metadata": {
    "collapsed": false,
    "jupyter": {
     "outputs_hidden": false
    }
   },
   "source": []
  },
  {
   "cell_type": "markdown",
   "metadata": {
    "pycharm": {
     "name": "#%% md\n"
    }
   },
   "source": [
    "<a name='2-3'></a>\n",
    "### 2.3 - Combine and Plot the Shapes \\[4 points\\] ###\n",
    "\n",
    "As the last step we will call the previously created classes <span style=\"color:orange\"><strong>Rectangle</strong></span> and <span style=\"color:orange\"><strong>Circle</strong></span> to create the wanted shape pattern.\n",
    "\n",
    "<span style=\"color:#00BFFF\"><em>Parameters</em></span>:\n",
    "- <span style=\"color:#00BFFF\"><em>size:</em></span> Defines the width and height of our pattern in pixels (int).\n",
    "- <span style=\"color:#00BFFF\"><em>x1y1:</em></span> Defines the x- and y-coordinate in pixels of one corner of the rectangle (tuple).\n",
    "- <span style=\"color:#00BFFF\"><em>x2y2:</em></span> Defines the x- and y-coordinate in pixels of the opposing corner to the x1y1-specified corner of the rectangle (tuple).\n",
    "- <span style=\"color:#00BFFF\"><em>radius:</em></span> Defines the radius of the circle in pixels (int).\n",
    "- <span style=\"color:#00BFFF\"><em>center:</em></span> Defines the x- and y-coordinate of the circle center in pixels (int).\n",
    "\n",
    "<b><span style=\"color:teal\">TODO:</span> <b>\n",
    "<dl>\n",
    "<dd><span style=\"color:teal\">1. Create the individual patterns of <span style=\"color:orange\"><strong>Rectangle</strong></span> and <span style=\"color:orange\"><strong>Circle</strong></span>.</span></dd>\n",
    "<dd><span style=\"color:teal\">2. Combine the patterns in one image and plot the latter as a gray-scale image.</span></dd>\n",
    "</dl>\n",
    "\n",
    "<b><span style=\"color:#B8860B\">Hints:</span> <b>\n",
    "<dl>\n",
    "<dd><span style=\"color:#B8860B\">- Think about how to process overlapping shapes in one image to keep the binary style of the pattern.</span></dd>\n",
    "</dl>"
   ]
  },
  {
   "cell_type": "code",
   "execution_count": 15,
   "metadata": {
    "pycharm": {
     "name": "#%%\n"
    }
   },
   "outputs": [],
   "source": [
    "def combine_and_plot_shapes(size:int, x1y1:tuple, x2y2:tuple, radius: int, center: tuple):\n",
    "    \"\"\"\n",
    "    Create a binary pattern consisting of a white circle, and white rectangle in front of a black background.\n",
    "\n",
    "    :param size: Width and height of the pattern in pixels.\n",
    "    :param x1y1: Tuple containing the x- and y-coordinate in pixels of one corner of the rectangle (x1, y1).\n",
    "    :param x2y2: Tuple containing the x- and y-coordinate in pixels of the opposing corner to the x1y1-specified corner of the rectangle (x2, y2).\n",
    "    :param radius: Radius of the circle.\n",
    "    :param center: X- and y-coordinate of the circle center in the image.\n",
    "    \"\"\"\n",
    "\n",
    "    final_pattern = None\n",
    "\n",
    "    #############################################################################\n",
    "    #                            START OF YOUR CODE                             #\n",
    "    # TODO:                                                                     #\n",
    "    #    1) Create the rectangle and circle pattern individually                #\n",
    "    #    2) Combine the patterns in one single image (np.array) 'final_pattern' #\n",
    "    #    3) Plot the final pattern                                              #\n",
    "    #############################################################################\n",
    "    rectangle = Rectangle(size,x1y1, x2y2)\n",
    "    rectangle.draw()\n",
    "\n",
    "    circle = Circle(size, radius, center)\n",
    "    circle.draw()\n",
    "\n",
    "    final_pattern = np.maximum(rectangle.pattern, circle.pattern)\n",
    "\n",
    "    plt.imshow(final_pattern, cmap='gray')\n",
    "    plt.axis('off')\n",
    "    plt.show()\n",
    "\n",
    "    #############################################################################\n",
    "    #                              END OF YOUR CODE                             #\n",
    "    #############################################################################\n",
    "\n",
    "    # Return the final pattern\n",
    "    return final_pattern"
   ]
  },
  {
   "cell_type": "code",
   "execution_count": 16,
   "metadata": {
    "pycharm": {
     "name": "#%%\n"
    }
   },
   "outputs": [
    {
     "data": {
      "image/png": "[encoded data removed]",
      "text/plain": [
       "<Figure size 640x480 with 1 Axes>"
      ]
     },
     "metadata": {},
     "output_type": "display_data"
    }
   ],
   "source": [
    "# Visualize your results\n",
    "\n",
    "size = 100\n",
    "x1y1 = (40, 70)\n",
    "x2y2 = (60, 95)\n",
    "radius = 20\n",
    "center = (50, 50)\n",
    "\n",
    "pattern = combine_and_plot_shapes(size, x1y1, x2y2, radius, center)"
   ]
  },
  {
   "cell_type": "code",
   "execution_count": 17,
   "metadata": {
    "pycharm": {
     "name": "#%%\n"
    }
   },
   "outputs": [
    {
     "name": "stdout",
     "output_type": "stream",
     "text": [
      "<Figure size 640x480 with 1 Axes>\n",
      "<Figure size 640x480 with 1 Axes>\n",
      "<Figure size 640x480 with 1 Axes>\n"
     ]
    },
    {
     "name": "stderr",
     "output_type": "stream",
     "text": [
      "...\n",
      "----------------------------------------------------------------------\n",
      "Ran 3 tests in 0.154s\n",
      "\n",
      "OK\n"
     ]
    }
   ],
   "source": [
    "# Test your code\n",
    "\n",
    "!python ./tests/test_numpy_applied.py --test_case TestShapes"
   ]
  },
  {
   "cell_type": "markdown",
   "metadata": {
    "collapsed": false,
    "jupyter": {
     "outputs_hidden": false
    }
   },
   "source": []
  },
  {
   "cell_type": "markdown",
   "metadata": {
    "pycharm": {
     "name": "#%% md\n"
    }
   },
   "source": [
    "<a id='3'></a>\n",
    "## 3 - Bonus: Color Spectrum \\[10 points\\] ##\n",
    "\n",
    "In this third and optional exercise you will be implementing an RGB color spectrum in the class <span style=\"color:orange\"><strong>Spectrum</strong></span>. Since this exercise is optional it won't count towards your grade on this assignment. However, it might be quite interesting and fun to code, so feel free to do it!\n",
    "\n",
    "An example of how the result should look like can be seen here:\n",
    "<div>\n",
    "<img src=\"../img/numpy_applied/spectrum_pattern_01.png\" width=\"300\"/>\n",
    "</div>\n",
    "\n",
    "<span style=\"color:#00BFFF\"><em>Parameters</em></span>:\n",
    "- <span style=\"color:#00BFFF\"><em>size:</em></span> Defines the width and height of our pattern in pixels (int).\n",
    "\n",
    "<b><span style=\"color:teal\">TODO:</span> <b>\n",
    "<dl>\n",
    "<dd><span style=\"color:teal\">1. Implement the <span style=\"color:fuchsia\"><em>constructor</em></span>.</span></dd>\n",
    "<dd><span style=\"color:teal\">2. Implement the method <span style=\"color:#DC143C\"><em>draw()</em></span> which constructs the pattern as a numpy array.</span></dd>\n",
    "<dd><span style=\"color:teal\">3. Implement the method <span style=\"color:#DC143C\"><em>show()</em></span> which plots the pattern.</span></dd>\n",
    "</dl>\n",
    "\n",
    "<b><span style=\"color:#B8860B\">Hints:</span> <b>\n",
    "<dl>\n",
    "<dd><span style=\"color:#B8860B\">- RGB images have 3 channels.</span></dd>\n",
    "<dd><span style=\"color:#B8860B\">- A spectrum consists of rising values across a specific dimension.</span></dd>\n",
    "<dd><span style=\"color:#B8860B\">- The intensity minimum and maxmimum should be 0.0 and 1.0, respectively, for each of the three color channels.</span></dd>\n",
    "<dd><span style=\"color:#B8860B\">- Check out the corners of the reference image ot figure out the underlying distribution of channels.</span></dd>\n",
    "</dl>"
   ]
  },
  {
   "cell_type": "code",
   "execution_count": 21,
   "metadata": {
    "pycharm": {
     "name": "#%%\n"
    }
   },
   "outputs": [],
   "source": [
    "class Spectrum:\n",
    "    def __init__(self, size):\n",
    "        \"\"\"\n",
    "        Create a Spectrum pattern object.\n",
    "\n",
    "        :param size: Width and height of the pattern in pixels.\n",
    "        \"\"\"\n",
    "\n",
    "        #############################################################################\n",
    "        #                            START OF YOUR CODE                             #\n",
    "        # TODO:                                                                     #\n",
    "        #    1) Implement the constructor                                           #\n",
    "        #    2) Store the given parameter in a class variable                       #\n",
    "        #    3) Create an additional class variable with the name 'pattern' that    #\n",
    "        #       will store the final pattern                                        #\n",
    "        #############################################################################\n",
    "        self.size = size\n",
    "        self.pattern = np.zeros((size, size, 3), dtype=float)\n",
    "\n",
    "        #############################################################################\n",
    "        #                              END OF YOUR CODE                             #\n",
    "        #############################################################################\n",
    "\n",
    "    def draw(self):\n",
    "        \"\"\"\n",
    "        Implement an RGB color spectrum.\n",
    "        \"\"\"\n",
    "\n",
    "        #############################################################################\n",
    "        #                            START OF YOUR CODE                             #\n",
    "        # TODO:                                                                     #\n",
    "        #    1) Implement the method draw() which creates the spectrum as a numpy   #\n",
    "        #       array                                                               #\n",
    "        #    2) Take a look at the corners of the reference image to understand the #\n",
    "        #       distribution of channels                                            #\n",
    "        #    3) Store the final pattern in the class variable \"pattern\"             #\n",
    "        #############################################################################\n",
    "        top_left = np.array([0.0, 0.0, 1.0])           \n",
    "        top_right = np.array([1.0, 0.0, 0.0])          \n",
    "        bottom_left = np.array([0.0, 1.0, 1.0])        \n",
    "        bottom_right = np.array([1.0, 1.0, 0.0])        \n",
    "\n",
    "        for i in range(self.size):\n",
    "            for j in range(self.size):\n",
    "                weight_t = (self.size - 1 - i) / (self.size - 1)  \n",
    "                weight_b = i / (self.size - 1)                     \n",
    "                weight_l = (self.size - 1 - j) / (self.size - 1) \n",
    "                weight_r = j / (self.size - 1)                      \n",
    "\n",
    "               \n",
    "                top_color = weight_l * top_left + weight_r * top_right\n",
    "                bottom_color = weight_l * bottom_left + weight_r * bottom_right\n",
    "                final_color = weight_t * top_color + weight_b * bottom_color\n",
    "\n",
    "               \n",
    "                self.pattern[i, j] = final_color\n",
    "\n",
    "        #############################################################################\n",
    "        #                              END OF YOUR CODE                             #\n",
    "        #############################################################################\n",
    "\n",
    "    def show(self):\n",
    "        \"\"\"\n",
    "        Show the spectrum pattern.\n",
    "        \"\"\"\n",
    "\n",
    "        #############################################################################\n",
    "        #                            START OF YOUR CODE                             #\n",
    "        # TODO:                                                                     #\n",
    "        #    1) Visualize the final pattern as a colored image by using             #\n",
    "        #       the imshow()-function of the matplotlib package                     #\n",
    "        #############################################################################\n",
    "        plt.imshow(self.pattern)\n",
    "        plt.axis('off')\n",
    "        plt.show()\n",
    "\n",
    "        #############################################################################\n",
    "        #                              END OF YOUR CODE                             #\n",
    "        #############################################################################"
   ]
  },
  {
   "cell_type": "code",
   "execution_count": 22,
   "metadata": {
    "pycharm": {
     "name": "#%%\n"
    }
   },
   "outputs": [
    {
     "data": {
      "image/png": "[encoded data removed]",
      "text/plain": [
       "<Figure size 640x480 with 1 Axes>"
      ]
     },
     "metadata": {},
     "output_type": "display_data"
    }
   ],
   "source": [
    "# Visualize your results\n",
    "size = 100\n",
    "\n",
    "spectrum = Spectrum(size)\n",
    "spectrum.draw()\n",
    "spectrum.show()"
   ]
  },
  {
   "cell_type": "code",
   "execution_count": 23,
   "metadata": {
    "pycharm": {
     "name": "#%%\n"
    }
   },
   "outputs": [
    {
     "name": "stderr",
     "output_type": "stream",
     "text": [
      "....\n",
      "----------------------------------------------------------------------\n",
      "Ran 4 tests in 0.388s\n",
      "\n",
      "OK\n"
     ]
    }
   ],
   "source": [
    "# Test your code\n",
    "\n",
    "!python ./tests/test_numpy_applied.py --test_case TestSpectrum"
   ]
  },
  {
   "cell_type": "markdown",
   "metadata": {
    "collapsed": false,
    "jupyter": {
     "outputs_hidden": false
    }
   },
   "source": []
  },
  {
   "cell_type": "markdown",
   "metadata": {
    "pycharm": {
     "name": "#%% md\n"
    }
   },
   "source": [
    "<a id='4'></a>\n",
    "## 4 - End of Exercise ##\n",
    "\n",
    "<div>\n",
    "    <img src=\"../img/memes/meme_youDidIt_02.png\" width=\"700\"/>\n",
    "</div>\n",
    "\n",
    "Created with and licensed under [Adobe Express](https://www.adobe.com/de/express/)"
   ]
  },
  {
   "cell_type": "code",
   "execution_count": null,
   "metadata": {
    "pycharm": {
     "name": "#%%\n"
    }
   },
   "outputs": [],
   "source": []
  }
 ],
 "metadata": {
  "kernelspec": {
   "display_name": "Python 3 (ipykernel)",
   "language": "python",
   "name": "python3"
  },
  "language_info": {
   "codemirror_mode": {
    "name": "ipython",
    "version": 3
   },
   "file_extension": ".py",
   "mimetype": "text/x-python",
   "name": "python",
   "nbconvert_exporter": "python",
   "pygments_lexer": "ipython3",
   "version": "3.9.20"
  }
 },
 "nbformat": 4,
 "nbformat_minor": 4
}
