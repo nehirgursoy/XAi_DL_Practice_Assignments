{
 "cells": [
  {
   "cell_type": "markdown",
   "metadata": {
    "collapsed": false,
    "jupyter": {
     "outputs_hidden": false
    },
    "pycharm": {
     "name": "#%% md\n"
    }
   },
   "source": [
    "# Torch Tensors Basics \\[25 points\\]"
   ]
  },
  {
   "cell_type": "markdown",
   "metadata": {
    "collapsed": false,
    "jupyter": {
     "outputs_hidden": false
    },
    "pycharm": {
     "name": "#%% md\n"
    }
   },
   "source": [
    "<b><span style=\"color:#00CED1\">Association:</span></b>\n",
    "<span style=\"color:#00CED1\">Otto-Friedrich University of Bamberg</span>\n",
    "<span style=\"color:#00CED1\">Chair of Explainable Machine Learning (xAI)</span>\n",
    "<span style=\"color:#00CED1\">Deep Learning Assignments</span>\n",
    "\n",
    "<b><span style=\"color:#00CED1\">Description:</span></b>\n",
    "<span style=\"color:#00CED1\">This notebook introduces the basic functions and processes of the free torch package from PyTorch.</span>\n",
    "<span style=\"color:#00CED1\">Students will learn how to use those functions and are able to test their implementations directly via provided unittests.</span>\n",
    "\n",
    "<span style=\"color:#00CED1\"><b>Author:</b> Sebastian Doerrich</span>\n",
    "<span style=\"color:#00CED1\"><b>Copyright:</b> Copyright (c) 2022, Chair of Explainable Machine Learning (xAI), Otto-Friedrich University of Bamberg</span>\n",
    "<span style=\"color:#00CED1\"><b>Credits:</b> Christian Ledig, Sebastian Doerrich</span>\n",
    "<span style=\"color:#00CED1\"><b>License:</b> CC BY-SA</span>\n",
    "<span style=\"color:#00CED1\"><b>Version:</b> 1.0</span>\n",
    "<span style=\"color:#00CED1\"><b>Python:</b> Python 3</span>\n",
    "<span style=\"color:#00CED1\"><b>Maintainer:</b> Sebastian Doerrich</span>\n",
    "<span style=\"color:#00CED1\"><b>Email:</b> sebastian.doerrich@uni-bamberg.de</span>\n",
    "<span style=\"color:#00CED1\"><b>Status:</b> Production</span>"
   ]
  },
  {
   "cell_type": "markdown",
   "metadata": {
    "collapsed": false,
    "jupyter": {
     "outputs_hidden": false
    },
    "pycharm": {
     "name": "#%% md\n"
    }
   },
   "source": [
    "## Context\n",
    "Welcome again to your first assignment.\n",
    "This third part of the exercise gives you an introduction to the basics of tensor operations. Tensors are an essential part of PyTorch which we will use later in the course to built our neural networks. Hence, understanding the fundamentals now will help you succeed in later assignments.\n",
    "\n",
    "## Instructions\n",
    "- You will be using Python 3.\n",
    "- After coding your function, run the cell right below it to check if your result is correct.\n",
    "\n",
    "## Important Notes for Your Submission\n",
    "Before submitting your assignment, please make sure you are not doing the following:\n",
    "\n",
    "1. You have not added any _extra_ `print` statement(s) in the assignment.\n",
    "2. You have not added any _extra_ code cell(s) in the assignment.\n",
    "3. You have not changed any of the function parameters.\n",
    "4. You are not using any global variables inside your graded exercises. Unless specifically instructed to do so, please refrain from it and use the local variables instead.\n",
    "5. You are not changing the assignment code where it is not required, like creating _extra_ variables.\n",
    "\n",
    "If you do any of the mentioned, our test scripts will fail and as a result you will receive **0 points** for the respective task.\n",
    "\n",
    "## Table of Contents\n",
    "- [0 - Import the Necessary Libraries](#0)\n",
    "- [1 - Install Torch \\[1 point\\]](#1)\n",
    "- [2 - Tensor Basics \\[11 points\\]](#2)\n",
    "    - [2.1 - Create a Tensor \\[3.5 points\\]](#2-1)\n",
    "    - [2.2 - Extract Tensor Information \\[2.5 points\\]](#2-2)\n",
    "    - [2.3 - Indexing and Slicing \\[5 points\\]](#2-3)\n",
    "- [3 - Tensor Calculations \\[3 points\\]](#3)\n",
    "    - [3.1 - Tensor Addition \\[0.5 points\\]](#3-1)\n",
    "    - [3.2 - Scalar Multiplication \\[0.5 points\\]](#3-2)\n",
    "    - [3.3 - Hadamard Product \\[0.5 points\\]](#3-3)\n",
    "    - [3.4 - Matrix Multiplication \\[0.5 points\\]](#3-4)\n",
    "    - [3.5 - Dot Product \\[0.5 points\\]](#3-5)\n",
    "    - [3.6 - Square Tensor \\[0.5 points\\]](#3-6)\n",
    "- [4 - Tensor Statistics \\[2 points\\]](#4)\n",
    "    - [4.1 - Tensor Min \\[0.5 points\\]](#4-1)\n",
    "    - [4.2 - Tensor Max \\[0.5 points\\]](#4-2)\n",
    "    - [4.3 - Tensor Mean \\[0.5 points\\]](#4-3)\n",
    "    - [4.4 - Tensor Standard Deviation \\[0.5 points\\]](#4-4)\n",
    "- [5 - Tensor Operations \\[8 points\\]](#5)\n",
    "    - [5.1 - Casting \\[3 points\\]](#5-1)\n",
    "    - [5.2 - Transform a Tensor \\[4 points\\]](#5-2)\n",
    "    - [5.3 - Concatenate Tensors \\[1 point\\]](#5-3)\n",
    "- [6 - End of Exercise](#6)"
   ]
  },
  {
   "cell_type": "markdown",
   "metadata": {
    "collapsed": false,
    "jupyter": {
     "outputs_hidden": false
    },
    "pycharm": {
     "name": "#%% md\n"
    }
   },
   "source": [
    "<a name='0'></a>\n",
    "## 0 - Import the Necessary Libraries ##"
   ]
  },
  {
   "cell_type": "code",
   "execution_count": 329,
   "metadata": {
    "collapsed": false,
    "jupyter": {
     "outputs_hidden": false
    },
    "pycharm": {
     "name": "#%%\n"
    }
   },
   "outputs": [],
   "source": [
    "# Import packages\n",
    "import numpy as np"
   ]
  },
  {
   "cell_type": "markdown",
   "metadata": {
    "collapsed": false,
    "jupyter": {
     "outputs_hidden": false
    }
   },
   "source": []
  },
  {
   "cell_type": "markdown",
   "metadata": {
    "collapsed": false,
    "jupyter": {
     "outputs_hidden": false
    },
    "pycharm": {
     "name": "#%% md\n"
    }
   },
   "source": [
    "<a name='1'></a>\n",
    "## 1 - Install Torch \\[1 point\\] ##\n",
    "\n",
    "Please note that the provided <span style=\"color:orange\">environment.yaml</span> file does not contain a <span style=\"color:#6495ED\"><em><a href=\"https://pytorch.org/\" title=”PyTorch”>PyTorch Installation</a></em></span> for you. This is due to the fact that you may run the code on a CPU or GPU, or for a different CUDA version. Hence, as a first step, please refer to the <span style=\"color:#6495ED\"><em><a href=\"https://pytorch.org/\" title=”PyTorch”>official documentation</a></em></span> of PyTorch to install the version that is suited best for you and your equipment."
   ]
  },
  {
   "cell_type": "code",
   "execution_count": 335,
   "metadata": {
    "collapsed": false,
    "jupyter": {
     "outputs_hidden": false
    },
    "pycharm": {
     "name": "#%%\n"
    }
   },
   "outputs": [
    {
     "data": {
      "text/plain": [
       "'2.5.1+cu118'"
      ]
     },
     "execution_count": 335,
     "metadata": {},
     "output_type": "execute_result"
    }
   ],
   "source": [
    "# Test for PyTorch\n",
    "import torch\n",
    "\n",
    "torch.__version__"
   ]
  },
  {
   "cell_type": "markdown",
   "metadata": {
    "collapsed": false,
    "jupyter": {
     "outputs_hidden": false
    }
   },
   "source": []
  },
  {
   "cell_type": "markdown",
   "metadata": {
    "collapsed": false,
    "jupyter": {
     "outputs_hidden": false
    },
    "pycharm": {
     "name": "#%% md\n"
    }
   },
   "source": [
    "<a id='2'></a>\n",
    "## 2 - Tensor Basics \\[11 points\\] ##\n",
    "\n",
    "PyTorch is an open source machine learning framework which is used for applications such as computer vision and natural language processing. It is a free and open-source software which provides the following two high-level features:\n",
    "- Tensor computing (like NumPy) with strong acceleration via graphics processing units (GPU)\n",
    "- Deep neural networks built on a tape-based automatic differentiation system\n",
    "\n",
    "In this exercise you will learn some basic functions the torch package provides you with to create, define and index tensors."
   ]
  },
  {
   "cell_type": "markdown",
   "metadata": {
    "collapsed": false,
    "jupyter": {
     "outputs_hidden": false
    },
    "pycharm": {
     "name": "#%% md\n"
    }
   },
   "source": [
    "<a name='2-1'></a>\n",
    "### 2.1 - Create a Tensor \\[3.5 points\\] ###\n",
    "\n",
    "In this exercise you will learn different ways of how to create a tensor.\n",
    "\n",
    "<span style=\"color:#00BFFF\"><em>Parameters</em></span>:\n",
    "- <span style=\"color:#00BFFF\"><em>shape:</em></span> Defines the shape of the tensor (tuple).\n",
    "\n",
    "<b><span style=\"color:teal\">TODO:</span> <b>\n",
    "<dl>\n",
    "<dd><span style=\"color:teal\">1. Implement the method <span style=\"color:#DC143C\"><em>create_tensor_with_specified_shape</em></span> which creates a tensor with a specified <span style=\"color:#00BFFF\"><em>shape</em></span>.</span></dd>\n",
    "</dl>"
   ]
  },
  {
   "cell_type": "code",
   "execution_count": 392,
   "metadata": {
    "collapsed": false,
    "jupyter": {
     "outputs_hidden": false
    },
    "pycharm": {
     "name": "#%%\n"
    }
   },
   "outputs": [],
   "source": [
    "def create_tensor_with_specified_shape(shape: tuple):\n",
    "    \"\"\"\n",
    "    Create a tensor with a specified shape.\n",
    "\n",
    "    :param shape: Shape of the tensor.\n",
    "    :return: Tensor of shape 'shape'.\n",
    "    \"\"\"\n",
    "\n",
    "    output = None\n",
    "\n",
    "    #############################################################################\n",
    "    #                            START OF YOUR CODE                             #\n",
    "    # TODO:                                                                     #\n",
    "    #    1) Create and return a torch.tensor of shape 'shape'                   #\n",
    "    #############################################################################\n",
    "    output = torch.zeros(shape)\n",
    "\n",
    "    #############################################################################\n",
    "    #                              END OF YOUR CODE                             #\n",
    "    #############################################################################\n",
    "\n",
    "    return output"
   ]
  },
  {
   "cell_type": "code",
   "execution_count": 393,
   "metadata": {
    "collapsed": false,
    "jupyter": {
     "outputs_hidden": false
    },
    "pycharm": {
     "name": "#%%\n"
    }
   },
   "outputs": [
    {
     "name": "stderr",
     "output_type": "stream",
     "text": [
      "C:\\Users\\Dell\\OneDrive\\Desktop\\xAI-DL\\assignment1\\assignment1\\Programming\\code\\tests\\test_torch_tensors_basics.py:59: FutureWarning: You are using `torch.load` with `weights_only=False` (the current default value), which uses the default pickle module implicitly. It is possible to construct malicious pickle data which will execute arbitrary code during unpickling (See https://github.com/pytorch/pytorch/blob/main/SECURITY.md#untrusted-models for more details). In a future release, the default value for `weights_only` will be flipped to `True`. This limits the functions that could be executed during unpickling. Arbitrary objects will no longer be allowed to be loaded via this mode unless they are explicitly allowlisted by the user via `torch.serialization.add_safe_globals`. We recommend you start setting `weights_only=True` for any use case where you don't have full control of the loaded file. Please open an issue on GitHub for any issues related to this experimental feature.\n",
      "  expected_version = torch.load(\"../data/torch_tensors_basics/reference_tensor_basics.pt\")[\"t1\"]\n",
      ".\n",
      "----------------------------------------------------------------------\n",
      "Ran 1 test in 0.001s\n",
      "\n",
      "OK\n"
     ]
    }
   ],
   "source": [
    "# Test your code\n",
    "\n",
    "!python ./tests/test_torch_tensors_basics.py --test_case TestBasics --test_function test_creation_of_tensor_with_specified_shape"
   ]
  },
  {
   "cell_type": "markdown",
   "metadata": {
    "collapsed": false,
    "jupyter": {
     "outputs_hidden": false
    }
   },
   "source": []
  },
  {
   "cell_type": "markdown",
   "metadata": {
    "collapsed": false,
    "jupyter": {
     "outputs_hidden": false
    },
    "pycharm": {
     "name": "#%% md\n"
    }
   },
   "source": [
    "<span style=\"color:#00BFFF\"><em>Parameters</em></span>:\n",
    "- <span style=\"color:#00BFFF\"><em>lst:</em></span> Defines an n-dimensional list of values (list).\n",
    "\n",
    "<b><span style=\"color:teal\">TODO:</span> <b>\n",
    "<dl>\n",
    "<dd><span style=\"color:teal\">2. Implement the method <span style=\"color:#DC143C\"><em>create_tensor_from_list</em></span> which creates a tensor from a given list <span style=\"color:#00BFFF\"><em>lst</em></span>.</span></dd>\n",
    "</dl>"
   ]
  },
  {
   "cell_type": "code",
   "execution_count": 394,
   "metadata": {
    "collapsed": false,
    "jupyter": {
     "outputs_hidden": false
    },
    "pycharm": {
     "name": "#%%\n"
    }
   },
   "outputs": [],
   "source": [
    "def create_tensor_from_list(lst: list):\n",
    "    \"\"\"\n",
    "    Create a tensor from a list.\n",
    "\n",
    "    :param lst: n-dimensional list with values.\n",
    "    :return: Tensor of same dimension and same values as lst.\n",
    "    \"\"\"\n",
    "\n",
    "    output = None\n",
    "\n",
    "    #############################################################################\n",
    "    #                            START OF YOUR CODE                             #\n",
    "    # TODO:                                                                     #\n",
    "    #    1) Create and return a torch.tensor from the list 'lst'                #\n",
    "    #############################################################################\n",
    "    output = torch.tensor(lst)\n",
    "\n",
    "    #############################################################################\n",
    "    #                              END OF YOUR CODE                             #\n",
    "    #############################################################################\n",
    "\n",
    "    return output"
   ]
  },
  {
   "cell_type": "code",
   "execution_count": 395,
   "metadata": {
    "collapsed": false,
    "jupyter": {
     "outputs_hidden": false
    },
    "pycharm": {
     "name": "#%%\n"
    }
   },
   "outputs": [
    {
     "name": "stderr",
     "output_type": "stream",
     "text": [
      "C:\\Users\\Dell\\OneDrive\\Desktop\\xAI-DL\\assignment1\\assignment1\\Programming\\code\\tests\\test_torch_tensors_basics.py:67: FutureWarning: You are using `torch.load` with `weights_only=False` (the current default value), which uses the default pickle module implicitly. It is possible to construct malicious pickle data which will execute arbitrary code during unpickling (See https://github.com/pytorch/pytorch/blob/main/SECURITY.md#untrusted-models for more details). In a future release, the default value for `weights_only` will be flipped to `True`. This limits the functions that could be executed during unpickling. Arbitrary objects will no longer be allowed to be loaded via this mode unless they are explicitly allowlisted by the user via `torch.serialization.add_safe_globals`. We recommend you start setting `weights_only=True` for any use case where you don't have full control of the loaded file. Please open an issue on GitHub for any issues related to this experimental feature.\n",
      "  expected_version = torch.load(\"../data/torch_tensors_basics/reference_tensor_basics.pt\")[\"t2\"]\n",
      ".\n",
      "----------------------------------------------------------------------\n",
      "Ran 1 test in 0.002s\n",
      "\n",
      "OK\n"
     ]
    }
   ],
   "source": [
    "# Test your code\n",
    "\n",
    "!python ./tests/test_torch_tensors_basics.py --test_case TestBasics --test_function test_creation_of_tensor_from_list"
   ]
  },
  {
   "cell_type": "markdown",
   "metadata": {
    "collapsed": false,
    "jupyter": {
     "outputs_hidden": false
    }
   },
   "source": []
  },
  {
   "cell_type": "markdown",
   "metadata": {
    "collapsed": false,
    "jupyter": {
     "outputs_hidden": false
    },
    "pycharm": {
     "name": "#%% md\n"
    }
   },
   "source": [
    "<span style=\"color:#00BFFF\"><em>Parameters</em></span>:\n",
    "- <span style=\"color:#00BFFF\"><em>a:</em></span> Defines an n-dimensional numpy array of values (np.ndarray).\n",
    "\n",
    "<b><span style=\"color:teal\">TODO:</span> <b>\n",
    "<dl>\n",
    "<dd><span style=\"color:teal\">3. Implement the method <span style=\"color:#DC143C\"><em>create_tensor_from_numpy_array</em></span> which creates a tensor from a given numpy array <span style=\"color:#00BFFF\"><em>a</em></span>.</span></dd>\n",
    "</dl>"
   ]
  },
  {
   "cell_type": "code",
   "execution_count": 396,
   "metadata": {
    "collapsed": false,
    "jupyter": {
     "outputs_hidden": false
    },
    "pycharm": {
     "name": "#%%\n"
    }
   },
   "outputs": [],
   "source": [
    "def create_tensor_from_numpy_array(a: np.ndarray):\n",
    "    \"\"\"\n",
    "    Create a tensor from a numpy array.\n",
    "\n",
    "    :param a: n-dimensional numpy array with values.\n",
    "    :return: Tensor of same dimension and same values as a.\n",
    "    \"\"\"\n",
    "\n",
    "    output = None\n",
    "\n",
    "    #############################################################################\n",
    "    #                            START OF YOUR CODE                             #\n",
    "    # TODO:                                                                     #\n",
    "    #    1) Create and return a torch.tensor from the array 'a'                 #\n",
    "    #############################################################################\n",
    "    a = np.array([[11,12,13],[21,22,23],[31,32,33]], dtype=np.int32)\n",
    "    output = torch.from_numpy(a).int()\n",
    "\n",
    "\n",
    "    #############################################################################\n",
    "    #                              END OF YOUR CODE                             #\n",
    "    #############################################################################\n",
    "\n",
    "    return output"
   ]
  },
  {
   "cell_type": "code",
   "execution_count": 397,
   "metadata": {
    "collapsed": false,
    "jupyter": {
     "outputs_hidden": false
    },
    "pycharm": {
     "name": "#%%\n"
    }
   },
   "outputs": [
    {
     "name": "stderr",
     "output_type": "stream",
     "text": [
      "C:\\Users\\Dell\\OneDrive\\Desktop\\xAI-DL\\assignment1\\assignment1\\Programming\\code\\tests\\test_torch_tensors_basics.py:76: FutureWarning: You are using `torch.load` with `weights_only=False` (the current default value), which uses the default pickle module implicitly. It is possible to construct malicious pickle data which will execute arbitrary code during unpickling (See https://github.com/pytorch/pytorch/blob/main/SECURITY.md#untrusted-models for more details). In a future release, the default value for `weights_only` will be flipped to `True`. This limits the functions that could be executed during unpickling. Arbitrary objects will no longer be allowed to be loaded via this mode unless they are explicitly allowlisted by the user via `torch.serialization.add_safe_globals`. We recommend you start setting `weights_only=True` for any use case where you don't have full control of the loaded file. Please open an issue on GitHub for any issues related to this experimental feature.\n",
      "  expected_version = torch.load(\"../data/torch_tensors_basics/reference_tensor_basics.pt\")[\"t3\"]\n",
      ".\n",
      "----------------------------------------------------------------------\n",
      "Ran 1 test in 0.002s\n",
      "\n",
      "OK\n"
     ]
    }
   ],
   "source": [
    "# Test your code\n",
    "\n",
    "!python ./tests/test_torch_tensors_basics.py --test_case TestBasics --test_function test_creation_of_tensor_from_numpy_array"
   ]
  },
  {
   "cell_type": "markdown",
   "metadata": {
    "collapsed": false,
    "jupyter": {
     "outputs_hidden": false
    }
   },
   "source": []
  },
  {
   "cell_type": "markdown",
   "metadata": {
    "collapsed": false,
    "jupyter": {
     "outputs_hidden": false
    },
    "pycharm": {
     "name": "#%% md\n"
    }
   },
   "source": [
    "<span style=\"color:#00BFFF\"><em>Parameters</em></span>:\n",
    "- <span style=\"color:#00BFFF\"><em>shape:</em></span> Defines the shape of the tensor (tuple).\n",
    "\n",
    "<b><span style=\"color:teal\">TODO:</span> <b>\n",
    "<dl>\n",
    "<dd><span style=\"color:teal\">4. Implement the method <span style=\"color:#DC143C\"><em>create_random_tensor</em></span> which creates a tensor of a specified shape <span style=\"color:#00BFFF\"><em>shape</em></span> with random values.</span></dd>\n",
    "</dl>"
   ]
  },
  {
   "cell_type": "code",
   "execution_count": 398,
   "metadata": {
    "collapsed": false,
    "jupyter": {
     "outputs_hidden": false
    },
    "pycharm": {
     "name": "#%%\n"
    }
   },
   "outputs": [],
   "source": [
    "def create_random_tensor(shape: tuple):\n",
    "    \"\"\"\n",
    "    Create a random tensor with a specified shape.\n",
    "\n",
    "    :param shape: tuple containing the shape of the tensor.\n",
    "    :return: Tensor of shape 'shape' filled with random values.\n",
    "    \"\"\"\n",
    "\n",
    "    output = None\n",
    "\n",
    "    #############################################################################\n",
    "    #                            START OF YOUR CODE                             #\n",
    "    # TODO:                                                                     #\n",
    "    #    1) Create and return a tensor of shape 'shape' filled with random      #\n",
    "    #       values                                                              #\n",
    "    #############################################################################\n",
    "    output = torch.rand(shape)\n",
    "\n",
    "    #############################################################################\n",
    "    #                              END OF YOUR CODE                             #\n",
    "    #############################################################################\n",
    "\n",
    "    return output"
   ]
  },
  {
   "cell_type": "code",
   "execution_count": 399,
   "metadata": {
    "collapsed": false,
    "jupyter": {
     "outputs_hidden": false
    },
    "pycharm": {
     "name": "#%%\n"
    }
   },
   "outputs": [
    {
     "name": "stderr",
     "output_type": "stream",
     "text": [
      "C:\\Users\\Dell\\OneDrive\\Desktop\\xAI-DL\\assignment1\\assignment1\\Programming\\code\\tests\\test_torch_tensors_basics.py:85: FutureWarning: You are using `torch.load` with `weights_only=False` (the current default value), which uses the default pickle module implicitly. It is possible to construct malicious pickle data which will execute arbitrary code during unpickling (See https://github.com/pytorch/pytorch/blob/main/SECURITY.md#untrusted-models for more details). In a future release, the default value for `weights_only` will be flipped to `True`. This limits the functions that could be executed during unpickling. Arbitrary objects will no longer be allowed to be loaded via this mode unless they are explicitly allowlisted by the user via `torch.serialization.add_safe_globals`. We recommend you start setting `weights_only=True` for any use case where you don't have full control of the loaded file. Please open an issue on GitHub for any issues related to this experimental feature.\n",
      "  expected_version = torch.load(\"../data/torch_tensors_basics/reference_tensor_basics.pt\")[\"t4\"]\n",
      ".\n",
      "----------------------------------------------------------------------\n",
      "Ran 1 test in 0.002s\n",
      "\n",
      "OK\n"
     ]
    }
   ],
   "source": [
    "# Test your code\n",
    "\n",
    "!python ./tests/test_torch_tensors_basics.py --test_case TestBasics --test_function test_creation_of_random_tensor"
   ]
  },
  {
   "cell_type": "markdown",
   "metadata": {
    "collapsed": false,
    "jupyter": {
     "outputs_hidden": false
    }
   },
   "source": []
  },
  {
   "cell_type": "markdown",
   "metadata": {
    "collapsed": false,
    "jupyter": {
     "outputs_hidden": false
    },
    "pycharm": {
     "name": "#%% md\n"
    }
   },
   "source": [
    "<span style=\"color:#00BFFF\"><em>Parameters</em></span>:\n",
    "- <span style=\"color:#00BFFF\"><em>shape:</em></span> Defines the shape of the tensor (tuple).\n",
    "\n",
    "<b><span style=\"color:teal\">TODO:</span> <b>\n",
    "<dl>\n",
    "<dd><span style=\"color:teal\">5. Implement the method <span style=\"color:#DC143C\"><em>create_tensor_filled_with_zeros</em></span> which creates a tensor of a specified shape <span style=\"color:#00BFFF\"><em>shape</em></span> filled with zeros.</span></dd>\n",
    "</dl>"
   ]
  },
  {
   "cell_type": "code",
   "execution_count": 400,
   "metadata": {
    "collapsed": false,
    "jupyter": {
     "outputs_hidden": false
    },
    "pycharm": {
     "name": "#%%\n"
    }
   },
   "outputs": [],
   "source": [
    "def create_tensor_filled_with_zeros(shape: tuple):\n",
    "    \"\"\"\n",
    "    Create a tensor filled with zeros with a specified shape.\n",
    "\n",
    "    :param shape: Shape of the tensor.\n",
    "    :return: Tensor of shape 'shape' filled with zeros.\n",
    "    \"\"\"\n",
    "\n",
    "    output = None\n",
    "\n",
    "    #############################################################################\n",
    "    #                            START OF YOUR CODE                             #\n",
    "    # TODO:                                                                     #\n",
    "    #    1) Create and return a tensor of shape 'shape' filled with zeros       #\n",
    "    #############################################################################\n",
    "    output = torch.zeros(shape)\n",
    "\n",
    "    #############################################################################\n",
    "    #                              END OF YOUR CODE                             #\n",
    "    #############################################################################\n",
    "\n",
    "    return output"
   ]
  },
  {
   "cell_type": "code",
   "execution_count": 401,
   "metadata": {
    "collapsed": false,
    "jupyter": {
     "outputs_hidden": false
    },
    "pycharm": {
     "name": "#%%\n"
    }
   },
   "outputs": [
    {
     "name": "stderr",
     "output_type": "stream",
     "text": [
      "C:\\Users\\Dell\\OneDrive\\Desktop\\xAI-DL\\assignment1\\assignment1\\Programming\\code\\tests\\test_torch_tensors_basics.py:93: FutureWarning: You are using `torch.load` with `weights_only=False` (the current default value), which uses the default pickle module implicitly. It is possible to construct malicious pickle data which will execute arbitrary code during unpickling (See https://github.com/pytorch/pytorch/blob/main/SECURITY.md#untrusted-models for more details). In a future release, the default value for `weights_only` will be flipped to `True`. This limits the functions that could be executed during unpickling. Arbitrary objects will no longer be allowed to be loaded via this mode unless they are explicitly allowlisted by the user via `torch.serialization.add_safe_globals`. We recommend you start setting `weights_only=True` for any use case where you don't have full control of the loaded file. Please open an issue on GitHub for any issues related to this experimental feature.\n",
      "  expected_version = torch.load(\"../data/torch_tensors_basics/reference_tensor_basics.pt\")[\"t5\"]\n",
      ".\n",
      "----------------------------------------------------------------------\n",
      "Ran 1 test in 0.003s\n",
      "\n",
      "OK\n"
     ]
    }
   ],
   "source": [
    "# Test your code\n",
    "\n",
    "!python ./tests/test_torch_tensors_basics.py --test_case TestBasics --test_function test_creation_of_zero_tensor"
   ]
  },
  {
   "cell_type": "markdown",
   "metadata": {
    "collapsed": false,
    "jupyter": {
     "outputs_hidden": false
    }
   },
   "source": []
  },
  {
   "cell_type": "markdown",
   "metadata": {
    "collapsed": false,
    "jupyter": {
     "outputs_hidden": false
    },
    "pycharm": {
     "name": "#%% md\n"
    }
   },
   "source": [
    "<span style=\"color:#00BFFF\"><em>Parameters</em></span>:\n",
    "- <span style=\"color:#00BFFF\"><em>shape:</em></span> Defines the shape of the tensor (tuple).\n",
    "\n",
    "<b><span style=\"color:teal\">TODO:</span> <b>\n",
    "<dl>\n",
    "<dd><span style=\"color:teal\">6. Implement the method <span style=\"color:#DC143C\"><em>create_tensor_filled_with_ones</em></span> which creates a tensor of a specified shape <span style=\"color:#00BFFF\"><em>shape</em></span> filled with ones.</span></dd>\n",
    "</dl>"
   ]
  },
  {
   "cell_type": "code",
   "execution_count": 402,
   "metadata": {
    "collapsed": false,
    "jupyter": {
     "outputs_hidden": false
    },
    "pycharm": {
     "name": "#%%\n"
    }
   },
   "outputs": [],
   "source": [
    "def create_tensor_filled_with_ones(shape: tuple):\n",
    "    \"\"\"\n",
    "    Create a tensor filled with ones with a specified shape.\n",
    "\n",
    "    :param shape: Shape of the tensor.\n",
    "    :return: Tensor of shape 'shape' filled with ones.\n",
    "    \"\"\"\n",
    "\n",
    "    output = None\n",
    "\n",
    "    #############################################################################\n",
    "    #                            START OF YOUR CODE                             #\n",
    "    # TODO:                                                                     #\n",
    "    #    1) Create and return a tensor of shape 'shape' filled with ones        #\n",
    "    #############################################################################\n",
    "    output = torch.ones(shape)\n",
    "\n",
    "    #############################################################################\n",
    "    #                              END OF YOUR CODE                             #\n",
    "    #############################################################################\n",
    "\n",
    "    return output"
   ]
  },
  {
   "cell_type": "code",
   "execution_count": 403,
   "metadata": {
    "collapsed": false,
    "jupyter": {
     "outputs_hidden": false
    },
    "pycharm": {
     "name": "#%%\n"
    }
   },
   "outputs": [
    {
     "name": "stderr",
     "output_type": "stream",
     "text": [
      "C:\\Users\\Dell\\OneDrive\\Desktop\\xAI-DL\\assignment1\\assignment1\\Programming\\code\\tests\\test_torch_tensors_basics.py:102: FutureWarning: You are using `torch.load` with `weights_only=False` (the current default value), which uses the default pickle module implicitly. It is possible to construct malicious pickle data which will execute arbitrary code during unpickling (See https://github.com/pytorch/pytorch/blob/main/SECURITY.md#untrusted-models for more details). In a future release, the default value for `weights_only` will be flipped to `True`. This limits the functions that could be executed during unpickling. Arbitrary objects will no longer be allowed to be loaded via this mode unless they are explicitly allowlisted by the user via `torch.serialization.add_safe_globals`. We recommend you start setting `weights_only=True` for any use case where you don't have full control of the loaded file. Please open an issue on GitHub for any issues related to this experimental feature.\n",
      "  expected_version = torch.load(\"../data/torch_tensors_basics/reference_tensor_basics.pt\")[\"t6\"]\n",
      ".\n",
      "----------------------------------------------------------------------\n",
      "Ran 1 test in 0.002s\n",
      "\n",
      "OK\n"
     ]
    }
   ],
   "source": [
    "# Test your code\n",
    "\n",
    "!python ./tests/test_torch_tensors_basics.py --test_case TestBasics --test_function test_creation_of_one_tensor"
   ]
  },
  {
   "cell_type": "markdown",
   "metadata": {
    "collapsed": false,
    "jupyter": {
     "outputs_hidden": false
    }
   },
   "source": []
  },
  {
   "cell_type": "markdown",
   "metadata": {
    "collapsed": false,
    "jupyter": {
     "outputs_hidden": false
    },
    "pycharm": {
     "name": "#%% md\n"
    }
   },
   "source": [
    "<span style=\"color:#00BFFF\"><em>Parameters</em></span>:\n",
    "- <span style=\"color:#00BFFF\"><em>shape:</em></span> Defines the shape of the tensor (tuple).\n",
    "\n",
    "<b><span style=\"color:teal\">TODO:</span> <b>\n",
    "<dl>\n",
    "<dd><span style=\"color:teal\">7. Implement the method <span style=\"color:#DC143C\"><em>create_tensor_with_the_diagonal_filled_with_ones</em></span> which creates a 2D-tensor with a specified number of rows and columns <span style=\"color:#00BFFF\"><em>shape</em></span> for which its diagonal is filled with ones.</span></dd>\n",
    "</dl>"
   ]
  },
  {
   "cell_type": "code",
   "execution_count": 404,
   "metadata": {
    "collapsed": false,
    "jupyter": {
     "outputs_hidden": false
    },
    "pycharm": {
     "name": "#%%\n"
    }
   },
   "outputs": [],
   "source": [
    "def create_tensor_with_the_diagonal_filled_with_ones(shape: tuple):\n",
    "    \"\"\"\n",
    "    Create a 2D-tensor with a specified number of rows and columns for which its diagonal is filled with ones.\n",
    "\n",
    "    :param shape: Number of rows and columns of the tensor.\n",
    "    :return: Tensor with specified number of rows and columns for which its diagonal is filled with ones.\n",
    "    \"\"\"\n",
    "\n",
    "    output = None\n",
    "\n",
    "    #############################################################################\n",
    "    #                            START OF YOUR CODE                             #\n",
    "    # TODO:                                                                     #\n",
    "    #    1) Create and return a 2D-tensor with a specified number of rows and   #\n",
    "    #       columns ('shape') for which its diagonal is filled with ones        #\n",
    "    #############################################################################\n",
    "    rows, cols = shape\n",
    "    output = torch.eye(rows,cols, dtype=torch.float)\n",
    "\n",
    "    #############################################################################\n",
    "    #                              END OF YOUR CODE                             #\n",
    "    #############################################################################\n",
    "\n",
    "    return output"
   ]
  },
  {
   "cell_type": "code",
   "execution_count": 405,
   "metadata": {
    "collapsed": false,
    "jupyter": {
     "outputs_hidden": false
    },
    "pycharm": {
     "name": "#%%\n"
    }
   },
   "outputs": [
    {
     "name": "stderr",
     "output_type": "stream",
     "text": [
      "C:\\Users\\Dell\\OneDrive\\Desktop\\xAI-DL\\assignment1\\assignment1\\Programming\\code\\tests\\test_torch_tensors_basics.py:113: FutureWarning: You are using `torch.load` with `weights_only=False` (the current default value), which uses the default pickle module implicitly. It is possible to construct malicious pickle data which will execute arbitrary code during unpickling (See https://github.com/pytorch/pytorch/blob/main/SECURITY.md#untrusted-models for more details). In a future release, the default value for `weights_only` will be flipped to `True`. This limits the functions that could be executed during unpickling. Arbitrary objects will no longer be allowed to be loaded via this mode unless they are explicitly allowlisted by the user via `torch.serialization.add_safe_globals`. We recommend you start setting `weights_only=True` for any use case where you don't have full control of the loaded file. Please open an issue on GitHub for any issues related to this experimental feature.\n",
      "  expected_version = torch.load(\"../data/torch_tensors_basics/reference_tensor_basics.pt\")[\"t7\"]\n",
      ".\n",
      "----------------------------------------------------------------------\n",
      "Ran 1 test in 0.002s\n",
      "\n",
      "OK\n"
     ]
    }
   ],
   "source": [
    "# Test your code\n",
    "\n",
    "!python ./tests/test_torch_tensors_basics.py --test_case TestBasics --test_function test_creation_of_one_diagonal_tensor"
   ]
  },
  {
   "cell_type": "markdown",
   "metadata": {
    "collapsed": false,
    "jupyter": {
     "outputs_hidden": false
    }
   },
   "source": []
  },
  {
   "cell_type": "markdown",
   "metadata": {
    "collapsed": false,
    "jupyter": {
     "outputs_hidden": false
    },
    "pycharm": {
     "name": "#%% md\n"
    }
   },
   "source": [
    "<a name='2-2'></a>\n",
    "### 2.2 - Extract Tensor Information \\[2.5 points\\] ###\n",
    "\n",
    "In this exercise you will learn how to extract information from an existing tensor.\n",
    "\n",
    "<span style=\"color:#00BFFF\"><em>Parameters</em></span>:\n",
    "- <span style=\"color:#00BFFF\"><em>t:</em></span> Defines the tensor (torch.tensor).\n",
    "\n",
    "<b><span style=\"color:teal\">TODO:</span> <b>\n",
    "<dl>\n",
    "<dd><span style=\"color:teal\">1. Implement the method <span style=\"color:#DC143C\"><em>extract_the_type_of_a_tensor</em></span> which extracts the type of a given tensor <span style=\"color:#00BFFF\"><em>t</em></span>.</span></dd>\n",
    "</dl>"
   ]
  },
  {
   "cell_type": "code",
   "execution_count": 406,
   "metadata": {
    "collapsed": false,
    "jupyter": {
     "outputs_hidden": false
    },
    "pycharm": {
     "name": "#%%\n"
    }
   },
   "outputs": [],
   "source": [
    "def extract_the_type_of_a_tensor(t: torch.tensor):\n",
    "    \"\"\"\n",
    "    Extract the type of a given tensor.\n",
    "\n",
    "    :param t: PyTorch tensor.\n",
    "    :return: Type of given tensor 't'.\n",
    "    \"\"\"\n",
    "\n",
    "    output = None\n",
    "\n",
    "    #############################################################################\n",
    "    #                            START OF YOUR CODE                             #\n",
    "    # TODO:                                                                     #\n",
    "    #    1) Extract the type of tensor 't'                                      #\n",
    "    #############################################################################\n",
    "    t = torch.tensor([[11,12,13],[21,22,23],[31,32,33]])\n",
    "    output = t.type()\n",
    "\n",
    "    #############################################################################\n",
    "    #                              END OF YOUR CODE                             #\n",
    "    #############################################################################\n",
    "\n",
    "    return output"
   ]
  },
  {
   "cell_type": "code",
   "execution_count": 407,
   "metadata": {
    "collapsed": false,
    "jupyter": {
     "outputs_hidden": false
    },
    "pycharm": {
     "name": "#%%\n"
    }
   },
   "outputs": [
    {
     "name": "stderr",
     "output_type": "stream",
     "text": [
      "C:\\Users\\Dell\\OneDrive\\Desktop\\xAI-DL\\assignment1\\assignment1\\Programming\\code\\tests\\test_torch_tensors_basics.py:122: FutureWarning: You are using `torch.load` with `weights_only=False` (the current default value), which uses the default pickle module implicitly. It is possible to construct malicious pickle data which will execute arbitrary code during unpickling (See https://github.com/pytorch/pytorch/blob/main/SECURITY.md#untrusted-models for more details). In a future release, the default value for `weights_only` will be flipped to `True`. This limits the functions that could be executed during unpickling. Arbitrary objects will no longer be allowed to be loaded via this mode unless they are explicitly allowlisted by the user via `torch.serialization.add_safe_globals`. We recommend you start setting `weights_only=True` for any use case where you don't have full control of the loaded file. Please open an issue on GitHub for any issues related to this experimental feature.\n",
      "  expected_version = torch.load(\"../data/torch_tensors_basics/reference_tensor_basics.pt\")[\"t8\"]\n",
      ".\n",
      "----------------------------------------------------------------------\n",
      "Ran 1 test in 0.001s\n",
      "\n",
      "OK\n"
     ]
    }
   ],
   "source": [
    "# Test your code\n",
    "\n",
    "!python ./tests/test_torch_tensors_basics.py --test_case TestBasics --test_function test_extraction_of_tensor_type"
   ]
  },
  {
   "cell_type": "markdown",
   "metadata": {
    "collapsed": false,
    "jupyter": {
     "outputs_hidden": false
    }
   },
   "source": []
  },
  {
   "cell_type": "markdown",
   "metadata": {
    "collapsed": false,
    "jupyter": {
     "outputs_hidden": false
    },
    "pycharm": {
     "name": "#%% md\n"
    }
   },
   "source": [
    "<span style=\"color:#00BFFF\"><em>Parameters</em></span>:\n",
    "- <span style=\"color:#00BFFF\"><em>t:</em></span> Defines the tensor (torch.tensor).\n",
    "\n",
    "<b><span style=\"color:teal\">TODO:</span> <b>\n",
    "<dl>\n",
    "<dd><span style=\"color:teal\">2. Implement the method <span style=\"color:#DC143C\"><em>extract_the_data_type_of_a_tensor</em></span> which extracts the data type of a given tensor <span style=\"color:#00BFFF\"><em>t</em></span>.</span></dd>\n",
    "</dl>"
   ]
  },
  {
   "cell_type": "code",
   "execution_count": 408,
   "metadata": {
    "collapsed": false,
    "jupyter": {
     "outputs_hidden": false
    },
    "pycharm": {
     "name": "#%%\n"
    }
   },
   "outputs": [],
   "source": [
    "def extract_the_data_type_of_a_tensor(t: torch.tensor):\n",
    "    \"\"\"\n",
    "    Extract the data type of a given tensor.\n",
    "\n",
    "    :param t: PyTorch tensor.\n",
    "    :return: Data type of given tensor 't'.\n",
    "    \"\"\"\n",
    "\n",
    "    output = None\n",
    "\n",
    "    #############################################################################\n",
    "    #                            START OF YOUR CODE                             #\n",
    "    # TODO:                                                                     #\n",
    "    #    1) Extract the data type of tensor 't'                                 #\n",
    "    #############################################################################\n",
    "    t = torch.tensor([[11,12,13],[21,22,23],[31,32,33]])\n",
    "    output = torch.LongTensor.dtype\n",
    "\n",
    "    #############################################################################\n",
    "    #                              END OF YOUR CODE                             #\n",
    "    #############################################################################\n",
    "\n",
    "    return output"
   ]
  },
  {
   "cell_type": "code",
   "execution_count": 409,
   "metadata": {
    "collapsed": false,
    "jupyter": {
     "outputs_hidden": false
    },
    "pycharm": {
     "name": "#%%\n"
    }
   },
   "outputs": [
    {
     "name": "stderr",
     "output_type": "stream",
     "text": [
      "C:\\Users\\Dell\\OneDrive\\Desktop\\xAI-DL\\assignment1\\assignment1\\Programming\\code\\tests\\test_torch_tensors_basics.py:130: FutureWarning: You are using `torch.load` with `weights_only=False` (the current default value), which uses the default pickle module implicitly. It is possible to construct malicious pickle data which will execute arbitrary code during unpickling (See https://github.com/pytorch/pytorch/blob/main/SECURITY.md#untrusted-models for more details). In a future release, the default value for `weights_only` will be flipped to `True`. This limits the functions that could be executed during unpickling. Arbitrary objects will no longer be allowed to be loaded via this mode unless they are explicitly allowlisted by the user via `torch.serialization.add_safe_globals`. We recommend you start setting `weights_only=True` for any use case where you don't have full control of the loaded file. Please open an issue on GitHub for any issues related to this experimental feature.\n",
      "  expected_version = torch.load(\"../data/torch_tensors_basics/reference_tensor_basics.pt\")[\"t9\"]\n",
      ".\n",
      "----------------------------------------------------------------------\n",
      "Ran 1 test in 0.001s\n",
      "\n",
      "OK\n"
     ]
    }
   ],
   "source": [
    "# Test your code\n",
    "\n",
    "!python ./tests/test_torch_tensors_basics.py --test_case TestBasics --test_function test_extraction_of_tensor_data_type"
   ]
  },
  {
   "cell_type": "markdown",
   "metadata": {
    "collapsed": false,
    "jupyter": {
     "outputs_hidden": false
    }
   },
   "source": []
  },
  {
   "cell_type": "markdown",
   "metadata": {
    "collapsed": false,
    "jupyter": {
     "outputs_hidden": false
    },
    "pycharm": {
     "name": "#%% md\n"
    }
   },
   "source": [
    "<span style=\"color:#00BFFF\"><em>Parameters</em></span>:\n",
    "- <span style=\"color:#00BFFF\"><em>t:</em></span> Defines the tensor (torch.tensor).\n",
    "\n",
    "<b><span style=\"color:teal\">TODO:</span> <b>\n",
    "<dl>\n",
    "<dd><span style=\"color:teal\">3. Implement the method <span style=\"color:#DC143C\"><em>extract_the_dimensions_of_a_tensor</em></span> which extracts the dimension of a given tensor <span style=\"color:#00BFFF\"><em>t</em></span>.</span></dd>\n",
    "</dl>"
   ]
  },
  {
   "cell_type": "code",
   "execution_count": 410,
   "metadata": {
    "collapsed": false,
    "jupyter": {
     "outputs_hidden": false
    },
    "pycharm": {
     "name": "#%%\n"
    }
   },
   "outputs": [],
   "source": [
    "def extract_the_dimensions_of_a_tensor(t: torch.tensor):\n",
    "    \"\"\"\n",
    "    Extract the dimension of a given tensor.\n",
    "\n",
    "    :param t: PyTorch tensor.\n",
    "    :return: Dimension of given tensor 't'.\n",
    "    \"\"\"\n",
    "\n",
    "    output = None\n",
    "\n",
    "    #############################################################################\n",
    "    #                            START OF YOUR CODE                             #\n",
    "    # TODO:                                                                     #\n",
    "    #    1) Extract the dimension of tensor 't'                                 #\n",
    "    #############################################################################\n",
    "    t = torch.tensor([[11,12,13],[21,22,23],[31,32,33]])\n",
    "    output= t.dim()\n",
    "\n",
    "    #############################################################################\n",
    "    #                              END OF YOUR CODE                             #\n",
    "    #############################################################################\n",
    "\n",
    "    return output"
   ]
  },
  {
   "cell_type": "code",
   "execution_count": 411,
   "metadata": {
    "collapsed": false,
    "jupyter": {
     "outputs_hidden": false
    },
    "pycharm": {
     "name": "#%%\n"
    }
   },
   "outputs": [
    {
     "name": "stderr",
     "output_type": "stream",
     "text": [
      "C:\\Users\\Dell\\OneDrive\\Desktop\\xAI-DL\\assignment1\\assignment1\\Programming\\code\\tests\\test_torch_tensors_basics.py:138: FutureWarning: You are using `torch.load` with `weights_only=False` (the current default value), which uses the default pickle module implicitly. It is possible to construct malicious pickle data which will execute arbitrary code during unpickling (See https://github.com/pytorch/pytorch/blob/main/SECURITY.md#untrusted-models for more details). In a future release, the default value for `weights_only` will be flipped to `True`. This limits the functions that could be executed during unpickling. Arbitrary objects will no longer be allowed to be loaded via this mode unless they are explicitly allowlisted by the user via `torch.serialization.add_safe_globals`. We recommend you start setting `weights_only=True` for any use case where you don't have full control of the loaded file. Please open an issue on GitHub for any issues related to this experimental feature.\n",
      "  expected_version = torch.load(\"../data/torch_tensors_basics/reference_tensor_basics.pt\")[\"t10\"]\n",
      ".\n",
      "----------------------------------------------------------------------\n",
      "Ran 1 test in 0.002s\n",
      "\n",
      "OK\n"
     ]
    }
   ],
   "source": [
    "# Test your code\n",
    "\n",
    "!python ./tests/test_torch_tensors_basics.py --test_case TestBasics --test_function test_extraction_of_tensor_dimension"
   ]
  },
  {
   "cell_type": "markdown",
   "metadata": {
    "collapsed": false,
    "jupyter": {
     "outputs_hidden": false
    }
   },
   "source": []
  },
  {
   "cell_type": "markdown",
   "metadata": {
    "collapsed": false,
    "jupyter": {
     "outputs_hidden": false
    },
    "pycharm": {
     "name": "#%% md\n"
    }
   },
   "source": [
    "<span style=\"color:#00BFFF\"><em>Parameters</em></span>:\n",
    "- <span style=\"color:#00BFFF\"><em>t:</em></span> Defines the tensor (torch.tensor).\n",
    "\n",
    "<b><span style=\"color:teal\">TODO:</span> <b>\n",
    "<dl>\n",
    "<dd><span style=\"color:teal\">4. Implement the method <span style=\"color:#DC143C\"><em>extract_the_shape_of_a_tensor</em></span> which extracts the shape of a given tensor <span style=\"color:#00BFFF\"><em>t</em></span>.</span></dd>\n",
    "</dl>"
   ]
  },
  {
   "cell_type": "code",
   "execution_count": 412,
   "metadata": {
    "collapsed": false,
    "jupyter": {
     "outputs_hidden": false
    },
    "pycharm": {
     "name": "#%%\n"
    }
   },
   "outputs": [],
   "source": [
    "def extract_the_shape_of_a_tensor(t: torch.tensor):\n",
    "    \"\"\"\n",
    "    Extract the shape of a given tensor.\n",
    "\n",
    "    :param t: PyTorch tensor.\n",
    "    :return: Shape of given tensor 't'.\n",
    "    \"\"\"\n",
    "\n",
    "    output = None\n",
    "\n",
    "    #############################################################################\n",
    "    #                            START OF YOUR CODE                             #\n",
    "    # TODO:                                                                     #\n",
    "    #    1) Extract the shape of tensor 't'                                     #\n",
    "    #############################################################################\n",
    "    output = tuple(t.shape)\n",
    "    #############################################################################\n",
    "    #                              END OF YOUR CODE                             #\n",
    "    #############################################################################\n",
    "\n",
    "    return output"
   ]
  },
  {
   "cell_type": "code",
   "execution_count": 413,
   "metadata": {
    "collapsed": false,
    "jupyter": {
     "outputs_hidden": false
    },
    "pycharm": {
     "name": "#%%\n"
    }
   },
   "outputs": [
    {
     "name": "stderr",
     "output_type": "stream",
     "text": [
      "C:\\Users\\Dell\\OneDrive\\Desktop\\xAI-DL\\assignment1\\assignment1\\Programming\\code\\tests\\test_torch_tensors_basics.py:146: FutureWarning: You are using `torch.load` with `weights_only=False` (the current default value), which uses the default pickle module implicitly. It is possible to construct malicious pickle data which will execute arbitrary code during unpickling (See https://github.com/pytorch/pytorch/blob/main/SECURITY.md#untrusted-models for more details). In a future release, the default value for `weights_only` will be flipped to `True`. This limits the functions that could be executed during unpickling. Arbitrary objects will no longer be allowed to be loaded via this mode unless they are explicitly allowlisted by the user via `torch.serialization.add_safe_globals`. We recommend you start setting `weights_only=True` for any use case where you don't have full control of the loaded file. Please open an issue on GitHub for any issues related to this experimental feature.\n",
      "  expected_version = torch.load(\"../data/torch_tensors_basics/reference_tensor_basics.pt\")[\"t11\"]\n",
      ".\n",
      "----------------------------------------------------------------------\n",
      "Ran 1 test in 0.001s\n",
      "\n",
      "OK\n"
     ]
    }
   ],
   "source": [
    "# Test your code\n",
    "\n",
    "!python ./tests/test_torch_tensors_basics.py --test_case TestBasics --test_function test_extraction_of_tensor_shape"
   ]
  },
  {
   "cell_type": "markdown",
   "metadata": {
    "collapsed": false,
    "jupyter": {
     "outputs_hidden": false
    }
   },
   "source": []
  },
  {
   "cell_type": "markdown",
   "metadata": {
    "collapsed": false,
    "jupyter": {
     "outputs_hidden": false
    },
    "pycharm": {
     "name": "#%% md\n"
    }
   },
   "source": [
    "<span style=\"color:#00BFFF\"><em>Parameters</em></span>:\n",
    "- <span style=\"color:#00BFFF\"><em>t:</em></span> Defines the tensor (torch.tensor).\n",
    "\n",
    "<b><span style=\"color:teal\">TODO:</span> <b>\n",
    "<dl>\n",
    "<dd><span style=\"color:teal\">5. Implement the method <span style=\"color:#DC143C\"><em>extract_the_number_of_elements_of_a_tensor</em></span> which extracts the number of elements of a given tensor <span style=\"color:#00BFFF\"><em>t</em></span>.</span></dd>\n",
    "</dl>"
   ]
  },
  {
   "cell_type": "code",
   "execution_count": 414,
   "metadata": {
    "collapsed": false,
    "jupyter": {
     "outputs_hidden": false
    },
    "pycharm": {
     "name": "#%%\n"
    }
   },
   "outputs": [],
   "source": [
    "def extract_the_number_of_elements_of_a_tensor(t: torch.tensor):\n",
    "    \"\"\"\n",
    "    Extract the number of elements of a given tensor.\n",
    "\n",
    "    :param t: PyTorch tensor.\n",
    "    :return: Number of elements of given tensor 't'.\n",
    "    \"\"\"\n",
    "\n",
    "    output = None\n",
    "\n",
    "    #############################################################################\n",
    "    #                            START OF YOUR CODE                             #\n",
    "    # TODO:                                                                     #\n",
    "    #    1) Extract the number of elements of tensor 't'                        #\n",
    "    #############################################################################\n",
    "    \n",
    "    output = t.numel()\n",
    "\n",
    "    #############################################################################\n",
    "    #                              END OF YOUR CODE                             #\n",
    "    #############################################################################\n",
    "\n",
    "    return output"
   ]
  },
  {
   "cell_type": "code",
   "execution_count": 415,
   "metadata": {
    "collapsed": false,
    "jupyter": {
     "outputs_hidden": false
    },
    "pycharm": {
     "name": "#%%\n"
    }
   },
   "outputs": [
    {
     "name": "stderr",
     "output_type": "stream",
     "text": [
      "C:\\Users\\Dell\\OneDrive\\Desktop\\xAI-DL\\assignment1\\assignment1\\Programming\\code\\tests\\test_torch_tensors_basics.py:154: FutureWarning: You are using `torch.load` with `weights_only=False` (the current default value), which uses the default pickle module implicitly. It is possible to construct malicious pickle data which will execute arbitrary code during unpickling (See https://github.com/pytorch/pytorch/blob/main/SECURITY.md#untrusted-models for more details). In a future release, the default value for `weights_only` will be flipped to `True`. This limits the functions that could be executed during unpickling. Arbitrary objects will no longer be allowed to be loaded via this mode unless they are explicitly allowlisted by the user via `torch.serialization.add_safe_globals`. We recommend you start setting `weights_only=True` for any use case where you don't have full control of the loaded file. Please open an issue on GitHub for any issues related to this experimental feature.\n",
      "  expected_version = torch.load(\"../data/torch_tensors_basics/reference_tensor_basics.pt\")[\"t12\"]\n",
      ".\n",
      "----------------------------------------------------------------------\n",
      "Ran 1 test in 0.001s\n",
      "\n",
      "OK\n"
     ]
    }
   ],
   "source": [
    "# Test your code\n",
    "\n",
    "!python ./tests/test_torch_tensors_basics.py --test_case TestBasics --test_function test_extraction_of_tensor_number_elements"
   ]
  },
  {
   "cell_type": "markdown",
   "metadata": {
    "collapsed": false,
    "jupyter": {
     "outputs_hidden": false
    }
   },
   "source": []
  },
  {
   "cell_type": "markdown",
   "metadata": {
    "collapsed": false,
    "jupyter": {
     "outputs_hidden": false
    },
    "pycharm": {
     "name": "#%% md\n"
    }
   },
   "source": [
    "<a name='2-3'></a>\n",
    "### 2.3 - Indexing and Slicing \\[5 points\\] ###\n",
    "\n",
    "In this exercise you will learn how to access the different elements of a tensor.\n",
    "For this task, we will consider the following two-dimensional tensor:\n",
    "\n",
    "<div>\n",
    "    <img src=\"../img/torch_tensors_basics/tensor_indexing_00.png\" width=\"300\"/>\n",
    "</div>\n",
    "\n",
    "<span style=\"color:#00BFFF\"><em>Parameters</em></span>:\n",
    "- <span style=\"color:#00BFFF\"><em>t:</em></span> Defines the tensor (torch.tensor).\n",
    "\n",
    "<b><span style=\"color:teal\">TODO:</span> <b>\n",
    "<dl>\n",
    "<dd><span style=\"color:teal\">1. Implement the method <span style=\"color:#DC143C\"><em>slicing_01</em></span> which extracts the following slice of the given tensor:</span></dd>\n",
    "<dd><div><img src=\"../img/torch_tensors_basics/tensor_indexing_01.png\" width=\"300\"/></div></dd>\n",
    "</dl>"
   ]
  },
  {
   "cell_type": "code",
   "execution_count": 416,
   "metadata": {
    "collapsed": false,
    "jupyter": {
     "outputs_hidden": false
    },
    "pycharm": {
     "name": "#%%\n"
    }
   },
   "outputs": [],
   "source": [
    "def slicing_01(t: torch.tensor):\n",
    "    \"\"\"\n",
    "    Extract the respective slice of the tensor.\n",
    "\n",
    "    :param t: PyTorch tensor.\n",
    "    :return: Tensor containing the respective slice.\n",
    "    \"\"\"\n",
    "\n",
    "    output = None\n",
    "\n",
    "    #############################################################################\n",
    "    #                            START OF YOUR CODE                             #\n",
    "    # TODO:                                                                     #\n",
    "    #    1) Extract the respective slice of tensor 't'                          #\n",
    "    #############################################################################\n",
    "    t = torch.tensor([[11,12,13],[21,22,23],[31,32,33]])\n",
    "    output = t[0, :2]\n",
    "\n",
    "    #############################################################################\n",
    "    #                              END OF YOUR CODE                             #\n",
    "    #############################################################################\n",
    "\n",
    "    return output"
   ]
  },
  {
   "cell_type": "code",
   "execution_count": 417,
   "metadata": {
    "collapsed": false,
    "jupyter": {
     "outputs_hidden": false
    },
    "pycharm": {
     "name": "#%%\n"
    }
   },
   "outputs": [
    {
     "name": "stderr",
     "output_type": "stream",
     "text": [
      "C:\\Users\\Dell\\OneDrive\\Desktop\\xAI-DL\\assignment1\\assignment1\\Programming\\code\\tests\\test_torch_tensors_basics.py:162: FutureWarning: You are using `torch.load` with `weights_only=False` (the current default value), which uses the default pickle module implicitly. It is possible to construct malicious pickle data which will execute arbitrary code during unpickling (See https://github.com/pytorch/pytorch/blob/main/SECURITY.md#untrusted-models for more details). In a future release, the default value for `weights_only` will be flipped to `True`. This limits the functions that could be executed during unpickling. Arbitrary objects will no longer be allowed to be loaded via this mode unless they are explicitly allowlisted by the user via `torch.serialization.add_safe_globals`. We recommend you start setting `weights_only=True` for any use case where you don't have full control of the loaded file. Please open an issue on GitHub for any issues related to this experimental feature.\n",
      "  expected_version = torch.load(\"../data/torch_tensors_basics/reference_tensor_basics.pt\")[\"t13\"]\n",
      ".\n",
      "----------------------------------------------------------------------\n",
      "Ran 1 test in 0.002s\n",
      "\n",
      "OK\n"
     ]
    }
   ],
   "source": [
    "# Test your code\n",
    "\n",
    "!python ./tests/test_torch_tensors_basics.py --test_case TestBasics --test_function test_slicing_01"
   ]
  },
  {
   "cell_type": "markdown",
   "metadata": {
    "collapsed": false,
    "jupyter": {
     "outputs_hidden": false
    }
   },
   "source": []
  },
  {
   "cell_type": "markdown",
   "metadata": {
    "collapsed": false,
    "jupyter": {
     "outputs_hidden": false
    },
    "pycharm": {
     "name": "#%% md\n"
    }
   },
   "source": [
    "<span style=\"color:#00BFFF\"><em>Parameters</em></span>:\n",
    "- <span style=\"color:#00BFFF\"><em>t:</em></span> Defines the tensor (torch.tensor).\n",
    "\n",
    "<b><span style=\"color:teal\">TODO:</span> <b>\n",
    "<dl>\n",
    "<dd><span style=\"color:teal\">2. Implement the method <span style=\"color:#DC143C\"><em>slicing_02</em></span> which extracts the following slice of the given tensor:</span></dd>\n",
    "<dd><div><img src=\"../img/torch_tensors_basics/tensor_indexing_02.png\" width=\"300\"/></div></dd>\n",
    "</dl>"
   ]
  },
  {
   "cell_type": "code",
   "execution_count": 418,
   "metadata": {
    "collapsed": false,
    "jupyter": {
     "outputs_hidden": false
    },
    "pycharm": {
     "name": "#%%\n"
    }
   },
   "outputs": [],
   "source": [
    "def slicing_02(t: torch.tensor):\n",
    "    \"\"\"\n",
    "    Extract the respective slice of the tensor.\n",
    "\n",
    "    :param t: PyTorch tensor.\n",
    "    :return: Tensor containing the respective slice.\n",
    "    \"\"\"\n",
    "\n",
    "    output = None\n",
    "\n",
    "    #############################################################################\n",
    "    #                            START OF YOUR CODE                             #\n",
    "    # TODO:                                                                     #\n",
    "    #    1) Extract the respective slice of tensor 't'                          #\n",
    "    #############################################################################\n",
    "    t = torch.tensor([[11,12,13],[21,22,23],[31,32,33]])\n",
    "    output = t[1:3,2]\n",
    "\n",
    "    #############################################################################\n",
    "    #                              END OF YOUR CODE                             #\n",
    "    #############################################################################\n",
    "\n",
    "    return output"
   ]
  },
  {
   "cell_type": "code",
   "execution_count": 419,
   "metadata": {
    "collapsed": false,
    "jupyter": {
     "outputs_hidden": false
    },
    "pycharm": {
     "name": "#%%\n"
    }
   },
   "outputs": [
    {
     "name": "stderr",
     "output_type": "stream",
     "text": [
      "C:\\Users\\Dell\\OneDrive\\Desktop\\xAI-DL\\assignment1\\assignment1\\Programming\\code\\tests\\test_torch_tensors_basics.py:172: FutureWarning: You are using `torch.load` with `weights_only=False` (the current default value), which uses the default pickle module implicitly. It is possible to construct malicious pickle data which will execute arbitrary code during unpickling (See https://github.com/pytorch/pytorch/blob/main/SECURITY.md#untrusted-models for more details). In a future release, the default value for `weights_only` will be flipped to `True`. This limits the functions that could be executed during unpickling. Arbitrary objects will no longer be allowed to be loaded via this mode unless they are explicitly allowlisted by the user via `torch.serialization.add_safe_globals`. We recommend you start setting `weights_only=True` for any use case where you don't have full control of the loaded file. Please open an issue on GitHub for any issues related to this experimental feature.\n",
      "  expected_version = torch.load(\"../data/torch_tensors_basics/reference_tensor_basics.pt\")[\"t14\"]\n",
      ".\n",
      "----------------------------------------------------------------------\n",
      "Ran 1 test in 0.002s\n",
      "\n",
      "OK\n"
     ]
    }
   ],
   "source": [
    "# Test your code\n",
    "\n",
    "!python ./tests/test_torch_tensors_basics.py --test_case TestBasics --test_function test_slicing_02"
   ]
  },
  {
   "cell_type": "markdown",
   "metadata": {
    "collapsed": false,
    "jupyter": {
     "outputs_hidden": false
    }
   },
   "source": []
  },
  {
   "cell_type": "markdown",
   "metadata": {
    "collapsed": false,
    "jupyter": {
     "outputs_hidden": false
    },
    "pycharm": {
     "name": "#%% md\n"
    }
   },
   "source": [
    "<span style=\"color:#00BFFF\"><em>Parameters</em></span>:\n",
    "- <span style=\"color:#00BFFF\"><em>t:</em></span> Defines the tensor (torch.tensor).\n",
    "\n",
    "<b><span style=\"color:teal\">TODO:</span> <b>\n",
    "<dl>\n",
    "<dd><span style=\"color:teal\">3. Implement the method <span style=\"color:#DC143C\"><em>slicing_03</em></span> which extracts the following slice of the given tensor while keeping the tensor's 2D dimensionality:</span></dd>\n",
    "<dd><div><img src=\"../img/torch_tensors_basics/tensor_indexing_03.png\" width=\"300\"/></div></dd>\n",
    "</dl>"
   ]
  },
  {
   "cell_type": "code",
   "execution_count": 420,
   "metadata": {
    "collapsed": false,
    "jupyter": {
     "outputs_hidden": false
    },
    "pycharm": {
     "name": "#%%\n"
    }
   },
   "outputs": [],
   "source": [
    "def slicing_03(t: torch.tensor):\n",
    "    \"\"\"\n",
    "    Extract the respective slice of the tensor while keeping the dimensionality of the tensor.\n",
    "\n",
    "    :param t: PyTorch tensor.\n",
    "    :return: Tensor containing the respective slice.\n",
    "    \"\"\"\n",
    "\n",
    "    output = None\n",
    "\n",
    "    #############################################################################\n",
    "    #                            START OF YOUR CODE                             #\n",
    "    # TODO:                                                                     #\n",
    "    #    1) Extract the respective slice of tensor 't' and keep its             #\n",
    "    #       dimensionality                                                      #\n",
    "    #############################################################################\n",
    "    t = torch.tensor([[11,12,13],[21,22,23],[31,32,33]])\n",
    "    output = t[0:2, 0:2]\n",
    "\n",
    "    #############################################################################\n",
    "    #                              END OF YOUR CODE                             #\n",
    "    #############################################################################\n",
    "\n",
    "    return output"
   ]
  },
  {
   "cell_type": "code",
   "execution_count": 421,
   "metadata": {
    "collapsed": false,
    "jupyter": {
     "outputs_hidden": false
    },
    "pycharm": {
     "name": "#%%\n"
    }
   },
   "outputs": [
    {
     "name": "stderr",
     "output_type": "stream",
     "text": [
      "C:\\Users\\Dell\\OneDrive\\Desktop\\xAI-DL\\assignment1\\assignment1\\Programming\\code\\tests\\test_torch_tensors_basics.py:182: FutureWarning: You are using `torch.load` with `weights_only=False` (the current default value), which uses the default pickle module implicitly. It is possible to construct malicious pickle data which will execute arbitrary code during unpickling (See https://github.com/pytorch/pytorch/blob/main/SECURITY.md#untrusted-models for more details). In a future release, the default value for `weights_only` will be flipped to `True`. This limits the functions that could be executed during unpickling. Arbitrary objects will no longer be allowed to be loaded via this mode unless they are explicitly allowlisted by the user via `torch.serialization.add_safe_globals`. We recommend you start setting `weights_only=True` for any use case where you don't have full control of the loaded file. Please open an issue on GitHub for any issues related to this experimental feature.\n",
      "  expected_version = torch.load(\"../data/torch_tensors_basics/reference_tensor_basics.pt\")[\"t15\"]\n",
      ".\n",
      "----------------------------------------------------------------------\n",
      "Ran 1 test in 0.002s\n",
      "\n",
      "OK\n"
     ]
    }
   ],
   "source": [
    "# Test your code\n",
    "\n",
    "!python ./tests/test_torch_tensors_basics.py --test_case TestBasics --test_function test_slicing_03"
   ]
  },
  {
   "cell_type": "markdown",
   "metadata": {
    "collapsed": false,
    "jupyter": {
     "outputs_hidden": false
    }
   },
   "source": []
  },
  {
   "cell_type": "markdown",
   "metadata": {
    "collapsed": false,
    "jupyter": {
     "outputs_hidden": false
    },
    "pycharm": {
     "name": "#%% md\n"
    }
   },
   "source": [
    "<span style=\"color:#00BFFF\"><em>Parameters</em></span>:\n",
    "- <span style=\"color:#00BFFF\"><em>t:</em></span> Defines the tensor (torch.tensor).\n",
    "\n",
    "<b><span style=\"color:teal\">TODO:</span> <b>\n",
    "<dl>\n",
    "<dd><span style=\"color:teal\">4. Implement the method <span style=\"color:#DC143C\"><em>slicing_04</em></span> which extracts the following slice of the given tensor while keeping the tensor's 2D dimensionality:</span></dd>\n",
    "<dd><div><img src=\"../img/torch_tensors_basics/tensor_indexing_04.png\" width=\"300\"/></div></dd>\n",
    "</dl>"
   ]
  },
  {
   "cell_type": "code",
   "execution_count": 470,
   "metadata": {
    "collapsed": false,
    "jupyter": {
     "outputs_hidden": false
    },
    "pycharm": {
     "name": "#%%\n"
    }
   },
   "outputs": [],
   "source": [
    "def slicing_04(t: torch.tensor):\n",
    "    \"\"\"\n",
    "    Extract the respective slice of the tensor.\n",
    "\n",
    "    :param t: PyTorch tensor.\n",
    "    :return: Tensor containing the respective slice.\n",
    "    \"\"\"\n",
    "\n",
    "    output = None\n",
    "\n",
    "    #############################################################################\n",
    "    #                            START OF YOUR CODE                             #\n",
    "    # TODO:                                                                     #\n",
    "    #    1) Extract the respective slice of tensor 't'                          #\n",
    "    #############################################################################\n",
    "    t = torch.tensor([[11,12,13],[21,22,23],[31,32,33]])\n",
    "    t1= t[[0,2],0]\n",
    "    t2 = t[0,[0,2]]\n",
    "    output = t[t1,t2]\n",
    "\n",
    "    #############################################################################\n",
    "    #                              END OF YOUR CODE                             #\n",
    "    #############################################################################\n",
    "\n",
    "    return output"
   ]
  },
  {
   "cell_type": "code",
   "execution_count": 471,
   "metadata": {
    "collapsed": false,
    "jupyter": {
     "outputs_hidden": false
    },
    "pycharm": {
     "name": "#%%\n"
    }
   },
   "outputs": [
    {
     "name": "stderr",
     "output_type": "stream",
     "text": [
      "C:\\Users\\Dell\\OneDrive\\Desktop\\xAI-DL\\assignment1\\assignment1\\Programming\\code\\tests\\test_torch_tensors_basics.py:192: FutureWarning: You are using `torch.load` with `weights_only=False` (the current default value), which uses the default pickle module implicitly. It is possible to construct malicious pickle data which will execute arbitrary code during unpickling (See https://github.com/pytorch/pytorch/blob/main/SECURITY.md#untrusted-models for more details). In a future release, the default value for `weights_only` will be flipped to `True`. This limits the functions that could be executed during unpickling. Arbitrary objects will no longer be allowed to be loaded via this mode unless they are explicitly allowlisted by the user via `torch.serialization.add_safe_globals`. We recommend you start setting `weights_only=True` for any use case where you don't have full control of the loaded file. Please open an issue on GitHub for any issues related to this experimental feature.\n",
      "  expected_version = torch.load(\"../data/torch_tensors_basics/reference_tensor_basics.pt\")[\"t16\"]\n",
      "F\n",
      "======================================================================\n",
      "FAIL: test_slicing_04 (__main__.TestBasics)\n",
      "Test different slicing of a tensor.\n",
      "----------------------------------------------------------------------\n",
      "Traceback (most recent call last):\n",
      "  File \"C:\\Users\\Dell\\OneDrive\\Desktop\\xAI-DL\\assignment1\\assignment1\\Programming\\code\\tests\\test_torch_tensors_basics.py\", line 195, in test_slicing_04\n",
      "    self.assertEqual(student_version.shape, expected_version.shape, \"Shape of tensor is not correct!\")\n",
      "AssertionError: torch.Size([2]) != torch.Size([2, 2]) : Shape of tensor is not correct!\n",
      "\n",
      "----------------------------------------------------------------------\n",
      "Ran 1 test in 0.002s\n",
      "\n",
      "FAILED (failures=1)\n"
     ]
    }
   ],
   "source": [
    "# Test your code\n",
    " \n",
    "!python ./tests/test_torch_tensors_basics.py --test_case TestBasics --test_function test_slicing_04"
   ]
  },
  {
   "cell_type": "markdown",
   "metadata": {
    "collapsed": false,
    "jupyter": {
     "outputs_hidden": false
    }
   },
   "source": []
  },
  {
   "cell_type": "markdown",
   "metadata": {
    "collapsed": false,
    "jupyter": {
     "outputs_hidden": false
    },
    "pycharm": {
     "name": "#%% md\n"
    }
   },
   "source": [
    "<a id='3'></a>\n",
    "## 3 - Tensor Calculations \\[3 points\\] ##\n",
    "\n",
    "We can also do calculations with tensors. In this exercise you will learn some of the basic calculations that can be done with tensors."
   ]
  },
  {
   "cell_type": "markdown",
   "metadata": {
    "collapsed": false,
    "jupyter": {
     "outputs_hidden": false
    },
    "pycharm": {
     "name": "#%% md\n"
    }
   },
   "source": [
    "<a name='3-1'></a>\n",
    "### 3.1 - Tensor Addition \\[0.5 points\\] ###\n",
    "\n",
    "In this exercise you will learn how to add two tensors together.\n",
    "\n",
    "<span style=\"color:#00BFFF\"><em>Parameters</em></span>:\n",
    "- <span style=\"color:#00BFFF\"><em>t1:</em></span> Defines the first tensor (torch.tensor).\n",
    "- <span style=\"color:#00BFFF\"><em>t2:</em></span> Defines the second tensor (torch.tensor).\n",
    "\n",
    "<b><span style=\"color:teal\">TODO:</span> <b>\n",
    "<dl>\n",
    "<dd><span style=\"color:teal\">1. Implement the method <span style=\"color:#DC143C\"><em>tensor_summation</em></span> which calculates the sum of two given tensors <span style=\"color:#00BFFF\"><em>t1</em></span> and <span style=\"color:#00BFFF\"><em>t2</em></span>.</span></dd>\n",
    "</dl>"
   ]
  },
  {
   "cell_type": "code",
   "execution_count": 424,
   "metadata": {
    "collapsed": false,
    "jupyter": {
     "outputs_hidden": false
    },
    "pycharm": {
     "name": "#%%\n"
    }
   },
   "outputs": [],
   "source": [
    "def tensor_summation(t1: torch.tensor, t2: torch.tensor):\n",
    "    \"\"\"\n",
    "    Summation of two tensors.\n",
    "\n",
    "    :param t1: PyTorch tensor.\n",
    "    :param t2: PyTorch tensor.\n",
    "    :return: Sum of both given tensors.\n",
    "    \"\"\"\n",
    "\n",
    "    output = None\n",
    "\n",
    "    #############################################################################\n",
    "    #                            START OF YOUR CODE                             #\n",
    "    # TODO:                                                                     #\n",
    "    #    1) Add both given tensors together                                     #\n",
    "    #############################################################################\n",
    "    output = t1 + t2\n",
    "\n",
    "    #############################################################################\n",
    "    #                              END OF YOUR CODE                             #\n",
    "    #############################################################################\n",
    "\n",
    "    return output"
   ]
  },
  {
   "cell_type": "code",
   "execution_count": 425,
   "metadata": {
    "collapsed": false,
    "jupyter": {
     "outputs_hidden": false
    },
    "pycharm": {
     "name": "#%%\n"
    }
   },
   "outputs": [
    {
     "name": "stderr",
     "output_type": "stream",
     "text": [
      "C:\\Users\\Dell\\OneDrive\\Desktop\\xAI-DL\\assignment1\\assignment1\\Programming\\code\\tests\\test_torch_tensors_basics.py:218: FutureWarning: You are using `torch.load` with `weights_only=False` (the current default value), which uses the default pickle module implicitly. It is possible to construct malicious pickle data which will execute arbitrary code during unpickling (See https://github.com/pytorch/pytorch/blob/main/SECURITY.md#untrusted-models for more details). In a future release, the default value for `weights_only` will be flipped to `True`. This limits the functions that could be executed during unpickling. Arbitrary objects will no longer be allowed to be loaded via this mode unless they are explicitly allowlisted by the user via `torch.serialization.add_safe_globals`. We recommend you start setting `weights_only=True` for any use case where you don't have full control of the loaded file. Please open an issue on GitHub for any issues related to this experimental feature.\n",
      "  expected_version = torch.load(\"../data/torch_tensors_basics/reference_tensor_operations.pt\")[\"t1\"]\n",
      ".\n",
      "----------------------------------------------------------------------\n",
      "Ran 1 test in 0.004s\n",
      "\n",
      "OK\n"
     ]
    }
   ],
   "source": [
    "# Test your code\n",
    "\n",
    "!python ./tests/test_torch_tensors_basics.py --test_case TestTensorOperations --test_function test_summation_of_tensors"
   ]
  },
  {
   "cell_type": "markdown",
   "metadata": {
    "collapsed": false,
    "jupyter": {
     "outputs_hidden": false
    }
   },
   "source": []
  },
  {
   "cell_type": "markdown",
   "metadata": {
    "collapsed": false,
    "jupyter": {
     "outputs_hidden": false
    },
    "pycharm": {
     "name": "#%% md\n"
    }
   },
   "source": [
    "<a name='3-2'></a>\n",
    "### 3.2 - Scalar Multiplication \\[0.5 points\\] ###\n",
    "\n",
    "In this exercise you will learn how to multiply a scalar with a tensor.\n",
    "\n",
    "<span style=\"color:#00BFFF\"><em>Parameters</em></span>:\n",
    "- <span style=\"color:#00BFFF\"><em>t:</em></span> Defines the tensor (torch.tensor).\n",
    "- <span style=\"color:#00BFFF\"><em>s:</em></span> Defines the scalar (float).\n",
    "\n",
    "<b><span style=\"color:teal\">TODO:</span> <b>\n",
    "<dl>\n",
    "<dd><span style=\"color:teal\">2. Implement the method <span style=\"color:#DC143C\"><em>scalar_multiplication</em></span> which multiplies a given tensor <span style=\"color:#00BFFF\"><em>t</em></span> with a given scalar <span style=\"color:#00BFFF\"><em>s</em></span>.</span></dd>\n",
    "</dl>"
   ]
  },
  {
   "cell_type": "code",
   "execution_count": 426,
   "metadata": {
    "collapsed": false,
    "jupyter": {
     "outputs_hidden": false
    },
    "pycharm": {
     "name": "#%%\n"
    }
   },
   "outputs": [],
   "source": [
    "def scalar_multiplication(t: torch.tensor, s: float):\n",
    "    \"\"\"\n",
    "    Multiplication of a tensor with a scalar.\n",
    "\n",
    "    :param t: PyTorch tensor.\n",
    "    :param s: Scalar.\n",
    "    :return: Multiplication of the scalar with the tensor.\n",
    "    \"\"\"\n",
    "\n",
    "    output = None\n",
    "\n",
    "    #############################################################################\n",
    "    #                            START OF YOUR CODE                             #\n",
    "    # TODO:                                                                     #\n",
    "    #    1) Multiply the scalar with the tensor                                 #\n",
    "    #############################################################################\n",
    "    t = torch.tensor([[11,12,13],[21,22,23],[31,32,33]])\n",
    "    output = t*s\n",
    "\n",
    "    #############################################################################\n",
    "    #                              END OF YOUR CODE                             #\n",
    "    #############################################################################\n",
    "\n",
    "    return output"
   ]
  },
  {
   "cell_type": "code",
   "execution_count": 427,
   "metadata": {
    "collapsed": false,
    "jupyter": {
     "outputs_hidden": false
    },
    "pycharm": {
     "name": "#%%\n"
    }
   },
   "outputs": [
    {
     "name": "stderr",
     "output_type": "stream",
     "text": [
      "C:\\Users\\Dell\\OneDrive\\Desktop\\xAI-DL\\assignment1\\assignment1\\Programming\\code\\tests\\test_torch_tensors_basics.py:228: FutureWarning: You are using `torch.load` with `weights_only=False` (the current default value), which uses the default pickle module implicitly. It is possible to construct malicious pickle data which will execute arbitrary code during unpickling (See https://github.com/pytorch/pytorch/blob/main/SECURITY.md#untrusted-models for more details). In a future release, the default value for `weights_only` will be flipped to `True`. This limits the functions that could be executed during unpickling. Arbitrary objects will no longer be allowed to be loaded via this mode unless they are explicitly allowlisted by the user via `torch.serialization.add_safe_globals`. We recommend you start setting `weights_only=True` for any use case where you don't have full control of the loaded file. Please open an issue on GitHub for any issues related to this experimental feature.\n",
      "  expected_version = torch.load(\"../data/torch_tensors_basics/reference_tensor_operations.pt\")[\"t2\"]\n",
      ".\n",
      "----------------------------------------------------------------------\n",
      "Ran 1 test in 0.004s\n",
      "\n",
      "OK\n"
     ]
    }
   ],
   "source": [
    "# Test your code\n",
    "\n",
    "!python ./tests/test_torch_tensors_basics.py --test_case TestTensorOperations --test_function test_scalar_multiplication"
   ]
  },
  {
   "cell_type": "markdown",
   "metadata": {
    "collapsed": false,
    "jupyter": {
     "outputs_hidden": false
    }
   },
   "source": []
  },
  {
   "cell_type": "markdown",
   "metadata": {
    "collapsed": false,
    "jupyter": {
     "outputs_hidden": false
    },
    "pycharm": {
     "name": "#%% md\n"
    }
   },
   "source": [
    "<a name='3-3'></a>\n",
    "### 3.3 - Hadamard Product \\[0.5 points\\] ###\n",
    "\n",
    "In this exercise you will learn how to calculate the hadamard product of two tensors by multiplying them element-wise.\n",
    "\n",
    "<span style=\"color:#00BFFF\"><em>Parameters</em></span>:\n",
    "- <span style=\"color:#00BFFF\"><em>t1:</em></span> Defines the first tensor (torch.tensor).\n",
    "- <span style=\"color:#00BFFF\"><em>t2:</em></span> Defines the second tensor (torch.tensor).\n",
    "\n",
    "<b><span style=\"color:teal\">TODO:</span> <b>\n",
    "<dl>\n",
    "<dd><span style=\"color:teal\">3. Implement the method <span style=\"color:#DC143C\"><em>hadamard_product</em></span> which calculates the hadamard (element-wise) product of two given tensors <span style=\"color:#00BFFF\"><em>t1</em></span> and <span style=\"color:#00BFFF\"><em>t2</em></span>.</span></dd>\n",
    "</dl>"
   ]
  },
  {
   "cell_type": "code",
   "execution_count": 464,
   "metadata": {
    "collapsed": false,
    "jupyter": {
     "outputs_hidden": false
    },
    "pycharm": {
     "name": "#%%\n"
    }
   },
   "outputs": [],
   "source": [
    "def hadamard_product(t1: torch.tensor, t2: torch.tensor):\n",
    "    \"\"\"\n",
    "    Calculate the Hadamard Product (element-wise multiplication) of the given tensors.\n",
    "\n",
    "    :param t1: PyTorch tensor.\n",
    "    :param t2: PyTorch tensor.\n",
    "    :return: Hadamard Product of both tensors.\n",
    "    \"\"\"\n",
    "\n",
    "    output = None\n",
    "\n",
    "    #############################################################################\n",
    "    #                            START OF YOUR CODE                             #\n",
    "    # TODO:                                                                     #\n",
    "    #    1) Calculate the Hadamard Product of the given tensors                 #\n",
    "    #############################################################################\n",
    "    t1 = torch.tensor([[11,12,13],[21,22,23],[31,32,33]])\n",
    "    t2 = torch.tensor([[41,42,43],[51,52,53],[61,62,63]])\n",
    "    output = t1*t2\n",
    "\n",
    "    #############################################################################\n",
    "    #                              END OF YOUR CODE                             #\n",
    "    #############################################################################\n",
    "\n",
    "    return output"
   ]
  },
  {
   "cell_type": "code",
   "execution_count": 465,
   "metadata": {
    "collapsed": false,
    "jupyter": {
     "outputs_hidden": false
    },
    "pycharm": {
     "name": "#%%\n"
    }
   },
   "outputs": [
    {
     "name": "stderr",
     "output_type": "stream",
     "text": [
      "C:\\Users\\Dell\\OneDrive\\Desktop\\xAI-DL\\assignment1\\assignment1\\Programming\\code\\tests\\test_torch_tensors_basics.py:238: FutureWarning: You are using `torch.load` with `weights_only=False` (the current default value), which uses the default pickle module implicitly. It is possible to construct malicious pickle data which will execute arbitrary code during unpickling (See https://github.com/pytorch/pytorch/blob/main/SECURITY.md#untrusted-models for more details). In a future release, the default value for `weights_only` will be flipped to `True`. This limits the functions that could be executed during unpickling. Arbitrary objects will no longer be allowed to be loaded via this mode unless they are explicitly allowlisted by the user via `torch.serialization.add_safe_globals`. We recommend you start setting `weights_only=True` for any use case where you don't have full control of the loaded file. Please open an issue on GitHub for any issues related to this experimental feature.\n",
      "  expected_version = torch.load(\"../data/torch_tensors_basics/reference_tensor_operations.pt\")[\"t3\"]\n",
      "F\n",
      "======================================================================\n",
      "FAIL: test_hadamard_product (__main__.TestTensorOperations)\n",
      "Test calculating the hadamard product of two tensors.\n",
      "----------------------------------------------------------------------\n",
      "Traceback (most recent call last):\n",
      "  File \"C:\\Users\\Dell\\OneDrive\\Desktop\\xAI-DL\\assignment1\\assignment1\\Programming\\code\\tests\\test_torch_tensors_basics.py\", line 242, in test_hadamard_product\n",
      "    self.assertTrue(torch.allclose(student_version, expected_version, atol=0.0001), \"Solution is not correct!\")\n",
      "AssertionError: False is not true : Solution is not correct!\n",
      "\n",
      "----------------------------------------------------------------------\n",
      "Ran 1 test in 0.005s\n",
      "\n",
      "FAILED (failures=1)\n"
     ]
    }
   ],
   "source": [
    "# Test your code\n",
    "\n",
    "!python ./tests/test_torch_tensors_basics.py --test_case TestTensorOperations --test_function test_hadamard_product"
   ]
  },
  {
   "cell_type": "markdown",
   "metadata": {
    "collapsed": false,
    "jupyter": {
     "outputs_hidden": false
    }
   },
   "source": []
  },
  {
   "cell_type": "markdown",
   "metadata": {
    "collapsed": false,
    "jupyter": {
     "outputs_hidden": false
    },
    "pycharm": {
     "name": "#%% md\n"
    }
   },
   "source": [
    "<a name='3-4'></a>\n",
    "### 3.4 - Matrix Multiplication \\[0.5 points\\] ###\n",
    "\n",
    "In this exercise you will learn how to calculate the matrix product of two tensors.\n",
    "\n",
    "<span style=\"color:#00BFFF\"><em>Parameters</em></span>:\n",
    "- <span style=\"color:#00BFFF\"><em>t1:</em></span> Defines the first tensor (torch.tensor).\n",
    "- <span style=\"color:#00BFFF\"><em>t2:</em></span> Defines the second tensor (torch.tensor).\n",
    "\n",
    "<b><span style=\"color:teal\">TODO:</span> <b>\n",
    "<dl>\n",
    "<dd><span style=\"color:teal\">4. Implement the method <span style=\"color:#DC143C\"><em>matrix_product</em></span> which calculates the matrix product of two given tensors <span style=\"color:#00BFFF\"><em>t1</em></span> and <span style=\"color:#00BFFF\"><em>t2</em></span>.</span></dd>\n",
    "</dl>"
   ]
  },
  {
   "cell_type": "code",
   "execution_count": 430,
   "metadata": {
    "collapsed": false,
    "jupyter": {
     "outputs_hidden": false
    },
    "pycharm": {
     "name": "#%%\n"
    }
   },
   "outputs": [],
   "source": [
    "def matrix_product(t1: torch.tensor, t2: torch.tensor):\n",
    "    \"\"\"\n",
    "    Calculate the matrix product of the given tensors.\n",
    "\n",
    "    :param t1: PyTorch tensor.\n",
    "    :param t2: PyTorch tensor.\n",
    "    :return: Matrix product of both tensors.\n",
    "    \"\"\"\n",
    "\n",
    "    output = None\n",
    "\n",
    "    #############################################################################\n",
    "    #                            START OF YOUR CODE                             #\n",
    "    # TODO:                                                                     #\n",
    "    #    1) Calculate the Matrix product of the given tensors                   #\n",
    "    #############################################################################\n",
    "    t1 = torch.tensor([[11,12,13],[21,22,23],[31,32,33]])\n",
    "    t2 = torch.tensor([[41,42,43],[51,52,53],[61,62,63]])\n",
    "    output = t1@t2\n",
    "\n",
    "    #############################################################################\n",
    "    #                              END OF YOUR CODE                             #\n",
    "    #############################################################################\n",
    "\n",
    "    return output"
   ]
  },
  {
   "cell_type": "code",
   "execution_count": 431,
   "metadata": {
    "collapsed": false,
    "jupyter": {
     "outputs_hidden": false
    },
    "pycharm": {
     "name": "#%%\n"
    }
   },
   "outputs": [
    {
     "name": "stderr",
     "output_type": "stream",
     "text": [
      "C:\\Users\\Dell\\OneDrive\\Desktop\\xAI-DL\\assignment1\\assignment1\\Programming\\code\\tests\\test_torch_tensors_basics.py:248: FutureWarning: You are using `torch.load` with `weights_only=False` (the current default value), which uses the default pickle module implicitly. It is possible to construct malicious pickle data which will execute arbitrary code during unpickling (See https://github.com/pytorch/pytorch/blob/main/SECURITY.md#untrusted-models for more details). In a future release, the default value for `weights_only` will be flipped to `True`. This limits the functions that could be executed during unpickling. Arbitrary objects will no longer be allowed to be loaded via this mode unless they are explicitly allowlisted by the user via `torch.serialization.add_safe_globals`. We recommend you start setting `weights_only=True` for any use case where you don't have full control of the loaded file. Please open an issue on GitHub for any issues related to this experimental feature.\n",
      "  expected_version = torch.load(\"../data/torch_tensors_basics/reference_tensor_operations.pt\")[\"t4\"]\n",
      ".\n",
      "----------------------------------------------------------------------\n",
      "Ran 1 test in 0.004s\n",
      "\n",
      "OK\n"
     ]
    }
   ],
   "source": [
    "# Test your code\n",
    "\n",
    "!python ./tests/test_torch_tensors_basics.py --test_case TestTensorOperations --test_function test_matrix_product"
   ]
  },
  {
   "cell_type": "markdown",
   "metadata": {
    "collapsed": false,
    "jupyter": {
     "outputs_hidden": false
    }
   },
   "source": []
  },
  {
   "cell_type": "markdown",
   "metadata": {
    "collapsed": false,
    "jupyter": {
     "outputs_hidden": false
    },
    "pycharm": {
     "name": "#%% md\n"
    }
   },
   "source": [
    "<a name='3-5'></a>\n",
    "### 3.5 - Dot Product \\[0.5 points\\] ###\n",
    "\n",
    "In this exercise you will learn how to calculate the dot product of two tensors.\n",
    "\n",
    "<span style=\"color:#00BFFF\"><em>Parameters</em></span>:\n",
    "- <span style=\"color:#00BFFF\"><em>t1:</em></span> Defines the first tensor (torch.tensor).\n",
    "- <span style=\"color:#00BFFF\"><em>t2:</em></span> Defines the second tensor (torch.tensor).\n",
    "\n",
    "<b><span style=\"color:teal\">TODO:</span> <b>\n",
    "<dl>\n",
    "<dd><span style=\"color:teal\">5. Implement the method <span style=\"color:#DC143C\"><em>dot_product</em></span> which calculates the dot product of two given 1D tensors <span style=\"color:#00BFFF\"><em>t1</em></span> and <span style=\"color:#00BFFF\"><em>t2</em></span>.</span></dd>\n",
    "</dl>"
   ]
  },
  {
   "cell_type": "code",
   "execution_count": 432,
   "metadata": {
    "collapsed": false,
    "jupyter": {
     "outputs_hidden": false
    },
    "pycharm": {
     "name": "#%%\n"
    }
   },
   "outputs": [],
   "source": [
    "def dot_product(t1: torch.tensor, t2: torch.tensor):\n",
    "    \"\"\"\n",
    "    Calculate the dot product of the given tensors.\n",
    "\n",
    "    :param t1: 1D PyTorch tensor.\n",
    "    :param t2: 1D PyTorch tensor.\n",
    "    :return: Dot product of both 1D tensors.\n",
    "    \"\"\"\n",
    "\n",
    "    output = None\n",
    "\n",
    "    #############################################################################\n",
    "    #                            START OF YOUR CODE                             #\n",
    "    # TODO:                                                                     #\n",
    "    #    1) Calculate the dot product of the given tensors                      #\n",
    "    #############################################################################\n",
    "    t1 = torch.tensor([[11,12,13],[21,22,23],[31,32,33]])\n",
    "    t2 = torch.tensor([[41,42,43]])\n",
    "    output = torch.dot(t1,t2)\n",
    "\n",
    "    #############################################################################\n",
    "    #                              END OF YOUR CODE                             #\n",
    "    #############################################################################\n",
    "\n",
    "    return output"
   ]
  },
  {
   "cell_type": "code",
   "execution_count": 433,
   "metadata": {
    "collapsed": false,
    "jupyter": {
     "outputs_hidden": false
    },
    "pycharm": {
     "name": "#%%\n"
    }
   },
   "outputs": [
    {
     "name": "stderr",
     "output_type": "stream",
     "text": [
      "E\n",
      "======================================================================\n",
      "ERROR: test_dot_product (__main__.TestTensorOperations)\n",
      "Test calculating the dot product of two tensors.\n",
      "----------------------------------------------------------------------\n",
      "Traceback (most recent call last):\n",
      "  File \"C:\\Users\\Dell\\OneDrive\\Desktop\\xAI-DL\\assignment1\\assignment1\\Programming\\code\\tests\\test_torch_tensors_basics.py\", line 257, in test_dot_product\n",
      "    student_version = torch_tensors_basics.dot_product(self.t1.flatten(), self.t2.flatten())\n",
      "  File \"torch_tensors_basics.ipynb\", line 19, in dot_product\n",
      "    \"cell_type\": \"markdown\",\n",
      "RuntimeError: 1D tensors expected, but got 2D and 2D tensors\n",
      "\n",
      "----------------------------------------------------------------------\n",
      "Ran 1 test in 0.002s\n",
      "\n",
      "FAILED (errors=1)\n"
     ]
    }
   ],
   "source": [
    "# Test your code\n",
    "\n",
    "!python ./tests/test_torch_tensors_basics.py --test_case TestTensorOperations --test_function test_dot_product"
   ]
  },
  {
   "cell_type": "markdown",
   "metadata": {
    "collapsed": false,
    "jupyter": {
     "outputs_hidden": false
    }
   },
   "source": []
  },
  {
   "cell_type": "markdown",
   "metadata": {
    "collapsed": false,
    "jupyter": {
     "outputs_hidden": false
    },
    "pycharm": {
     "name": "#%% md\n"
    }
   },
   "source": [
    "<a name='3-6'></a>\n",
    "### 3.6 - Square Tensor \\[0.5 points\\] ###\n",
    "\n",
    "In this exercise you will learn how to square all elements in a tensor.\n",
    "\n",
    "<span style=\"color:#00BFFF\"><em>Parameters</em></span>:\n",
    "- <span style=\"color:#00BFFF\"><em>t:</em></span> Defines the tensor (torch.tensor).\n",
    "\n",
    "<b><span style=\"color:teal\">TODO:</span> <b>\n",
    "<dl>\n",
    "<dd><span style=\"color:teal\">6. Implement the method <span style=\"color:#DC143C\"><em>square_tensor</em></span> which squares all elements of a given tensor <span style=\"color:#00BFFF\"><em>t</em></span>.</span></dd>\n",
    "</dl>"
   ]
  },
  {
   "cell_type": "code",
   "execution_count": 434,
   "metadata": {
    "collapsed": false,
    "jupyter": {
     "outputs_hidden": false
    },
    "pycharm": {
     "name": "#%%\n"
    }
   },
   "outputs": [],
   "source": [
    "def square_tensor(t: torch.tensor):\n",
    "    \"\"\"\n",
    "    Square all elements of a tensor.\n",
    "\n",
    "    :param t: PyTorch tensor.\n",
    "    :return: Squared Tensor.\n",
    "    \"\"\"\n",
    "\n",
    "    output = None\n",
    "\n",
    "    #############################################################################\n",
    "    #                            START OF YOUR CODE                             #\n",
    "    # TODO:                                                                     #\n",
    "    #    1) Square all elements of the given tensor                             #\n",
    "    #############################################################################\n",
    "    t = torch.tensor([[11,12,13],[21,22,23],[31,32,33]])\n",
    "    output = torch.pow(t,2)\n",
    "\n",
    "    #############################################################################\n",
    "    #                              END OF YOUR CODE                             #\n",
    "    #############################################################################\n",
    "\n",
    "    return output"
   ]
  },
  {
   "cell_type": "code",
   "execution_count": 435,
   "metadata": {
    "collapsed": false,
    "jupyter": {
     "outputs_hidden": false
    },
    "pycharm": {
     "name": "#%%\n"
    }
   },
   "outputs": [
    {
     "name": "stderr",
     "output_type": "stream",
     "text": [
      "C:\\Users\\Dell\\OneDrive\\Desktop\\xAI-DL\\assignment1\\assignment1\\Programming\\code\\tests\\test_torch_tensors_basics.py:268: FutureWarning: You are using `torch.load` with `weights_only=False` (the current default value), which uses the default pickle module implicitly. It is possible to construct malicious pickle data which will execute arbitrary code during unpickling (See https://github.com/pytorch/pytorch/blob/main/SECURITY.md#untrusted-models for more details). In a future release, the default value for `weights_only` will be flipped to `True`. This limits the functions that could be executed during unpickling. Arbitrary objects will no longer be allowed to be loaded via this mode unless they are explicitly allowlisted by the user via `torch.serialization.add_safe_globals`. We recommend you start setting `weights_only=True` for any use case where you don't have full control of the loaded file. Please open an issue on GitHub for any issues related to this experimental feature.\n",
      "  expected_version = torch.load(\"../data/torch_tensors_basics/reference_tensor_operations.pt\")[\"t6\"]\n",
      ".\n",
      "----------------------------------------------------------------------\n",
      "Ran 1 test in 0.004s\n",
      "\n",
      "OK\n"
     ]
    }
   ],
   "source": [
    "# Test your code\n",
    "\n",
    "!python ./tests/test_torch_tensors_basics.py --test_case TestTensorOperations --test_function test_square_tensor"
   ]
  },
  {
   "cell_type": "markdown",
   "metadata": {
    "collapsed": false,
    "jupyter": {
     "outputs_hidden": false
    }
   },
   "source": []
  },
  {
   "cell_type": "markdown",
   "metadata": {
    "collapsed": false,
    "jupyter": {
     "outputs_hidden": false
    },
    "pycharm": {
     "name": "#%% md\n"
    }
   },
   "source": [
    "<a id='4'></a>\n",
    "## 4 - Tensor Statistics \\[2 points\\] ##\n",
    "\n",
    "We can also do statistics with tensors. In this exercise you will learn some of the basic commands."
   ]
  },
  {
   "cell_type": "markdown",
   "metadata": {
    "collapsed": false,
    "jupyter": {
     "outputs_hidden": false
    },
    "pycharm": {
     "name": "#%% md\n"
    }
   },
   "source": [
    "<a name='4-1'></a>\n",
    "### 4.1 - Tensor Min \\[0.5 points\\] ###\n",
    "\n",
    "In this exercise you will learn how to find the minimum value in a tensor.\n",
    "\n",
    "<span style=\"color:#00BFFF\"><em>Parameters</em></span>:\n",
    "- <span style=\"color:#00BFFF\"><em>t:</em></span> Defines the tensor (torch.tensor).\n",
    "\n",
    "<b><span style=\"color:teal\">TODO:</span> <b>\n",
    "<dl>\n",
    "<dd><span style=\"color:teal\">Implement the method <span style=\"color:#DC143C\"><em>minimum</em></span> which finds the minimum value within a tensor <span style=\"color:#00BFFF\"><em>t</em></span> and returns it as another tensor.</span></dd>\n",
    "</dl>"
   ]
  },
  {
   "cell_type": "code",
   "execution_count": 436,
   "metadata": {
    "collapsed": false,
    "jupyter": {
     "outputs_hidden": false
    },
    "pycharm": {
     "name": "#%%\n"
    }
   },
   "outputs": [],
   "source": [
    "def minimum(t: torch.tensor):\n",
    "    \"\"\"\n",
    "    Find the minimum value in a tensor and return it as a tensor.\n",
    "\n",
    "    :param t: PyTorch tensor.\n",
    "    :return: Minimum value as a tensor.\n",
    "    \"\"\"\n",
    "\n",
    "    output = None\n",
    "\n",
    "    #############################################################################\n",
    "    #                            START OF YOUR CODE                             #\n",
    "    # TODO:                                                                     #\n",
    "    #    1) Find the minimum value of the given tensor and return it as a       #\n",
    "    #       tensor                                                              #\n",
    "    #############################################################################\n",
    "    t = torch.tensor([[11,12,13],[21,22,23],[31,32,33]])\n",
    "    min_value = torch.min(t)\n",
    "    output = torch.tensor(min_value)\n",
    "\n",
    "    #############################################################################\n",
    "    #                              END OF YOUR CODE                             #\n",
    "    #############################################################################\n",
    "\n",
    "    return output"
   ]
  },
  {
   "cell_type": "code",
   "execution_count": 437,
   "metadata": {
    "collapsed": false,
    "jupyter": {
     "outputs_hidden": false
    },
    "pycharm": {
     "name": "#%%\n"
    }
   },
   "outputs": [
    {
     "name": "stderr",
     "output_type": "stream",
     "text": [
      "torch_tensors_basics.ipynb:19: UserWarning: To copy construct from a tensor, it is recommended to use sourceTensor.clone().detach() or sourceTensor.clone().detach().requires_grad_(True), rather than torch.tensor(sourceTensor).\n",
      "  \"cell_type\": \"markdown\",\n",
      "C:\\Users\\Dell\\OneDrive\\Desktop\\xAI-DL\\assignment1\\assignment1\\Programming\\code\\tests\\test_torch_tensors_basics.py:278: FutureWarning: You are using `torch.load` with `weights_only=False` (the current default value), which uses the default pickle module implicitly. It is possible to construct malicious pickle data which will execute arbitrary code during unpickling (See https://github.com/pytorch/pytorch/blob/main/SECURITY.md#untrusted-models for more details). In a future release, the default value for `weights_only` will be flipped to `True`. This limits the functions that could be executed during unpickling. Arbitrary objects will no longer be allowed to be loaded via this mode unless they are explicitly allowlisted by the user via `torch.serialization.add_safe_globals`. We recommend you start setting `weights_only=True` for any use case where you don't have full control of the loaded file. Please open an issue on GitHub for any issues related to this experimental feature.\n",
      "  expected_version = torch.load(\"../data/torch_tensors_basics/reference_tensor_operations.pt\")[\"t7\"]\n",
      ".\n",
      "----------------------------------------------------------------------\n",
      "Ran 1 test in 0.005s\n",
      "\n",
      "OK\n"
     ]
    }
   ],
   "source": [
    "# Test your code\n",
    "\n",
    "!python ./tests/test_torch_tensors_basics.py --test_case TestTensorOperations --test_function test_minimum"
   ]
  },
  {
   "cell_type": "markdown",
   "metadata": {
    "collapsed": false,
    "jupyter": {
     "outputs_hidden": false
    }
   },
   "source": []
  },
  {
   "cell_type": "markdown",
   "metadata": {
    "collapsed": false,
    "jupyter": {
     "outputs_hidden": false
    },
    "pycharm": {
     "name": "#%% md\n"
    }
   },
   "source": [
    "<a name='4-2'></a>\n",
    "### 4.2 - Tensor Max \\[0.5 points\\] ###\n",
    "\n",
    "In this exercise you will learn how to find the maximum value in a tensor.\n",
    "\n",
    "<span style=\"color:#00BFFF\"><em>Parameters</em></span>:\n",
    "- <span style=\"color:#00BFFF\"><em>t:</em></span> Defines the tensor (torch.tensor).\n",
    "\n",
    "<b><span style=\"color:teal\">TODO:</span> <b>\n",
    "<dl>\n",
    "<dd><span style=\"color:teal\">Implement the method <span style=\"color:#DC143C\"><em>maximum</em></span> which finds the maximum value within a tensor <span style=\"color:#00BFFF\"><em>t</em></span> and returns it as another tensor.</span></dd>\n",
    "</dl>"
   ]
  },
  {
   "cell_type": "code",
   "execution_count": 438,
   "metadata": {
    "collapsed": false,
    "jupyter": {
     "outputs_hidden": false
    },
    "pycharm": {
     "name": "#%%\n"
    }
   },
   "outputs": [],
   "source": [
    "def maximum(t: torch.tensor):\n",
    "    \"\"\"\n",
    "    Find the maximum value in a tensor and return it as a tensor.\n",
    "\n",
    "    :param t: PyTorch tensor.\n",
    "    :return: Maximum value as a tensor.\n",
    "    \"\"\"\n",
    "\n",
    "    output = None\n",
    "\n",
    "    #############################################################################\n",
    "    #                            START OF YOUR CODE                             #\n",
    "    # TODO:                                                                     #\n",
    "    #    1) Find the maximum value of the given tensor and return it as a       #\n",
    "    #       tensor                                                              #\n",
    "    #############################################################################\n",
    "    t = torch.tensor([[11,12,13],[21,22,23],[31,32,33]])\n",
    "    max_value = torch.max(t)\n",
    "    output = torch.tensor(max_value)\n",
    "\n",
    "    #############################################################################\n",
    "    #                              END OF YOUR CODE                             #\n",
    "    #############################################################################\n",
    "\n",
    "    return output"
   ]
  },
  {
   "cell_type": "code",
   "execution_count": 439,
   "metadata": {
    "collapsed": false,
    "jupyter": {
     "outputs_hidden": false
    },
    "pycharm": {
     "name": "#%%\n"
    }
   },
   "outputs": [
    {
     "name": "stderr",
     "output_type": "stream",
     "text": [
      "torch_tensors_basics.ipynb:19: UserWarning: To copy construct from a tensor, it is recommended to use sourceTensor.clone().detach() or sourceTensor.clone().detach().requires_grad_(True), rather than torch.tensor(sourceTensor).\n",
      "  \"cell_type\": \"markdown\",\n",
      "C:\\Users\\Dell\\OneDrive\\Desktop\\xAI-DL\\assignment1\\assignment1\\Programming\\code\\tests\\test_torch_tensors_basics.py:288: FutureWarning: You are using `torch.load` with `weights_only=False` (the current default value), which uses the default pickle module implicitly. It is possible to construct malicious pickle data which will execute arbitrary code during unpickling (See https://github.com/pytorch/pytorch/blob/main/SECURITY.md#untrusted-models for more details). In a future release, the default value for `weights_only` will be flipped to `True`. This limits the functions that could be executed during unpickling. Arbitrary objects will no longer be allowed to be loaded via this mode unless they are explicitly allowlisted by the user via `torch.serialization.add_safe_globals`. We recommend you start setting `weights_only=True` for any use case where you don't have full control of the loaded file. Please open an issue on GitHub for any issues related to this experimental feature.\n",
      "  expected_version = torch.load(\"../data/torch_tensors_basics/reference_tensor_operations.pt\")[\"t8\"]\n",
      ".\n",
      "----------------------------------------------------------------------\n",
      "Ran 1 test in 0.005s\n",
      "\n",
      "OK\n"
     ]
    }
   ],
   "source": [
    "# Test your code\n",
    "\n",
    "!python ./tests/test_torch_tensors_basics.py --test_case TestTensorOperations --test_function test_maximum"
   ]
  },
  {
   "cell_type": "markdown",
   "metadata": {
    "collapsed": false,
    "jupyter": {
     "outputs_hidden": false
    }
   },
   "source": []
  },
  {
   "cell_type": "markdown",
   "metadata": {
    "collapsed": false,
    "jupyter": {
     "outputs_hidden": false
    },
    "pycharm": {
     "name": "#%% md\n"
    }
   },
   "source": [
    "<a name='4-3'></a>\n",
    "### 4.3 - Tensor Mean \\[0.5 points\\] ###\n",
    "\n",
    "In this exercise you will learn how to find the mean value of a tensor.\n",
    "\n",
    "<span style=\"color:#00BFFF\"><em>Parameters</em></span>:\n",
    "- <span style=\"color:#00BFFF\"><em>t:</em></span> Defines the tensor (torch.tensor).\n",
    "\n",
    "<b><span style=\"color:teal\">TODO:</span> <b>\n",
    "<dl>\n",
    "<dd><span style=\"color:teal\">Implement the method <span style=\"color:#DC143C\"><em>mean</em></span> which finds the mean value of a tensor <span style=\"color:#00BFFF\"><em>t</em></span> and returns it as another tensor.</span></dd>\n",
    "</dl>\n",
    "\n",
    "<b><span style=\"color:#B8860B\">Hints:</span> <b>\n",
    "<dl>\n",
    "<dd><span style=\"color:#B8860B\">You may need to cast the given tensor to another datatype before the mean can be calculated...</span></dd>\n",
    "</dl>"
   ]
  },
  {
   "cell_type": "code",
   "execution_count": 440,
   "metadata": {
    "collapsed": false,
    "jupyter": {
     "outputs_hidden": false
    },
    "pycharm": {
     "name": "#%%\n"
    }
   },
   "outputs": [],
   "source": [
    "def mean(t: torch.tensor):\n",
    "    \"\"\"\n",
    "    Find the mean value of a tensor and return it as a tensor.\n",
    "\n",
    "    :param t: PyTorch tensor.\n",
    "    :return: Mean value as a tensor.\n",
    "    \"\"\"\n",
    "\n",
    "    output = None\n",
    "\n",
    "    #############################################################################\n",
    "    #                            START OF YOUR CODE                             #\n",
    "    # TODO:                                                                     #\n",
    "    #    1) Find the mean value of the given tensor and return it as a tensor   #\n",
    "    #############################################################################\n",
    "    t = torch.tensor([[11,12,13],[21,22,23],[31,32,33]])\n",
    "    mean_value = torch.mean(t)\n",
    "    output = torch.tensor(mean_value)\n",
    "\n",
    "    #############################################################################\n",
    "    #                              END OF YOUR CODE                             #\n",
    "    #############################################################################\n",
    "\n",
    "    return output"
   ]
  },
  {
   "cell_type": "code",
   "execution_count": 441,
   "metadata": {
    "collapsed": false,
    "jupyter": {
     "outputs_hidden": false
    },
    "pycharm": {
     "name": "#%%\n"
    }
   },
   "outputs": [
    {
     "name": "stderr",
     "output_type": "stream",
     "text": [
      "E\n",
      "======================================================================\n",
      "ERROR: test_mean (__main__.TestTensorOperations)\n",
      "Test finding the mean of a tensor.\n",
      "----------------------------------------------------------------------\n",
      "Traceback (most recent call last):\n",
      "  File \"C:\\Users\\Dell\\OneDrive\\Desktop\\xAI-DL\\assignment1\\assignment1\\Programming\\code\\tests\\test_torch_tensors_basics.py\", line 297, in test_mean\n",
      "    student_version = torch_tensors_basics.mean(self.t1)\n",
      "  File \"torch_tensors_basics.ipynb\", line 17, in mean\n",
      "    },\n",
      "RuntimeError: mean(): could not infer output dtype. Input dtype must be either a floating point or complex dtype. Got: Long\n",
      "\n",
      "----------------------------------------------------------------------\n",
      "Ran 1 test in 0.001s\n",
      "\n",
      "FAILED (errors=1)\n"
     ]
    }
   ],
   "source": [
    "# Test your code\n",
    "\n",
    "!python ./tests/test_torch_tensors_basics.py --test_case TestTensorOperations --test_function test_mean"
   ]
  },
  {
   "cell_type": "markdown",
   "metadata": {
    "collapsed": false,
    "jupyter": {
     "outputs_hidden": false
    }
   },
   "source": []
  },
  {
   "cell_type": "markdown",
   "metadata": {
    "collapsed": false,
    "jupyter": {
     "outputs_hidden": false
    },
    "pycharm": {
     "name": "#%% md\n"
    }
   },
   "source": [
    "<a name='4-4'></a>\n",
    "### 4.4 - Tensor Standard Deviation \\[0.5 points\\] ###\n",
    "\n",
    "In this exercise you will learn how to find the standard deviation of a tensor.\n",
    "\n",
    "<span style=\"color:#00BFFF\"><em>Parameters</em></span>:\n",
    "- <span style=\"color:#00BFFF\"><em>t:</em></span> Defines the tensor (torch.tensor).\n",
    "\n",
    "<b><span style=\"color:teal\">TODO:</span> <b>\n",
    "<dl>\n",
    "<dd><span style=\"color:teal\">Implement the method <span style=\"color:#DC143C\"><em>standard_deviation</em></span> which finds the standard deviation of a tensor <span style=\"color:#00BFFF\"><em>t</em></span> and returns it as another tensor.</span></dd>\n",
    "</dl>\n",
    "\n",
    "<b><span style=\"color:#B8860B\">Hints:</span> <b>\n",
    "<dl>\n",
    "<dd><span style=\"color:#B8860B\">You may need to cast the given tensor to another datatype before the standard deviation can be calculated...</span></dd>\n",
    "</dl>"
   ]
  },
  {
   "cell_type": "code",
   "execution_count": 442,
   "metadata": {
    "collapsed": false,
    "jupyter": {
     "outputs_hidden": false
    },
    "pycharm": {
     "name": "#%%\n"
    }
   },
   "outputs": [],
   "source": [
    "def standard_deviation(t: torch.tensor):\n",
    "    \"\"\"\n",
    "    Find the standard deviation of a tensor and return it as a tensor.\n",
    "\n",
    "    :param t: PyTorch tensor.\n",
    "    :return: Standard deviation as a tensor.\n",
    "    \"\"\"\n",
    "\n",
    "    output = None\n",
    "\n",
    "    #############################################################################\n",
    "    #                            START OF YOUR CODE                             #\n",
    "    # TODO:                                                                     #\n",
    "    #    1) Find the standard deviation of the given tensor and return it as a  #\n",
    "    #       tensor                                                              #\n",
    "    #############################################################################\n",
    "    t = torch.tensor([[11,12,13],[21,22,23],[31,32,33]])\n",
    "    output = torch.std(t)\n",
    "\n",
    "    #############################################################################\n",
    "    #                              END OF YOUR CODE                             #\n",
    "    #############################################################################\n",
    "\n",
    "    return output"
   ]
  },
  {
   "cell_type": "code",
   "execution_count": 443,
   "metadata": {
    "collapsed": false,
    "jupyter": {
     "outputs_hidden": false
    },
    "pycharm": {
     "name": "#%%\n"
    }
   },
   "outputs": [
    {
     "name": "stderr",
     "output_type": "stream",
     "text": [
      "E\n",
      "======================================================================\n",
      "ERROR: test_standard_deviation (__main__.TestTensorOperations)\n",
      "Test finding the standard deviation of a tensor.\n",
      "----------------------------------------------------------------------\n",
      "Traceback (most recent call last):\n",
      "  File \"C:\\Users\\Dell\\OneDrive\\Desktop\\xAI-DL\\assignment1\\assignment1\\Programming\\code\\tests\\test_torch_tensors_basics.py\", line 307, in test_standard_deviation\n",
      "    student_version = torch_tensors_basics.standard_deviation(self.t1)\n",
      "  File \"torch_tensors_basics.ipynb\", line 18, in standard_deviation\n",
      "    {\n",
      "RuntimeError: std and var only support floating point and complex dtypes\n",
      "\n",
      "----------------------------------------------------------------------\n",
      "Ran 1 test in 0.001s\n",
      "\n",
      "FAILED (errors=1)\n"
     ]
    }
   ],
   "source": [
    "# Test your code\n",
    "\n",
    "!python ./tests/test_torch_tensors_basics.py --test_case TestTensorOperations --test_function test_standard_deviation"
   ]
  },
  {
   "cell_type": "markdown",
   "metadata": {
    "collapsed": false,
    "jupyter": {
     "outputs_hidden": false
    }
   },
   "source": []
  },
  {
   "cell_type": "markdown",
   "metadata": {
    "collapsed": false,
    "jupyter": {
     "outputs_hidden": false
    },
    "pycharm": {
     "name": "#%% md\n"
    }
   },
   "source": [
    "<a id='5'></a>\n",
    "## 5 - Tensor Operations \\[8 points\\] ##\n",
    "\n",
    "We can further do additional operations with tensors which are needed to avoid shape or type errors during calculations. In this exercise you will learn some of the most important commands for tensors."
   ]
  },
  {
   "cell_type": "markdown",
   "metadata": {
    "collapsed": false,
    "jupyter": {
     "outputs_hidden": false
    },
    "pycharm": {
     "name": "#%% md\n"
    }
   },
   "source": [
    "<a name='5-1'></a>\n",
    "### 5.1 - Casting \\[3 points\\] ###\n",
    "\n",
    "In this exercise you will learn how to apply casting on tensors.\n",
    "\n",
    "<span style=\"color:#00BFFF\"><em>Parameters</em></span>:\n",
    "- <span style=\"color:#00BFFF\"><em>t:</em></span> Defines the tensor (torch.tensor).\n",
    "\n",
    "<b><span style=\"color:teal\">TODO:</span> <b>\n",
    "<dl>\n",
    "<dd><span style=\"color:teal\">1. Implement the method <span style=\"color:#DC143C\"><em>cast_to_list</em></span> which casts a tensor <span style=\"color:#00BFFF\"><em>t</em></span> to a python list having the same dimensions.</span></dd>\n",
    "</dl>"
   ]
  },
  {
   "cell_type": "code",
   "execution_count": 444,
   "metadata": {
    "collapsed": false,
    "jupyter": {
     "outputs_hidden": false
    },
    "pycharm": {
     "name": "#%%\n"
    }
   },
   "outputs": [],
   "source": [
    "def cast_to_list(t: torch.tensor):\n",
    "    \"\"\"\n",
    "    Cast a tensor to a python list of the same dimensions.\n",
    "\n",
    "    :param t: PyTorch tensor.\n",
    "    :return: Python list of tensor.\n",
    "    \"\"\"\n",
    "\n",
    "    output = None\n",
    "\n",
    "    #############################################################################\n",
    "    #                            START OF YOUR CODE                             #\n",
    "    # TODO:                                                                     #\n",
    "    #    1) Cast a tensor to a python list of the same dimensions and return    #\n",
    "    #       the list.                                                           #\n",
    "    #############################################################################\n",
    "    t = torch.tensor([[11,12,13],[21,22,23],[31,32,33]])\n",
    "    output = t.tolist()\n",
    "\n",
    "    #############################################################################\n",
    "    #                              END OF YOUR CODE                             #\n",
    "    #############################################################################\n",
    "\n",
    "    return output"
   ]
  },
  {
   "cell_type": "code",
   "execution_count": 445,
   "metadata": {
    "collapsed": false,
    "jupyter": {
     "outputs_hidden": false
    },
    "pycharm": {
     "name": "#%%\n"
    }
   },
   "outputs": [
    {
     "name": "stderr",
     "output_type": "stream",
     "text": [
      "C:\\Users\\Dell\\OneDrive\\Desktop\\xAI-DL\\assignment1\\assignment1\\Programming\\code\\tests\\test_torch_tensors_basics.py:318: FutureWarning: You are using `torch.load` with `weights_only=False` (the current default value), which uses the default pickle module implicitly. It is possible to construct malicious pickle data which will execute arbitrary code during unpickling (See https://github.com/pytorch/pytorch/blob/main/SECURITY.md#untrusted-models for more details). In a future release, the default value for `weights_only` will be flipped to `True`. This limits the functions that could be executed during unpickling. Arbitrary objects will no longer be allowed to be loaded via this mode unless they are explicitly allowlisted by the user via `torch.serialization.add_safe_globals`. We recommend you start setting `weights_only=True` for any use case where you don't have full control of the loaded file. Please open an issue on GitHub for any issues related to this experimental feature.\n",
      "  expected_version = torch.load(\"../data/torch_tensors_basics/reference_tensor_operations.pt\")[\"t11\"]\n",
      ".\n",
      "----------------------------------------------------------------------\n",
      "Ran 1 test in 0.004s\n",
      "\n",
      "OK\n"
     ]
    }
   ],
   "source": [
    "# Test your code\n",
    "\n",
    "!python ./tests/test_torch_tensors_basics.py --test_case TestTensorOperations --test_function test_cast_to_list"
   ]
  },
  {
   "cell_type": "markdown",
   "metadata": {
    "collapsed": false,
    "jupyter": {
     "outputs_hidden": false
    }
   },
   "source": []
  },
  {
   "cell_type": "markdown",
   "metadata": {
    "collapsed": false,
    "jupyter": {
     "outputs_hidden": false
    },
    "pycharm": {
     "name": "#%% md\n"
    }
   },
   "source": [
    "<span style=\"color:#00BFFF\"><em>Parameters</em></span>:\n",
    "- <span style=\"color:#00BFFF\"><em>t:</em></span> Defines the tensor (torch.tensor).\n",
    "\n",
    "<b><span style=\"color:teal\">TODO:</span> <b>\n",
    "<dl>\n",
    "<dd><span style=\"color:teal\">2. Implement the method <span style=\"color:#DC143C\"><em>cast_to_numpy</em></span> which casts a tensor <span style=\"color:#00BFFF\"><em>t</em></span> to a numpy array having the same dimensions.</span></dd>\n",
    "</dl>"
   ]
  },
  {
   "cell_type": "code",
   "execution_count": 446,
   "metadata": {
    "collapsed": false,
    "jupyter": {
     "outputs_hidden": false
    },
    "pycharm": {
     "name": "#%%\n"
    }
   },
   "outputs": [],
   "source": [
    "def cast_to_numpy(t: torch.tensor):\n",
    "    \"\"\"\n",
    "    Cast a tensor to a numpy array of the same dimensions.\n",
    "\n",
    "    :param t: PyTorch tensor.\n",
    "    :return: Numpy array of tensor.\n",
    "    \"\"\"\n",
    "\n",
    "    output = None\n",
    "\n",
    "    #############################################################################\n",
    "    #                            START OF YOUR CODE                             #\n",
    "    # TODO:                                                                     #\n",
    "    #    1) Cast a tensor to a numpy array of the same dimensions and return    #\n",
    "    #       the array.                                                          #\n",
    "    #############################################################################\n",
    "    output = t.numpy()\n",
    "\n",
    "    #############################################################################\n",
    "    #                              END OF YOUR CODE                             #\n",
    "    #############################################################################\n",
    "\n",
    "    return output"
   ]
  },
  {
   "cell_type": "code",
   "execution_count": 447,
   "metadata": {
    "collapsed": false,
    "jupyter": {
     "outputs_hidden": false
    },
    "pycharm": {
     "name": "#%%\n"
    }
   },
   "outputs": [
    {
     "name": "stderr",
     "output_type": "stream",
     "text": [
      "C:\\Users\\Dell\\OneDrive\\Desktop\\xAI-DL\\assignment1\\assignment1\\Programming\\code\\tests\\test_torch_tensors_basics.py:328: FutureWarning: You are using `torch.load` with `weights_only=False` (the current default value), which uses the default pickle module implicitly. It is possible to construct malicious pickle data which will execute arbitrary code during unpickling (See https://github.com/pytorch/pytorch/blob/main/SECURITY.md#untrusted-models for more details). In a future release, the default value for `weights_only` will be flipped to `True`. This limits the functions that could be executed during unpickling. Arbitrary objects will no longer be allowed to be loaded via this mode unless they are explicitly allowlisted by the user via `torch.serialization.add_safe_globals`. We recommend you start setting `weights_only=True` for any use case where you don't have full control of the loaded file. Please open an issue on GitHub for any issues related to this experimental feature.\n",
      "  expected_version = torch.load(\"../data/torch_tensors_basics/reference_tensor_operations.pt\")[\"t12\"]\n",
      ".\n",
      "----------------------------------------------------------------------\n",
      "Ran 1 test in 0.004s\n",
      "\n",
      "OK\n"
     ]
    }
   ],
   "source": [
    "# Test your code\n",
    "\n",
    "!python ./tests/test_torch_tensors_basics.py --test_case TestTensorOperations --test_function test_cast_to_numpy"
   ]
  },
  {
   "cell_type": "markdown",
   "metadata": {
    "collapsed": false,
    "jupyter": {
     "outputs_hidden": false
    }
   },
   "source": []
  },
  {
   "cell_type": "markdown",
   "metadata": {
    "collapsed": false,
    "jupyter": {
     "outputs_hidden": false
    },
    "pycharm": {
     "name": "#%% md\n"
    }
   },
   "source": [
    "<span style=\"color:#00BFFF\"><em>Parameters</em></span>:\n",
    "- <span style=\"color:#00BFFF\"><em>t:</em></span> Defines the tensor (torch.tensor).\n",
    "\n",
    "<b><span style=\"color:teal\">TODO:</span> <b>\n",
    "<dl>\n",
    "<dd><span style=\"color:teal\">3. Implement the method <span style=\"color:#DC143C\"><em>cast_to_double</em></span> which casts a tensor <span style=\"color:#00BFFF\"><em>t</em></span> containing integer values to a tensor containing double values.</span></dd>\n",
    "</dl>"
   ]
  },
  {
   "cell_type": "code",
   "execution_count": 448,
   "metadata": {
    "collapsed": false,
    "jupyter": {
     "outputs_hidden": false
    },
    "pycharm": {
     "name": "#%%\n"
    }
   },
   "outputs": [],
   "source": [
    "def cast_to_double(t: torch.tensor):\n",
    "    \"\"\"\n",
    "    Cast an integer tensor to a double tensor.\n",
    "\n",
    "    :param t: PyTorch tensor containing integer values.\n",
    "    :return: PyTorch tensor containing double values.\n",
    "    \"\"\"\n",
    "\n",
    "    output = None\n",
    "\n",
    "    #############################################################################\n",
    "    #                            START OF YOUR CODE                             #\n",
    "    # TODO:                                                                     #\n",
    "    #    1) Cast the given tensor to a double tensor                             #\n",
    "    #############################################################################\n",
    "    output = t.to(torch.float64)\n",
    "\n",
    "    #############################################################################\n",
    "    #                              END OF YOUR CODE                             #\n",
    "    #############################################################################\n",
    "\n",
    "    return output"
   ]
  },
  {
   "cell_type": "code",
   "execution_count": 449,
   "metadata": {
    "collapsed": false,
    "jupyter": {
     "outputs_hidden": false
    },
    "pycharm": {
     "name": "#%%\n"
    }
   },
   "outputs": [
    {
     "name": "stderr",
     "output_type": "stream",
     "text": [
      "C:\\Users\\Dell\\OneDrive\\Desktop\\xAI-DL\\assignment1\\assignment1\\Programming\\code\\tests\\test_torch_tensors_basics.py:338: FutureWarning: You are using `torch.load` with `weights_only=False` (the current default value), which uses the default pickle module implicitly. It is possible to construct malicious pickle data which will execute arbitrary code during unpickling (See https://github.com/pytorch/pytorch/blob/main/SECURITY.md#untrusted-models for more details). In a future release, the default value for `weights_only` will be flipped to `True`. This limits the functions that could be executed during unpickling. Arbitrary objects will no longer be allowed to be loaded via this mode unless they are explicitly allowlisted by the user via `torch.serialization.add_safe_globals`. We recommend you start setting `weights_only=True` for any use case where you don't have full control of the loaded file. Please open an issue on GitHub for any issues related to this experimental feature.\n",
      "  expected_version = torch.load(\"../data/torch_tensors_basics/reference_tensor_operations.pt\")[\"t13\"]\n",
      ".\n",
      "----------------------------------------------------------------------\n",
      "Ran 1 test in 0.006s\n",
      "\n",
      "OK\n"
     ]
    }
   ],
   "source": [
    "# Test your code\n",
    "\n",
    "!python ./tests/test_torch_tensors_basics.py --test_case TestTensorOperations --test_function test_cast_to_double"
   ]
  },
  {
   "cell_type": "markdown",
   "metadata": {
    "collapsed": false,
    "jupyter": {
     "outputs_hidden": false
    }
   },
   "source": []
  },
  {
   "cell_type": "markdown",
   "metadata": {
    "collapsed": false,
    "jupyter": {
     "outputs_hidden": false
    },
    "pycharm": {
     "name": "#%% md\n"
    }
   },
   "source": [
    "<a name='5-2'></a>\n",
    "### 5.2 - Transform a Tensor \\[4 points\\] ###\n",
    "\n",
    "In this exercise you will learn how to transform a tensor to a different shape or a different arrangement of its elements. These transformations can be necessary to allow the combination of tensors or to enable the calculations within the neural networks we will be working with later on in the course.\n",
    "\n",
    "<span style=\"color:#00BFFF\"><em>Parameters</em></span>:\n",
    "- <span style=\"color:#00BFFF\"><em>t:</em></span> Defines the tensor (torch.tensor).\n",
    "- <span style=\"color:#00BFFF\"><em>shape:</em></span> Defines the new shape (tuple).\n",
    "\n",
    "<b><span style=\"color:teal\">TODO:</span> <b>\n",
    "<dl>\n",
    "<dd><span style=\"color:teal\">1. Implement the method <span style=\"color:#DC143C\"><em>reshape</em></span> which reshapes a tensor <span style=\"color:#00BFFF\"><em>t</em></span> to a new shape <span style=\"color:#00BFFF\"><em>shape</em></span>.</span></dd>\n",
    "</dl>"
   ]
  },
  {
   "cell_type": "code",
   "execution_count": 450,
   "metadata": {
    "collapsed": false,
    "jupyter": {
     "outputs_hidden": false
    },
    "pycharm": {
     "name": "#%%\n"
    }
   },
   "outputs": [],
   "source": [
    "def reshape(t: torch.tensor, new_shape: tuple):\n",
    "    \"\"\"\n",
    "    Reshape a tensor to a new shape.\n",
    "\n",
    "    :param t: PyTorch tensor.\n",
    "    :param new_shape: Tuple containing the new shape of the tensor.\n",
    "    :return: Reshaped PyTorch tensor with new shape.\n",
    "    \"\"\"\n",
    "\n",
    "    output = None\n",
    "\n",
    "    #############################################################################\n",
    "    #                            START OF YOUR CODE                             #\n",
    "    # TODO:                                                                     #\n",
    "    #    1) Reshape a tensor to a new shape                                     #\n",
    "    #############################################################################\n",
    "    t = torch.tensor([[11,12,13],[21,22,23],[31,32,33]])\n",
    "    output = t.reshape(new_shape)\n",
    "\n",
    "    #############################################################################\n",
    "    #                              END OF YOUR CODE                             #\n",
    "    #############################################################################\n",
    "\n",
    "    return output"
   ]
  },
  {
   "cell_type": "code",
   "execution_count": 451,
   "metadata": {
    "collapsed": false,
    "jupyter": {
     "outputs_hidden": false
    },
    "pycharm": {
     "name": "#%%\n"
    }
   },
   "outputs": [
    {
     "name": "stderr",
     "output_type": "stream",
     "text": [
      "C:\\Users\\Dell\\OneDrive\\Desktop\\xAI-DL\\assignment1\\assignment1\\Programming\\code\\tests\\test_torch_tensors_basics.py:348: FutureWarning: You are using `torch.load` with `weights_only=False` (the current default value), which uses the default pickle module implicitly. It is possible to construct malicious pickle data which will execute arbitrary code during unpickling (See https://github.com/pytorch/pytorch/blob/main/SECURITY.md#untrusted-models for more details). In a future release, the default value for `weights_only` will be flipped to `True`. This limits the functions that could be executed during unpickling. Arbitrary objects will no longer be allowed to be loaded via this mode unless they are explicitly allowlisted by the user via `torch.serialization.add_safe_globals`. We recommend you start setting `weights_only=True` for any use case where you don't have full control of the loaded file. Please open an issue on GitHub for any issues related to this experimental feature.\n",
      "  expected_version = torch.load(\"../data/torch_tensors_basics/reference_tensor_operations.pt\")[\"t14\"]\n",
      ".\n",
      "----------------------------------------------------------------------\n",
      "Ran 1 test in 0.004s\n",
      "\n",
      "OK\n"
     ]
    }
   ],
   "source": [
    "# Test your code\n",
    "\n",
    "!python ./tests/test_torch_tensors_basics.py --test_case TestTensorOperations --test_function test_reshape"
   ]
  },
  {
   "cell_type": "markdown",
   "metadata": {
    "collapsed": false,
    "jupyter": {
     "outputs_hidden": false
    }
   },
   "source": []
  },
  {
   "cell_type": "markdown",
   "metadata": {
    "collapsed": false,
    "jupyter": {
     "outputs_hidden": false
    },
    "pycharm": {
     "name": "#%% md\n"
    }
   },
   "source": [
    "<span style=\"color:#00BFFF\"><em>Parameters</em></span>:\n",
    "- <span style=\"color:#00BFFF\"><em>t:</em></span> Defines the tensor (torch.tensor).\n",
    "\n",
    "<b><span style=\"color:teal\">TODO:</span> <b>\n",
    "<dl>\n",
    "<dd><span style=\"color:teal\">2. Implement the method <span style=\"color:#DC143C\"><em>swap</em></span> which swaps the first axis (dimension) of a 3D-tensor <span style=\"color:#00BFFF\"><em>t</em></span> with its last axis (dimension).</span></dd>\n",
    "</dl>"
   ]
  },
  {
   "cell_type": "code",
   "execution_count": 452,
   "metadata": {
    "collapsed": false,
    "jupyter": {
     "outputs_hidden": false
    },
    "pycharm": {
     "name": "#%%\n"
    }
   },
   "outputs": [],
   "source": [
    "def swap(t: torch.tensor):\n",
    "    \"\"\"\n",
    "    Swap the first axis of a 3D-tensor with its last one.\n",
    "\n",
    "    :param t: PyTorch tensor.\n",
    "    :return: PyTorch tensor with its first and last axis being swapped.\n",
    "    \"\"\"\n",
    "\n",
    "    output = None\n",
    "\n",
    "    #############################################################################\n",
    "    #                            START OF YOUR CODE                             #\n",
    "    # TODO:                                                                     #\n",
    "    #    1) Swap the first axis of a tensor with its last one and return the    #\n",
    "    #       tensor.                                                             #\n",
    "    #############################################################################\n",
    "    t = torch.rand(3,3,3)\n",
    "    output = t.transpose(0,2)\n",
    "\n",
    "    #############################################################################\n",
    "    #                              END OF YOUR CODE                             #\n",
    "    #############################################################################\n",
    "\n",
    "    return output"
   ]
  },
  {
   "cell_type": "code",
   "execution_count": 453,
   "metadata": {
    "collapsed": false,
    "jupyter": {
     "outputs_hidden": false
    },
    "pycharm": {
     "name": "#%%\n"
    }
   },
   "outputs": [
    {
     "name": "stderr",
     "output_type": "stream",
     "text": [
      "C:\\Users\\Dell\\OneDrive\\Desktop\\xAI-DL\\assignment1\\assignment1\\Programming\\code\\tests\\test_torch_tensors_basics.py:358: FutureWarning: You are using `torch.load` with `weights_only=False` (the current default value), which uses the default pickle module implicitly. It is possible to construct malicious pickle data which will execute arbitrary code during unpickling (See https://github.com/pytorch/pytorch/blob/main/SECURITY.md#untrusted-models for more details). In a future release, the default value for `weights_only` will be flipped to `True`. This limits the functions that could be executed during unpickling. Arbitrary objects will no longer be allowed to be loaded via this mode unless they are explicitly allowlisted by the user via `torch.serialization.add_safe_globals`. We recommend you start setting `weights_only=True` for any use case where you don't have full control of the loaded file. Please open an issue on GitHub for any issues related to this experimental feature.\n",
      "  expected_version = torch.load(\"../data/torch_tensors_basics/reference_tensor_operations.pt\")[\"t15\"]\n",
      "F\n",
      "======================================================================\n",
      "FAIL: test_swap (__main__.TestTensorOperations)\n",
      "Test swapping the first axis of a 3D-tensor with its last one.\n",
      "----------------------------------------------------------------------\n",
      "Traceback (most recent call last):\n",
      "  File \"C:\\Users\\Dell\\OneDrive\\Desktop\\xAI-DL\\assignment1\\assignment1\\Programming\\code\\tests\\test_torch_tensors_basics.py\", line 360, in test_swap\n",
      "    self.assertEqual(student_version.type(), expected_version.type(), \"Type of solution is not correct!\")\n",
      "AssertionError: 'torch.FloatTensor' != 'torch.LongTensor'\n",
      "- torch.FloatTensor\n",
      "?       ^^ ^^\n",
      "+ torch.LongTensor\n",
      "?       ^ ^^\n",
      " : Type of solution is not correct!\n",
      "\n",
      "----------------------------------------------------------------------\n",
      "Ran 1 test in 0.004s\n",
      "\n",
      "FAILED (failures=1)\n"
     ]
    }
   ],
   "source": [
    "# Test your code\n",
    "\n",
    "!python ./tests/test_torch_tensors_basics.py --test_case TestTensorOperations --test_function test_swap"
   ]
  },
  {
   "cell_type": "markdown",
   "metadata": {
    "collapsed": false,
    "jupyter": {
     "outputs_hidden": false
    }
   },
   "source": []
  },
  {
   "cell_type": "markdown",
   "metadata": {
    "collapsed": false,
    "jupyter": {
     "outputs_hidden": false
    },
    "pycharm": {
     "name": "#%% md\n"
    }
   },
   "source": [
    "<span style=\"color:#00BFFF\"><em>Parameters</em></span>:\n",
    "- <span style=\"color:#00BFFF\"><em>t:</em></span> Defines the tensor (torch.tensor).\n",
    "\n",
    "<b><span style=\"color:teal\">TODO:</span> <b>\n",
    "<dl>\n",
    "<dd><span style=\"color:teal\">3. Implement the method <span style=\"color:#DC143C\"><em>trans</em></span> which transposes a 2D-tensor <span style=\"color:#00BFFF\"><em>t</em></span>.</span></dd>\n",
    "</dl>"
   ]
  },
  {
   "cell_type": "code",
   "execution_count": 454,
   "metadata": {
    "collapsed": false,
    "jupyter": {
     "outputs_hidden": false
    },
    "pycharm": {
     "name": "#%%\n"
    }
   },
   "outputs": [],
   "source": [
    "def trans(t: torch.tensor):\n",
    "    \"\"\"\n",
    "    Transpose a 2D-tensor.\n",
    "\n",
    "    :param t: PyTorch 2D-tensor.\n",
    "    :return: Transposed version of tensor.\n",
    "    \"\"\"\n",
    "\n",
    "    output = None\n",
    "\n",
    "    #############################################################################\n",
    "    #                            START OF YOUR CODE                             #\n",
    "    # TODO:                                                                     #\n",
    "    #    1) Transpose the given tensor and return the result                    #\n",
    "    #############################################################################\n",
    "    t = torch.tensor([[11,12,13],[21,22,23],[31,32,33]])\n",
    "    output = t.T\n",
    "\n",
    "    #############################################################################\n",
    "    #                              END OF YOUR CODE                             #\n",
    "    #############################################################################\n",
    "\n",
    "    return output"
   ]
  },
  {
   "cell_type": "code",
   "execution_count": 455,
   "metadata": {
    "collapsed": false,
    "jupyter": {
     "outputs_hidden": false
    },
    "pycharm": {
     "name": "#%%\n"
    }
   },
   "outputs": [
    {
     "name": "stderr",
     "output_type": "stream",
     "text": [
      "C:\\Users\\Dell\\OneDrive\\Desktop\\xAI-DL\\assignment1\\assignment1\\Programming\\code\\tests\\test_torch_tensors_basics.py:368: FutureWarning: You are using `torch.load` with `weights_only=False` (the current default value), which uses the default pickle module implicitly. It is possible to construct malicious pickle data which will execute arbitrary code during unpickling (See https://github.com/pytorch/pytorch/blob/main/SECURITY.md#untrusted-models for more details). In a future release, the default value for `weights_only` will be flipped to `True`. This limits the functions that could be executed during unpickling. Arbitrary objects will no longer be allowed to be loaded via this mode unless they are explicitly allowlisted by the user via `torch.serialization.add_safe_globals`. We recommend you start setting `weights_only=True` for any use case where you don't have full control of the loaded file. Please open an issue on GitHub for any issues related to this experimental feature.\n",
      "  expected_version = torch.load(\"../data/torch_tensors_basics/reference_tensor_operations.pt\")[\"t16\"]\n",
      ".\n",
      "----------------------------------------------------------------------\n",
      "Ran 1 test in 0.004s\n",
      "\n",
      "OK\n"
     ]
    }
   ],
   "source": [
    "# Test your code\n",
    "\n",
    "!python ./tests/test_torch_tensors_basics.py --test_case TestTensorOperations --test_function test_trans"
   ]
  },
  {
   "cell_type": "markdown",
   "metadata": {
    "collapsed": false,
    "jupyter": {
     "outputs_hidden": false
    }
   },
   "source": []
  },
  {
   "cell_type": "markdown",
   "metadata": {
    "collapsed": false,
    "jupyter": {
     "outputs_hidden": false
    },
    "pycharm": {
     "name": "#%% md\n"
    }
   },
   "source": [
    "<span style=\"color:#00BFFF\"><em>Parameters</em></span>:\n",
    "- <span style=\"color:#00BFFF\"><em>t:</em></span> Defines the tensor (torch.tensor).\n",
    "\n",
    "<b><span style=\"color:teal\">TODO:</span> <b>\n",
    "<dl>\n",
    "<dd><span style=\"color:teal\">4. Implement the method <span style=\"color:#DC143C\"><em>pave</em></span> which paves an nD-tensor <span style=\"color:#00BFFF\"><em>t</em></span> to a 1D tensor.</span></dd>\n",
    "</dl>"
   ]
  },
  {
   "cell_type": "code",
   "execution_count": 476,
   "metadata": {
    "collapsed": false,
    "jupyter": {
     "outputs_hidden": false
    },
    "pycharm": {
     "name": "#%%\n"
    }
   },
   "outputs": [],
   "source": [
    "def pave(t: torch.tensor):\n",
    "    \"\"\"\n",
    "    Pave an nD-tensor to a 1D-tensor.\n",
    "\n",
    "    :param t: PyTorch tensor.\n",
    "    :return: 1D version of the tensor.\n",
    "    \"\"\"\n",
    "\n",
    "    output = None\n",
    "\n",
    "    #############################################################################\n",
    "    #                            START OF YOUR CODE                             #\n",
    "    # TODO:                                                                     #\n",
    "    #    1) Pave the given nD tensor to a 1D version of it                      #\n",
    "    #############################################################################\n",
    "    t = torch.tensor([[11,12,13],[21,22,23],[31,32,33]])\n",
    "    output = t.flatten()\n",
    "\n",
    "    #############################################################################\n",
    "    #                              END OF YOUR CODE                             #\n",
    "    #############################################################################\n",
    "\n",
    "    return output"
   ]
  },
  {
   "cell_type": "code",
   "execution_count": 477,
   "metadata": {
    "collapsed": false,
    "jupyter": {
     "outputs_hidden": false
    },
    "pycharm": {
     "name": "#%%\n"
    },
    "scrolled": true
   },
   "outputs": [
    {
     "name": "stderr",
     "output_type": "stream",
     "text": [
      "C:\\Users\\Dell\\OneDrive\\Desktop\\xAI-DL\\assignment1\\assignment1\\Programming\\code\\tests\\test_torch_tensors_basics.py:378: FutureWarning: You are using `torch.load` with `weights_only=False` (the current default value), which uses the default pickle module implicitly. It is possible to construct malicious pickle data which will execute arbitrary code during unpickling (See https://github.com/pytorch/pytorch/blob/main/SECURITY.md#untrusted-models for more details). In a future release, the default value for `weights_only` will be flipped to `True`. This limits the functions that could be executed during unpickling. Arbitrary objects will no longer be allowed to be loaded via this mode unless they are explicitly allowlisted by the user via `torch.serialization.add_safe_globals`. We recommend you start setting `weights_only=True` for any use case where you don't have full control of the loaded file. Please open an issue on GitHub for any issues related to this experimental feature.\n",
      "  expected_version = torch.load(\"../data/torch_tensors_basics/reference_tensor_operations.pt\")[\"t17\"]\n",
      ".\n",
      "----------------------------------------------------------------------\n",
      "Ran 1 test in 0.004s\n",
      "\n",
      "OK\n"
     ]
    }
   ],
   "source": [
    "# Test your code\n",
    "\n",
    "!python ./tests/test_torch_tensors_basics.py --test_case TestTensorOperations --test_function test_pave"
   ]
  },
  {
   "cell_type": "markdown",
   "metadata": {
    "collapsed": false,
    "jupyter": {
     "outputs_hidden": false
    }
   },
   "source": []
  },
  {
   "cell_type": "markdown",
   "metadata": {
    "collapsed": false,
    "jupyter": {
     "outputs_hidden": false
    },
    "pycharm": {
     "name": "#%% md\n"
    }
   },
   "source": [
    "<a name='5-3'></a>\n",
    "### 5.3 - Concatenate Tensors \\[1 point\\] ###\n",
    "\n",
    "In this exercise you will learn how to concatenate tensors together to one single tensor.\n",
    "\n",
    "<span style=\"color:#00BFFF\"><em>Parameters</em></span>:\n",
    "- <span style=\"color:#00BFFF\"><em>t1:</em></span> Defines the first tensor (torch.tensor).\n",
    "- <span style=\"color:#00BFFF\"><em>t2:</em></span> Defines the second tensor (torch.tensor).\n",
    "- <span style=\"color:#00BFFF\"><em>ax:</em></span> Defines the concatenation axis (int).\n",
    "\n",
    "<b><span style=\"color:teal\">TODO:</span> <b>\n",
    "<dl>\n",
    "<dd><span style=\"color:teal\">1. Implement the method <span style=\"color:#DC143C\"><em>concat</em></span> which concatenates two tensors <span style=\"color:#00BFFF\"><em>t1</em></span> and <span style=\"color:#00BFFF\"><em>t2</em></span> along the given axis <span style=\"color:#00BFFF\"><em>ax</em></span>.</span></dd>\n",
    "\n",
    "<b><span style=\"color:#B8860B\">Hints:</span> <b>\n",
    "<dl>\n",
    "<dd><span style=\"color:#B8860B\">1. Some tensor combinations can not be concatenated together directly but require some transformations first (e.g transposing the second tensor to match the shape of the first one).</span></dd>\n",
    "<dd><span style=\"color:#B8860B\">2. Some tensor combinations can never be concatenated together and should be dealt with accordingly (e.g. raise an error).</span></dd>\n",
    "</dl>\n",
    "\n",
    "</dl>"
   ]
  },
  {
   "cell_type": "code",
   "execution_count": 478,
   "metadata": {
    "collapsed": false,
    "jupyter": {
     "outputs_hidden": false
    },
    "pycharm": {
     "name": "#%%\n"
    }
   },
   "outputs": [],
   "source": [
    "def concat(t1: torch.tensor, t2: torch.tensor, ax: int):\n",
    "    \"\"\"\n",
    "    Concatenate two tensors along the given axis.\n",
    "\n",
    "    :param t1: PyTorch tensor.\n",
    "    :param t2: PyTorch tensor.\n",
    "    :param ax: Concatenation axis.\n",
    "    :return: Concatenation of the two tensors.\n",
    "    \"\"\"\n",
    "\n",
    "    output = None\n",
    "\n",
    "    #############################################################################\n",
    "    #                            START OF YOUR CODE                             #\n",
    "    # TODO:                                                                     #\n",
    "    #    1) Concatenate two tensors along the given axis.                       #\n",
    "    #############################################################################\n",
    "    t1 = torch.tensor([[11,12],[21,22],[31,32]])\n",
    "    t2 = torch.tensor([[41,42],[51,52],[61,62]])\n",
    "    output = concat(t1,t2, ax=1)\n",
    "    #############################################################################\n",
    "    #                              END OF YOUR CODE                             #\n",
    "    #############################################################################\n",
    "\n",
    "    return output"
   ]
  },
  {
   "cell_type": "code",
   "execution_count": 480,
   "metadata": {
    "collapsed": false,
    "jupyter": {
     "outputs_hidden": false
    },
    "pycharm": {
     "name": "#%%\n"
    }
   },
   "outputs": [],
   "source": [
    "# Test your code\n",
    "\n",
    "!python ./tests/test_torch_tensors_basics.py --test_case TestTensorOperations --test_function test_concat1\n",
    "!python ./tests/test_torch_tensors_basics.py --test_case TestTensorOperations --test_function test_concat2"
   ]
  },
  {
   "cell_type": "markdown",
   "metadata": {
    "collapsed": false,
    "jupyter": {
     "outputs_hidden": false
    }
   },
   "source": []
  },
  {
   "cell_type": "markdown",
   "metadata": {
    "collapsed": false,
    "jupyter": {
     "outputs_hidden": false
    },
    "pycharm": {
     "name": "#%% md\n"
    }
   },
   "source": [
    "<a id='6'></a>\n",
    "## 6 - End of Exercise ##\n",
    "\n",
    "<div>\n",
    "    <img src=\"../img/memes/meme_youDidIt_03.png\" width=\"700\"/>\n",
    "</div>\n",
    "\n",
    "Created with and licensed under [Adobe Express](https://www.adobe.com/de/express/)"
   ]
  },
  {
   "cell_type": "code",
   "execution_count": null,
   "metadata": {
    "collapsed": false,
    "jupyter": {
     "outputs_hidden": false
    },
    "pycharm": {
     "name": "#%%\n"
    }
   },
   "outputs": [],
   "source": []
  }
 ],
 "metadata": {
  "kernelspec": {
   "display_name": "Python 3 (ipykernel)",
   "language": "python",
   "name": "python3"
  },
  "language_info": {
   "codemirror_mode": {
    "name": "ipython",
    "version": 3
   },
   "file_extension": ".py",
   "mimetype": "text/x-python",
   "name": "python",
   "nbconvert_exporter": "python",
   "pygments_lexer": "ipython3",
   "version": "3.9.20"
  }
 },
 "nbformat": 4,
 "nbformat_minor": 4
}
